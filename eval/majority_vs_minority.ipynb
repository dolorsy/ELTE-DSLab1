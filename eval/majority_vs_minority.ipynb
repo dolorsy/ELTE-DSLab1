{
 "cells": [
  {
   "cell_type": "code",
   "id": "initial_id",
   "metadata": {
    "collapsed": true,
    "ExecuteTime": {
     "end_time": "2025-06-13T14:25:21.728006Z",
     "start_time": "2025-06-13T14:25:17.560202Z"
    }
   },
   "source": [
    "from sdv.metadata import Metadata\n",
    "import numpy as np\n",
    "import pandas as pd\n",
    "import matplotlib.pyplot as plt\n"
   ],
   "outputs": [],
   "execution_count": 2
  },
  {
   "metadata": {
    "ExecuteTime": {
     "end_time": "2025-06-13T14:34:01.060571Z",
     "start_time": "2025-06-13T14:34:01.003106Z"
    }
   },
   "cell_type": "code",
   "source": [
    "df_m = \"df_min\"\n",
    "df_majority = \"df_majority\"\n",
    "\n",
    "selected_file = df_m\n",
    "files = [df_m, df_majority]\n",
    "df= pd.read_csv(\"../dataset/\" + selected_file + \".csv\")\n",
    "df_fake = pd.read_csv(\"../dataset/fake_\" + selected_file + \".csv\")\n"
   ],
   "id": "fb6a3ed4a38efb1c",
   "outputs": [],
   "execution_count": 4
  },
  {
   "metadata": {
    "ExecuteTime": {
     "end_time": "2025-06-13T14:34:02.329874Z",
     "start_time": "2025-06-13T14:34:02.302415Z"
    }
   },
   "cell_type": "code",
   "source": [
    "df= df.drop(columns=[\"Unnamed: 0\"])\n",
    "df.head()"
   ],
   "id": "4754e79b586c240f",
   "outputs": [
    {
     "data": {
      "text/plain": [
       "   type     amount  oldbalanceOrg  newbalanceOrig  oldbalanceDest  \\\n",
       "0     1     181.00         181.00             0.0        21182.00   \n",
       "1     1    2806.00        2806.00             0.0        26202.00   \n",
       "2     1   20128.00       20128.00             0.0         6268.00   \n",
       "3     1   25071.46       25071.46             0.0         9083.76   \n",
       "4     1  235238.66      235238.66             0.0            0.00   \n",
       "\n",
       "   newbalanceDest  \n",
       "0            0.00  \n",
       "1            0.00  \n",
       "2        12145.85  \n",
       "3        34155.22  \n",
       "4       235238.66  "
      ],
      "text/html": [
       "<div>\n",
       "<style scoped>\n",
       "    .dataframe tbody tr th:only-of-type {\n",
       "        vertical-align: middle;\n",
       "    }\n",
       "\n",
       "    .dataframe tbody tr th {\n",
       "        vertical-align: top;\n",
       "    }\n",
       "\n",
       "    .dataframe thead th {\n",
       "        text-align: right;\n",
       "    }\n",
       "</style>\n",
       "<table border=\"1\" class=\"dataframe\">\n",
       "  <thead>\n",
       "    <tr style=\"text-align: right;\">\n",
       "      <th></th>\n",
       "      <th>type</th>\n",
       "      <th>amount</th>\n",
       "      <th>oldbalanceOrg</th>\n",
       "      <th>newbalanceOrig</th>\n",
       "      <th>oldbalanceDest</th>\n",
       "      <th>newbalanceDest</th>\n",
       "    </tr>\n",
       "  </thead>\n",
       "  <tbody>\n",
       "    <tr>\n",
       "      <th>0</th>\n",
       "      <td>1</td>\n",
       "      <td>181.00</td>\n",
       "      <td>181.00</td>\n",
       "      <td>0.0</td>\n",
       "      <td>21182.00</td>\n",
       "      <td>0.00</td>\n",
       "    </tr>\n",
       "    <tr>\n",
       "      <th>1</th>\n",
       "      <td>1</td>\n",
       "      <td>2806.00</td>\n",
       "      <td>2806.00</td>\n",
       "      <td>0.0</td>\n",
       "      <td>26202.00</td>\n",
       "      <td>0.00</td>\n",
       "    </tr>\n",
       "    <tr>\n",
       "      <th>2</th>\n",
       "      <td>1</td>\n",
       "      <td>20128.00</td>\n",
       "      <td>20128.00</td>\n",
       "      <td>0.0</td>\n",
       "      <td>6268.00</td>\n",
       "      <td>12145.85</td>\n",
       "    </tr>\n",
       "    <tr>\n",
       "      <th>3</th>\n",
       "      <td>1</td>\n",
       "      <td>25071.46</td>\n",
       "      <td>25071.46</td>\n",
       "      <td>0.0</td>\n",
       "      <td>9083.76</td>\n",
       "      <td>34155.22</td>\n",
       "    </tr>\n",
       "    <tr>\n",
       "      <th>4</th>\n",
       "      <td>1</td>\n",
       "      <td>235238.66</td>\n",
       "      <td>235238.66</td>\n",
       "      <td>0.0</td>\n",
       "      <td>0.00</td>\n",
       "      <td>235238.66</td>\n",
       "    </tr>\n",
       "  </tbody>\n",
       "</table>\n",
       "</div>"
      ]
     },
     "execution_count": 5,
     "metadata": {},
     "output_type": "execute_result"
    }
   ],
   "execution_count": 5
  },
  {
   "metadata": {
    "ExecuteTime": {
     "end_time": "2025-06-13T14:34:03.547295Z",
     "start_time": "2025-06-13T14:34:03.535289Z"
    }
   },
   "cell_type": "code",
   "source": "df_fake.head()",
   "id": "b1a5226ea5995a57",
   "outputs": [
    {
     "data": {
      "text/plain": [
       "   type     amount  oldbalanceOrg  newbalanceOrig  oldbalanceDest  \\\n",
       "0     4  479982.30      792001.28            0.00            0.00   \n",
       "1     1   44449.46       47688.89            0.00        29086.87   \n",
       "2     4  982102.67      602964.14            0.00            0.00   \n",
       "3     4   51395.55      142310.86            0.00        25178.16   \n",
       "4     4   93283.56      101835.02         7912.79        33998.11   \n",
       "\n",
       "   newbalanceDest  \n",
       "0        37578.33  \n",
       "1       242051.44  \n",
       "2            0.00  \n",
       "3            0.00  \n",
       "4        43772.83  "
      ],
      "text/html": [
       "<div>\n",
       "<style scoped>\n",
       "    .dataframe tbody tr th:only-of-type {\n",
       "        vertical-align: middle;\n",
       "    }\n",
       "\n",
       "    .dataframe tbody tr th {\n",
       "        vertical-align: top;\n",
       "    }\n",
       "\n",
       "    .dataframe thead th {\n",
       "        text-align: right;\n",
       "    }\n",
       "</style>\n",
       "<table border=\"1\" class=\"dataframe\">\n",
       "  <thead>\n",
       "    <tr style=\"text-align: right;\">\n",
       "      <th></th>\n",
       "      <th>type</th>\n",
       "      <th>amount</th>\n",
       "      <th>oldbalanceOrg</th>\n",
       "      <th>newbalanceOrig</th>\n",
       "      <th>oldbalanceDest</th>\n",
       "      <th>newbalanceDest</th>\n",
       "    </tr>\n",
       "  </thead>\n",
       "  <tbody>\n",
       "    <tr>\n",
       "      <th>0</th>\n",
       "      <td>4</td>\n",
       "      <td>479982.30</td>\n",
       "      <td>792001.28</td>\n",
       "      <td>0.00</td>\n",
       "      <td>0.00</td>\n",
       "      <td>37578.33</td>\n",
       "    </tr>\n",
       "    <tr>\n",
       "      <th>1</th>\n",
       "      <td>1</td>\n",
       "      <td>44449.46</td>\n",
       "      <td>47688.89</td>\n",
       "      <td>0.00</td>\n",
       "      <td>29086.87</td>\n",
       "      <td>242051.44</td>\n",
       "    </tr>\n",
       "    <tr>\n",
       "      <th>2</th>\n",
       "      <td>4</td>\n",
       "      <td>982102.67</td>\n",
       "      <td>602964.14</td>\n",
       "      <td>0.00</td>\n",
       "      <td>0.00</td>\n",
       "      <td>0.00</td>\n",
       "    </tr>\n",
       "    <tr>\n",
       "      <th>3</th>\n",
       "      <td>4</td>\n",
       "      <td>51395.55</td>\n",
       "      <td>142310.86</td>\n",
       "      <td>0.00</td>\n",
       "      <td>25178.16</td>\n",
       "      <td>0.00</td>\n",
       "    </tr>\n",
       "    <tr>\n",
       "      <th>4</th>\n",
       "      <td>4</td>\n",
       "      <td>93283.56</td>\n",
       "      <td>101835.02</td>\n",
       "      <td>7912.79</td>\n",
       "      <td>33998.11</td>\n",
       "      <td>43772.83</td>\n",
       "    </tr>\n",
       "  </tbody>\n",
       "</table>\n",
       "</div>"
      ]
     },
     "execution_count": 6,
     "metadata": {},
     "output_type": "execute_result"
    }
   ],
   "execution_count": 6
  },
  {
   "metadata": {},
   "cell_type": "markdown",
   "source": [
    "This metric measures the correlation between a pair of numerical columns and computes the similarity between the real and synthetic data -- aka it compares the trends of 2D distributions.\n",
    "\n",
    "Let's try amount and newbalanceDest\n",
    "If all clusters results was high -> i have totally noisy random distribution"
   ],
   "id": "3e4d1bd2e91d1f5a"
  },
  {
   "metadata": {
    "ExecuteTime": {
     "end_time": "2025-06-13T14:34:09.622083Z",
     "start_time": "2025-06-13T14:34:09.519633Z"
    }
   },
   "cell_type": "code",
   "source": [
    "from sdmetrics.column_pairs import CorrelationSimilarity\n",
    "correlation_similarities = []\n",
    "for file in files:\n",
    "    df_org = pd.read_csv(\"../dataset/\" + file + \".csv\")\n",
    "    df_org = df_org.drop(columns=[\"Unnamed: 0\"])\n",
    "    df_fake = pd.read_csv(\"../dataset/fake_\" + file + \".csv\")\n",
    "    print(file)\n",
    "    correlation_similarity = CorrelationSimilarity.compute(\n",
    "    real_data=df_org[[\"amount\",\"newbalanceDest\"]],\n",
    "    synthetic_data=df_fake[[\"amount\",\"newbalanceDest\"]],\n",
    "    coefficient='Spearman'\n",
    "    )\n",
    "    print(correlation_similarity)\n",
    "    correlation_similarities.append(correlation_similarity)\n"
   ],
   "id": "c23822306ed19c7",
   "outputs": [
    {
     "name": "stdout",
     "output_type": "stream",
     "text": [
      "df_min\n",
      "0.8868432187994814\n",
      "df_majority\n",
      "0.994517328976503\n"
     ]
    }
   ],
   "execution_count": 7
  },
  {
   "metadata": {},
   "cell_type": "markdown",
   "source": "",
   "id": "4be740ebec91707e"
  },
  {
   "metadata": {},
   "cell_type": "markdown",
   "source": [
    "KSComplement, This metric computes the similarity of a real column vs. a synthetic column in terms of the column shapes -- aka the marginal distribution or 1D histogram of the column.\n",
    "\n",
    "marginal distribution or 1D histogram"
   ],
   "id": "d85f5a1f5133bb57"
  },
  {
   "metadata": {
    "ExecuteTime": {
     "end_time": "2025-06-13T14:34:22.552448Z",
     "start_time": "2025-06-13T14:34:22.478391Z"
    }
   },
   "cell_type": "code",
   "source": [
    "from sdmetrics.single_column import KSComplement\n",
    "correlation_similarities = []\n",
    "column_scores = []\n",
    "for file in files:\n",
    "    df_org = pd.read_csv(\"../dataset/\" + file + \".csv\")\n",
    "    df_org = df_org.drop(columns=[\"Unnamed: 0\"])\n",
    "    df_fake = pd.read_csv(\"../dataset/fake_\" + file + \".csv\")\n",
    "    print(file)\n",
    "    for column in df_org.columns:\n",
    "        if column in [\"type\"]:\n",
    "            continue\n",
    "        ks_comp = KSComplement.compute(\n",
    "        real_data=df_org[column],\n",
    "        synthetic_data=df_fake[column],\n",
    "        )\n",
    "        # print(column)\n",
    "        # print(ks_comp)\n",
    "        column_scores.append(ks_comp)\n",
    "\n",
    "    avg = sum(column_scores)/len(column_scores)\n",
    "    print(avg)\n",
    "    correlation_similarities.append(avg)\n",
    "    column_scores = []\n"
   ],
   "id": "362f78d9535751a6",
   "outputs": [
    {
     "name": "stdout",
     "output_type": "stream",
     "text": [
      "df_min\n",
      "0.776914647510045\n",
      "df_majority\n",
      "0.7889268292682926\n"
     ]
    }
   ],
   "execution_count": 8
  },
  {
   "metadata": {
    "ExecuteTime": {
     "end_time": "2025-06-13T14:34:23.687414Z",
     "start_time": "2025-06-13T14:34:23.683411Z"
    }
   },
   "cell_type": "code",
   "source": "",
   "id": "44478c269e861097",
   "outputs": [],
   "execution_count": null
  },
  {
   "metadata": {},
   "cell_type": "markdown",
   "source": "StatisticSimilarity: This metric measures the similarity between a real column and a synthetic column by comparing a summary statistic. Supported summary statistics are: mean, median and standard deviation.\n",
   "id": "d0e54e1a37e95a75"
  },
  {
   "metadata": {
    "ExecuteTime": {
     "end_time": "2025-06-13T14:34:25.471561Z",
     "start_time": "2025-06-13T14:34:25.419655Z"
    }
   },
   "cell_type": "code",
   "source": [
    "import math\n",
    "from sdmetrics.single_column import StatisticSimilarity\n",
    "correlation_similarities = []\n",
    "column_scores = []\n",
    "for file in files:\n",
    "    df_org = pd.read_csv(\"../dataset/\" + file + \".csv\")\n",
    "    df_org = df_org.drop(columns=[\"Unnamed: 0\"])\n",
    "    df_fake = pd.read_csv(\"../dataset/fake_\" + file + \".csv\")\n",
    "    print(file)\n",
    "    for column in df_org.columns:\n",
    "        if column in [\"type\"]:\n",
    "            continue\n",
    "        ks_comp = StatisticSimilarity.compute(\n",
    "        real_data=df_org[column],\n",
    "        synthetic_data=df_fake[column],\n",
    "        statistic=\"std\"\n",
    "        )\n",
    "        if math.isnan(ks_comp):\n",
    "            continue\n",
    "        # print(column)\n",
    "        # print(ks_comp)\n",
    "        column_scores.append(ks_comp)\n",
    "\n",
    "    avg = sum(column_scores)/len(column_scores)\n",
    "    print(avg)\n",
    "    correlation_similarities.append(avg)\n",
    "    column_scores = []\n"
   ],
   "id": "173ff06b4e618775",
   "outputs": [
    {
     "name": "stdout",
     "output_type": "stream",
     "text": [
      "df_min\n",
      "0.989564185181751\n",
      "df_majority\n",
      "0.9939953072188615\n"
     ]
    }
   ],
   "execution_count": 9
  },
  {
   "metadata": {
    "ExecuteTime": {
     "end_time": "2025-06-13T14:34:26.419394Z",
     "start_time": "2025-06-13T14:34:26.416502Z"
    }
   },
   "cell_type": "code",
   "source": "",
   "id": "f3edec491e7800b5",
   "outputs": [],
   "execution_count": null
  },
  {
   "metadata": {},
   "cell_type": "markdown",
   "source": [
    "TVComplement:\n",
    "This metric computes the similarity of a real column vs. a synthetic column in terms of the column shapes -- aka the marginal distribution or 1D histogram of the column.\n",
    "Only for categorical data"
   ],
   "id": "c8d488f9bee9df12"
  },
  {
   "metadata": {
    "ExecuteTime": {
     "end_time": "2025-06-13T14:34:27.806933Z",
     "start_time": "2025-06-13T14:34:27.752470Z"
    }
   },
   "cell_type": "code",
   "source": [
    "from sdmetrics.single_column import TVComplement\n",
    "correlation_similarities = []\n",
    "for file in files:\n",
    "    df_org = pd.read_csv(\"../dataset/\" + file + \".csv\")\n",
    "    df_org = df_org.drop(columns=[\"Unnamed: 0\"])\n",
    "    df_fake = pd.read_csv(\"../dataset/fake_\" + file + \".csv\")\n",
    "    print(file)\n",
    "    ks_comp = TVComplement.compute(\n",
    "    real_data=df_org[\"type\"],\n",
    "    synthetic_data=df_fake[\"type\"],\n",
    "    )\n",
    "\n",
    "    print(ks_comp)\n"
   ],
   "id": "3bb2f208b0e8ec01",
   "outputs": [
    {
     "name": "stdout",
     "output_type": "stream",
     "text": [
      "df_min\n",
      "0.9929380250821868\n",
      "df_majority\n",
      "0.9523170731707318\n"
     ]
    }
   ],
   "execution_count": 10
  },
  {
   "metadata": {
    "ExecuteTime": {
     "end_time": "2025-06-13T14:34:28.417035Z",
     "start_time": "2025-06-13T14:34:28.413145Z"
    }
   },
   "cell_type": "code",
   "source": "",
   "id": "8a6010b3affb24bd",
   "outputs": [],
   "execution_count": null
  },
  {
   "metadata": {},
   "cell_type": "markdown",
   "source": "Privacy metrics",
   "id": "e06ee7ca26237f19"
  },
  {
   "metadata": {
    "ExecuteTime": {
     "end_time": "2025-06-13T14:34:29.785073Z",
     "start_time": "2025-06-13T14:34:29.781911Z"
    }
   },
   "cell_type": "code",
   "source": "",
   "id": "aead4c79fe20d596",
   "outputs": [],
   "execution_count": null
  },
  {
   "metadata": {},
   "cell_type": "markdown",
   "source": [
    "The DCRBaselineProtection metric measures the distance between your synthetic data and real data to measure how private it is. For a fair measurement, it compares the distance against randomly generated data, which would provide the best possible privacy protection.\n",
    "\n",
    "DCR = Distance to Closest Record\n"
   ],
   "id": "c514f25de4274d65"
  },
  {
   "metadata": {
    "ExecuteTime": {
     "end_time": "2025-06-13T14:36:52.931194Z",
     "start_time": "2025-06-13T14:34:31.323802Z"
    }
   },
   "cell_type": "code",
   "source": [
    "from sdmetrics.single_table import DCRBaselineProtection\n",
    "from sdv.metadata import Metadata\n",
    "\n",
    "correlation_similarities = []\n",
    "for file in files:\n",
    "    df_org = pd.read_csv(\"../dataset/\" + file + \".csv\")\n",
    "    df_org = df_org.drop(columns=[\"Unnamed: 0\"])\n",
    "    df_fake = pd.read_csv(\"../dataset/fake_\" + file + \".csv\")\n",
    "    print(file)\n",
    "    ks_comp = DCRBaselineProtection.compute_breakdown(\n",
    "    real_data=df_org,\n",
    "    synthetic_data=df_fake,\n",
    "    metadata= Metadata.detect_from_dataframe(df_org).to_dict().get(\"tables\").get(\"table\")\n",
    "    )\n",
    "\n",
    "    print(ks_comp['score'])\n"
   ],
   "id": "e12149aee966daa5",
   "outputs": [
    {
     "name": "stdout",
     "output_type": "stream",
     "text": [
      "df_min\n",
      "0.0028982807629885535\n",
      "df_majority\n",
      "0.003173781414729576\n"
     ]
    }
   ],
   "execution_count": 11
  },
  {
   "metadata": {},
   "cell_type": "markdown",
   "source": [
    "(best) 1.0: The synthetic data has the highest possible privacy protection. Replacing the synthetic data entirely with random data would not improve the privacy.\n",
    "\n",
    "(worst) 0.0: The synthetic has the worst possible privacy protection. Compared to random data, the synthetic data is much closer to the real data."
   ],
   "id": "111e791bc712bb72"
  },
  {
   "metadata": {
    "ExecuteTime": {
     "end_time": "2025-06-13T14:36:52.963970Z",
     "start_time": "2025-06-13T14:36:52.960807Z"
    }
   },
   "cell_type": "code",
   "source": "",
   "id": "9ef799d107543621",
   "outputs": [],
   "execution_count": null
  },
  {
   "metadata": {},
   "cell_type": "markdown",
   "source": "The DisclosureProtection metric measures the risk associated with disclosing (aka broadly sharing) the synthetic data. It's a useful measurement if you want to know whether synthetic data is leaking patterns that pertain to sensitive information.",
   "id": "702da82498a815c4"
  },
  {
   "metadata": {
    "ExecuteTime": {
     "end_time": "2025-06-13T14:37:14.089738Z",
     "start_time": "2025-06-13T14:36:52.983015Z"
    }
   },
   "cell_type": "code",
   "source": [
    "from sdmetrics.single_table import DisclosureProtection\n",
    "from sdv.metadata import Metadata\n",
    "\n",
    "correlation_similarities = []\n",
    "for file in files:\n",
    "    df_org = pd.read_csv(\"../dataset/\" + file + \".csv\")\n",
    "    df_org = df_org.drop(columns=[\"Unnamed: 0\"])\n",
    "    df_fake = pd.read_csv(\"../dataset/fake_\" + file + \".csv\")\n",
    "    print(file)\n",
    "    ks_comp = DisclosureProtection.compute(\n",
    "    real_data=df_org,\n",
    "    synthetic_data=df_fake,\n",
    "    known_column_names=['newbalanceOrig','newbalanceDest','oldbalanceDest'],\n",
    "    sensitive_column_names=['amount'],\n",
    "    )\n",
    "\n",
    "    print(ks_comp)\n"
   ],
   "id": "12861aff2ab04be9",
   "outputs": [
    {
     "name": "stdout",
     "output_type": "stream",
     "text": [
      "df_min\n",
      "1\n",
      "df_majority\n",
      "1\n"
     ]
    }
   ],
   "execution_count": 12
  },
  {
   "metadata": {
    "ExecuteTime": {
     "end_time": "2025-06-13T14:37:14.110635Z",
     "start_time": "2025-06-13T14:37:14.107125Z"
    }
   },
   "cell_type": "code",
   "source": "",
   "id": "52a402c60c5c2c98",
   "outputs": [],
   "execution_count": null
  },
  {
   "metadata": {},
   "cell_type": "markdown",
   "source": [
    "The whole quality report\n",
    "\n",
    "The Single Table Quality Report evaluates how well your synthetic data captures mathematical properties in your data.\n",
    "\n",
    "AVG between Evaluating Column Shapes and Evaluating Column Pair Trends for each coloumn\n"
   ],
   "id": "1c71c77c8bab0995"
  },
  {
   "metadata": {
    "ExecuteTime": {
     "end_time": "2025-06-13T14:37:24.260807Z",
     "start_time": "2025-06-13T14:37:23.989444Z"
    }
   },
   "cell_type": "code",
   "source": [
    "from sdmetrics.reports.single_table import QualityReport\n",
    "\n",
    "report = QualityReport()\n",
    "\n",
    "for file in files:\n",
    "    df_org = pd.read_csv(\"../dataset/\" + file + \".csv\")\n",
    "    df_org = df_org.drop(columns=[\"Unnamed: 0\"])\n",
    "    df_fake = pd.read_csv(\"../dataset/fake_\" + file + \".csv\")\n",
    "    print(file)\n",
    "    report.generate(df_org, df_fake, Metadata.detect_from_dataframe(df_org).to_dict().get(\"tables\").get(\"table\"),verbose=False)\n",
    "    print(report.get_score())\n",
    "    # print(report.get_details(property_name='Column Shapes'))\n"
   ],
   "id": "63f916ea9ae931d8",
   "outputs": [
    {
     "name": "stdout",
     "output_type": "stream",
     "text": [
      "df_min\n",
      "0.8575771811363007\n",
      "df_majority\n",
      "0.8496341755874961\n"
     ]
    }
   ],
   "execution_count": 13
  },
  {
   "metadata": {},
   "cell_type": "code",
   "outputs": [],
   "execution_count": null,
   "source": "",
   "id": "957ed182ee2564fd"
  },
  {
   "metadata": {},
   "cell_type": "markdown",
   "source": "",
   "id": "2840e1cb686ddf09"
  },
  {
   "metadata": {},
   "cell_type": "code",
   "outputs": [],
   "execution_count": null,
   "source": "",
   "id": "92073d51f7344d09"
  },
  {
   "metadata": {
    "ExecuteTime": {
     "end_time": "2025-06-13T14:49:00.796407Z",
     "start_time": "2025-06-13T14:49:00.793386Z"
    }
   },
   "cell_type": "code",
   "source": "",
   "id": "6dcf9270ad7bb75",
   "outputs": [],
   "execution_count": null
  },
  {
   "metadata": {},
   "cell_type": "code",
   "outputs": [],
   "execution_count": null,
   "source": "",
   "id": "db097f1b4fd91e1e"
  }
 ],
 "metadata": {
  "kernelspec": {
   "display_name": "Python 3",
   "language": "python",
   "name": "python3"
  },
  "language_info": {
   "codemirror_mode": {
    "name": "ipython",
    "version": 2
   },
   "file_extension": ".py",
   "mimetype": "text/x-python",
   "name": "python",
   "nbconvert_exporter": "python",
   "pygments_lexer": "ipython2",
   "version": "2.7.6"
  }
 },
 "nbformat": 4,
 "nbformat_minor": 5
}
