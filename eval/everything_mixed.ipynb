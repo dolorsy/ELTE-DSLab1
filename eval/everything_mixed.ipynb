{
 "cells": [
  {
   "metadata": {
    "ExecuteTime": {
     "end_time": "2025-06-10T21:21:12.911426Z",
     "start_time": "2025-06-10T21:21:12.908276Z"
    }
   },
   "cell_type": "code",
   "source": "",
   "id": "90853fc053f6ebac",
   "outputs": [],
   "execution_count": null
  },
  {
   "cell_type": "code",
   "id": "initial_id",
   "metadata": {
    "collapsed": true,
    "ExecuteTime": {
     "end_time": "2025-06-11T19:19:09.213840Z",
     "start_time": "2025-06-11T19:19:08.550745Z"
    }
   },
   "source": [
    "import numpy as np\n",
    "import pandas as pd\n",
    "import matplotlib.pyplot as plt\n",
    "import xgboost as xgb"
   ],
   "outputs": [],
   "execution_count": 1
  },
  {
   "metadata": {
    "ExecuteTime": {
     "end_time": "2025-06-11T19:19:09.279848Z",
     "start_time": "2025-06-11T19:19:09.230852Z"
    }
   },
   "cell_type": "code",
   "source": [
    "\n",
    "df_merged = 'merged_shuffled'\n",
    "# df_2 = pd.read_csv('../dataset/informative_cluster_2.csv')\n",
    "selected_file = df_merged\n",
    "df= pd.read_csv(\"../dataset/\" + selected_file + \".csv\")\n",
    "df_fake = pd.read_csv(\"../dataset/fake_\" + selected_file + \".csv\")\n",
    "files = [df_merged]"
   ],
   "id": "fb6a3ed4a38efb1c",
   "outputs": [],
   "execution_count": 2
  },
  {
   "metadata": {
    "ExecuteTime": {
     "end_time": "2025-06-11T19:19:09.823274Z",
     "start_time": "2025-06-11T19:19:09.814768Z"
    }
   },
   "cell_type": "code",
   "source": "",
   "id": "9e032ce0937a12fe",
   "outputs": [],
   "execution_count": null
  },
  {
   "metadata": {
    "ExecuteTime": {
     "end_time": "2025-06-11T19:19:09.880596Z",
     "start_time": "2025-06-11T19:19:09.856679Z"
    }
   },
   "cell_type": "code",
   "source": [
    "if 'Unnamed: 0' in df.columns:\n",
    "    df= df.drop(columns=[\"Unnamed: 0\"])\n",
    "df.head()"
   ],
   "id": "4754e79b586c240f",
   "outputs": [
    {
     "data": {
      "text/plain": [
       "   type      amount  oldbalanceOrg  newbalanceOrig  oldbalanceDest  \\\n",
       "0     1   205480.23        5949.01             0.0      1235745.12   \n",
       "1     1   167806.93      167806.93             0.0            0.00   \n",
       "2     1   181330.91       37778.00             0.0        36793.35   \n",
       "3     4   167907.12      167907.12             0.0            0.00   \n",
       "4     4  1434440.31     1434440.31             0.0            0.00   \n",
       "\n",
       "   newbalanceDest  \n",
       "0      1441225.36  \n",
       "1       167806.93  \n",
       "2       218124.26  \n",
       "3            0.00  \n",
       "4            0.00  "
      ],
      "text/html": [
       "<div>\n",
       "<style scoped>\n",
       "    .dataframe tbody tr th:only-of-type {\n",
       "        vertical-align: middle;\n",
       "    }\n",
       "\n",
       "    .dataframe tbody tr th {\n",
       "        vertical-align: top;\n",
       "    }\n",
       "\n",
       "    .dataframe thead th {\n",
       "        text-align: right;\n",
       "    }\n",
       "</style>\n",
       "<table border=\"1\" class=\"dataframe\">\n",
       "  <thead>\n",
       "    <tr style=\"text-align: right;\">\n",
       "      <th></th>\n",
       "      <th>type</th>\n",
       "      <th>amount</th>\n",
       "      <th>oldbalanceOrg</th>\n",
       "      <th>newbalanceOrig</th>\n",
       "      <th>oldbalanceDest</th>\n",
       "      <th>newbalanceDest</th>\n",
       "    </tr>\n",
       "  </thead>\n",
       "  <tbody>\n",
       "    <tr>\n",
       "      <th>0</th>\n",
       "      <td>1</td>\n",
       "      <td>205480.23</td>\n",
       "      <td>5949.01</td>\n",
       "      <td>0.0</td>\n",
       "      <td>1235745.12</td>\n",
       "      <td>1441225.36</td>\n",
       "    </tr>\n",
       "    <tr>\n",
       "      <th>1</th>\n",
       "      <td>1</td>\n",
       "      <td>167806.93</td>\n",
       "      <td>167806.93</td>\n",
       "      <td>0.0</td>\n",
       "      <td>0.00</td>\n",
       "      <td>167806.93</td>\n",
       "    </tr>\n",
       "    <tr>\n",
       "      <th>2</th>\n",
       "      <td>1</td>\n",
       "      <td>181330.91</td>\n",
       "      <td>37778.00</td>\n",
       "      <td>0.0</td>\n",
       "      <td>36793.35</td>\n",
       "      <td>218124.26</td>\n",
       "    </tr>\n",
       "    <tr>\n",
       "      <th>3</th>\n",
       "      <td>4</td>\n",
       "      <td>167907.12</td>\n",
       "      <td>167907.12</td>\n",
       "      <td>0.0</td>\n",
       "      <td>0.00</td>\n",
       "      <td>0.00</td>\n",
       "    </tr>\n",
       "    <tr>\n",
       "      <th>4</th>\n",
       "      <td>4</td>\n",
       "      <td>1434440.31</td>\n",
       "      <td>1434440.31</td>\n",
       "      <td>0.0</td>\n",
       "      <td>0.00</td>\n",
       "      <td>0.00</td>\n",
       "    </tr>\n",
       "  </tbody>\n",
       "</table>\n",
       "</div>"
      ]
     },
     "execution_count": 3,
     "metadata": {},
     "output_type": "execute_result"
    }
   ],
   "execution_count": 3
  },
  {
   "metadata": {
    "ExecuteTime": {
     "end_time": "2025-06-11T19:19:10.189818Z",
     "start_time": "2025-06-11T19:19:10.154610Z"
    }
   },
   "cell_type": "code",
   "source": "df_fake.head()",
   "id": "b1a5226ea5995a57",
   "outputs": [
    {
     "data": {
      "text/plain": [
       "   type     amount  oldbalanceOrg  newbalanceOrig  oldbalanceDest  \\\n",
       "0     1  249120.14     2377531.77          814.36        27632.75   \n",
       "1     1   14785.81       42063.94            0.00       176827.96   \n",
       "2     3    2086.72       59208.48         3865.90         2404.70   \n",
       "3     1  735091.18       71176.03        15203.80       682269.17   \n",
       "4     3   23479.01      123190.82         5494.57        12689.07   \n",
       "\n",
       "   newbalanceDest  \n",
       "0      4406226.70  \n",
       "1      1122000.98  \n",
       "2        30228.16  \n",
       "3      1134285.45  \n",
       "4            0.00  "
      ],
      "text/html": [
       "<div>\n",
       "<style scoped>\n",
       "    .dataframe tbody tr th:only-of-type {\n",
       "        vertical-align: middle;\n",
       "    }\n",
       "\n",
       "    .dataframe tbody tr th {\n",
       "        vertical-align: top;\n",
       "    }\n",
       "\n",
       "    .dataframe thead th {\n",
       "        text-align: right;\n",
       "    }\n",
       "</style>\n",
       "<table border=\"1\" class=\"dataframe\">\n",
       "  <thead>\n",
       "    <tr style=\"text-align: right;\">\n",
       "      <th></th>\n",
       "      <th>type</th>\n",
       "      <th>amount</th>\n",
       "      <th>oldbalanceOrg</th>\n",
       "      <th>newbalanceOrig</th>\n",
       "      <th>oldbalanceDest</th>\n",
       "      <th>newbalanceDest</th>\n",
       "    </tr>\n",
       "  </thead>\n",
       "  <tbody>\n",
       "    <tr>\n",
       "      <th>0</th>\n",
       "      <td>1</td>\n",
       "      <td>249120.14</td>\n",
       "      <td>2377531.77</td>\n",
       "      <td>814.36</td>\n",
       "      <td>27632.75</td>\n",
       "      <td>4406226.70</td>\n",
       "    </tr>\n",
       "    <tr>\n",
       "      <th>1</th>\n",
       "      <td>1</td>\n",
       "      <td>14785.81</td>\n",
       "      <td>42063.94</td>\n",
       "      <td>0.00</td>\n",
       "      <td>176827.96</td>\n",
       "      <td>1122000.98</td>\n",
       "    </tr>\n",
       "    <tr>\n",
       "      <th>2</th>\n",
       "      <td>3</td>\n",
       "      <td>2086.72</td>\n",
       "      <td>59208.48</td>\n",
       "      <td>3865.90</td>\n",
       "      <td>2404.70</td>\n",
       "      <td>30228.16</td>\n",
       "    </tr>\n",
       "    <tr>\n",
       "      <th>3</th>\n",
       "      <td>1</td>\n",
       "      <td>735091.18</td>\n",
       "      <td>71176.03</td>\n",
       "      <td>15203.80</td>\n",
       "      <td>682269.17</td>\n",
       "      <td>1134285.45</td>\n",
       "    </tr>\n",
       "    <tr>\n",
       "      <th>4</th>\n",
       "      <td>3</td>\n",
       "      <td>23479.01</td>\n",
       "      <td>123190.82</td>\n",
       "      <td>5494.57</td>\n",
       "      <td>12689.07</td>\n",
       "      <td>0.00</td>\n",
       "    </tr>\n",
       "  </tbody>\n",
       "</table>\n",
       "</div>"
      ]
     },
     "execution_count": 4,
     "metadata": {},
     "output_type": "execute_result"
    }
   ],
   "execution_count": 4
  },
  {
   "metadata": {},
   "cell_type": "markdown",
   "source": [
    "We can't calculate CorrelationSimilarity for minority clusters because there is totally constant values, type and origBalanceDist.\n",
    "This metric measures the correlation between a pair of numerical columns and computes the similarity between the real and synthetic data"
   ],
   "id": "3e4d1bd2e91d1f5a"
  },
  {
   "metadata": {
    "ExecuteTime": {
     "end_time": "2025-06-11T19:19:16.210555Z",
     "start_time": "2025-06-11T19:19:10.383196Z"
    }
   },
   "cell_type": "code",
   "source": [
    "from sdmetrics.column_pairs import CorrelationSimilarity\n",
    "correlation_similarities = []\n",
    "temp_files = [df_merged]\n",
    "for file in temp_files:\n",
    "    df_org = pd.read_csv(\"../dataset/\" + file + \".csv\")\n",
    "    if 'Unnamed: 0' in df_org.columns:\n",
    "        df_org = df_org.drop(columns=[\"Unnamed: 0\"])\n",
    "    df_fake = pd.read_csv(\"../dataset/fake_\" + file + \".csv\")\n",
    "    print(file)\n",
    "    correlation_similarity = CorrelationSimilarity.compute(\n",
    "    real_data=df_org,\n",
    "    synthetic_data=df_fake,\n",
    "    coefficient='Spearman'\n",
    "    )\n",
    "    print(correlation_similarity)\n",
    "    correlation_similarities.append(correlation_similarity)\n"
   ],
   "id": "c23822306ed19c7",
   "outputs": [
    {
     "name": "stdout",
     "output_type": "stream",
     "text": [
      "merged_shuffled\n",
      "0.9710241659290586\n"
     ]
    }
   ],
   "execution_count": 5
  },
  {
   "metadata": {},
   "cell_type": "markdown",
   "source": "KSComplement, This metric computes the similarity of a real column vs. a synthetic column in terms of the column shapes -- aka the marginal distribution or 1D histogram of the column.",
   "id": "d85f5a1f5133bb57"
  },
  {
   "metadata": {
    "ExecuteTime": {
     "end_time": "2025-06-11T19:19:16.373264Z",
     "start_time": "2025-06-11T19:19:16.276230Z"
    }
   },
   "cell_type": "code",
   "source": [
    "from sdmetrics.single_column import KSComplement\n",
    "correlation_similarities = []\n",
    "column_scores = []\n",
    "for file in files:\n",
    "    df_org = pd.read_csv(\"../dataset/\" + file + \".csv\")\n",
    "    if 'Unnamed: 0' in df_org.columns:\n",
    "        df_org = df_org.drop(columns=[\"Unnamed: 0\"])\n",
    "    df_fake = pd.read_csv(\"../dataset/fake_\" + file + \".csv\")\n",
    "    print(file)\n",
    "    for column in df_org.columns:\n",
    "        ks_comp = KSComplement.compute(\n",
    "        real_data=df_org[column],\n",
    "        synthetic_data=df_fake[column],\n",
    "        )\n",
    "        column_scores.append(ks_comp)\n",
    "\n",
    "    avg = sum(column_scores)/len(column_scores)\n",
    "    print(avg)\n",
    "    correlation_similarities.append(avg)\n",
    "    column_scores = []\n"
   ],
   "id": "362f78d9535751a6",
   "outputs": [
    {
     "name": "stdout",
     "output_type": "stream",
     "text": [
      "merged_shuffled\n",
      "0.7618554397936596\n"
     ]
    }
   ],
   "execution_count": 6
  },
  {
   "metadata": {
    "ExecuteTime": {
     "end_time": "2025-06-11T19:19:16.437273Z",
     "start_time": "2025-06-11T19:19:16.434315Z"
    }
   },
   "cell_type": "code",
   "source": "",
   "id": "44478c269e861097",
   "outputs": [],
   "execution_count": null
  },
  {
   "metadata": {},
   "cell_type": "markdown",
   "source": "StatisticSimilarity: This metric measures the similarity between a real column and a synthetic column by comparing a summary statistic. Supported summary statistics are: mean, median and standard deviation.\n",
   "id": "d0e54e1a37e95a75"
  },
  {
   "metadata": {
    "ExecuteTime": {
     "end_time": "2025-06-11T19:19:16.576667Z",
     "start_time": "2025-06-11T19:19:16.528714Z"
    }
   },
   "cell_type": "code",
   "source": [
    "from sdmetrics.single_column import StatisticSimilarity\n",
    "correlation_similarities = []\n",
    "column_scores = []\n",
    "for file in files:\n",
    "    df_org = pd.read_csv(\"../dataset/\" + file + \".csv\")\n",
    "    if 'Unnamed: 0' in df_org.columns:\n",
    "        df_org = df_org.drop(columns=[\"Unnamed: 0\"])\n",
    "    df_fake = pd.read_csv(\"../dataset/fake_\" + file + \".csv\")\n",
    "    print(file)\n",
    "    for column in df_org.columns:\n",
    "        ks_comp = StatisticSimilarity.compute(\n",
    "        real_data=df_org[column],\n",
    "        synthetic_data=df_fake[column],\n",
    "        )\n",
    "        column_scores.append(ks_comp)\n",
    "\n",
    "    avg = sum(column_scores)/len(column_scores)\n",
    "    print(avg)\n",
    "    correlation_similarities.append(avg)\n",
    "    column_scores = []\n"
   ],
   "id": "173ff06b4e618775",
   "outputs": [
    {
     "name": "stdout",
     "output_type": "stream",
     "text": [
      "merged_shuffled\n",
      "0.990544634458446\n"
     ]
    }
   ],
   "execution_count": 7
  },
  {
   "metadata": {
    "ExecuteTime": {
     "end_time": "2025-06-11T19:19:16.631688Z",
     "start_time": "2025-06-11T19:19:16.627632Z"
    }
   },
   "cell_type": "code",
   "source": "",
   "id": "f3edec491e7800b5",
   "outputs": [],
   "execution_count": null
  },
  {
   "metadata": {},
   "cell_type": "markdown",
   "source": [
    "TVComplement:\n",
    "This metric computes the similarity of a real column vs. a synthetic column in terms of the column shapes -- aka the marginal distribution or 1D histogram of the column.\n",
    "Only for categorical data"
   ],
   "id": "c8d488f9bee9df12"
  },
  {
   "metadata": {
    "ExecuteTime": {
     "end_time": "2025-06-11T19:19:16.714728Z",
     "start_time": "2025-06-11T19:19:16.668221Z"
    }
   },
   "cell_type": "code",
   "source": [
    "from sdmetrics.single_column import TVComplement\n",
    "correlation_similarities = []\n",
    "for file in files:\n",
    "    df_org = pd.read_csv(\"../dataset/\" + file + \".csv\")\n",
    "    if 'Unnamed: 0' in df_org.columns:\n",
    "        df_org = df_org.drop(columns=[\"Unnamed: 0\"])\n",
    "    df_fake = pd.read_csv(\"../dataset/fake_\" + file + \".csv\")\n",
    "    print(file)\n",
    "    ks_comp = TVComplement.compute(\n",
    "    real_data=df_org[\"type\"],\n",
    "    synthetic_data=df_fake[\"type\"],\n",
    "    )\n",
    "\n",
    "    print(ks_comp)\n"
   ],
   "id": "3bb2f208b0e8ec01",
   "outputs": [
    {
     "name": "stdout",
     "output_type": "stream",
     "text": [
      "merged_shuffled\n",
      "0.907085846585024\n"
     ]
    }
   ],
   "execution_count": 8
  },
  {
   "metadata": {
    "ExecuteTime": {
     "end_time": "2025-06-11T19:19:16.728881Z",
     "start_time": "2025-06-11T19:19:16.725741Z"
    }
   },
   "cell_type": "code",
   "source": "",
   "id": "8a6010b3affb24bd",
   "outputs": [],
   "execution_count": null
  },
  {
   "metadata": {},
   "cell_type": "markdown",
   "source": "Privacy metrics",
   "id": "e06ee7ca26237f19"
  },
  {
   "metadata": {
    "ExecuteTime": {
     "end_time": "2025-06-11T19:19:16.753610Z",
     "start_time": "2025-06-11T19:19:16.749304Z"
    }
   },
   "cell_type": "code",
   "source": "",
   "id": "aead4c79fe20d596",
   "outputs": [],
   "execution_count": null
  },
  {
   "metadata": {},
   "cell_type": "markdown",
   "source": [
    "The DCRBaselineProtection metric measures the distance between your synthetic data and real data to measure how private it is. For a fair measurement, it compares the distance against randomly generated data, which would provide the best possible privacy protection.\n",
    "\n"
   ],
   "id": "c514f25de4274d65"
  },
  {
   "metadata": {
    "ExecuteTime": {
     "end_time": "2025-06-11T19:24:49.906357Z",
     "start_time": "2025-06-11T19:19:16.833425Z"
    }
   },
   "cell_type": "code",
   "source": [
    "from sdmetrics.single_table import DCRBaselineProtection\n",
    "from sdv.metadata import Metadata\n",
    "\n",
    "correlation_similarities = []\n",
    "for file in files:\n",
    "    df_org = pd.read_csv(\"../dataset/\" + file + \".csv\")\n",
    "    if 'Unnamed: 0' in df_org.columns:\n",
    "        df_org = df_org.drop(columns=[\"Unnamed: 0\"])\n",
    "    df_fake = pd.read_csv(\"../dataset/fake_\" + file + \".csv\")\n",
    "    print(file)\n",
    "    ks_comp = DCRBaselineProtection.compute_breakdown(\n",
    "    real_data=df_org,\n",
    "    synthetic_data=df_fake,\n",
    "    metadata= Metadata.detect_from_dataframe(df_org).to_dict().get(\"tables\").get(\"table\")\n",
    "    )\n",
    "\n",
    "    print(ks_comp)\n"
   ],
   "id": "e12149aee966daa5",
   "outputs": [
    {
     "name": "stdout",
     "output_type": "stream",
     "text": [
      "merged_shuffled\n",
      "{'score': np.float64(0.0018171444432494605), 'median_DCR_to_real_data': {'synthetic_data': np.float64(0.0005766572148169832), 'random_data_baseline': np.float64(0.3173425299013606)}}\n"
     ]
    }
   ],
   "execution_count": 9
  },
  {
   "metadata": {
    "ExecuteTime": {
     "end_time": "2025-06-11T19:24:50.019767Z",
     "start_time": "2025-06-11T19:24:50.016769Z"
    }
   },
   "cell_type": "code",
   "source": "",
   "id": "9ef799d107543621",
   "outputs": [],
   "execution_count": null
  },
  {
   "metadata": {},
   "cell_type": "markdown",
   "source": "The DisclosureProtection metric measures the risk associated with disclosing (aka broadly sharing) the synthetic data. It's a useful measurement if you want to know whether synthetic data is leaking patterns that pertain to sensitive information.",
   "id": "702da82498a815c4"
  },
  {
   "metadata": {
    "ExecuteTime": {
     "end_time": "2025-06-11T19:25:16.424195Z",
     "start_time": "2025-06-11T19:24:50.069153Z"
    }
   },
   "cell_type": "code",
   "source": [
    "from sdmetrics.single_table import DisclosureProtection\n",
    "from sdv.metadata import Metadata\n",
    "\n",
    "correlation_similarities = []\n",
    "for file in files:\n",
    "    df_org = pd.read_csv(\"../dataset/\" + file + \".csv\")\n",
    "    if 'Unnamed: 0' in df_org.columns:\n",
    "        df_org = df_org.drop(columns=[\"Unnamed: 0\"])\n",
    "    df_fake = pd.read_csv(\"../dataset/fake_\" + file + \".csv\")\n",
    "    print(file)\n",
    "    ks_comp = DisclosureProtection.compute(\n",
    "    real_data=df_org,\n",
    "    synthetic_data=df_fake,\n",
    "    known_column_names=['newbalanceOrig','oldbalanceOrg'],\n",
    "    sensitive_column_names=['type','amount'],\n",
    "    )\n",
    "\n",
    "    print(ks_comp)\n"
   ],
   "id": "12861aff2ab04be9",
   "outputs": [
    {
     "name": "stdout",
     "output_type": "stream",
     "text": [
      "merged_shuffled\n"
     ]
    },
    {
     "name": "stderr",
     "output_type": "stream",
     "text": [
      "I:\\ETVOS\\2nd semester\\DS Lab 1\\DSLAB-Project\\venv1\\Lib\\site-packages\\sdmetrics\\single_table\\privacy\\disclosure_protection.py:214: UserWarning: Data exceeds 10000 rows, perfomance may be slow. Consider using the `DisclosureProtectionEstimate` for faster computation.\n",
      "  warnings.warn(\n"
     ]
    },
    {
     "name": "stdout",
     "output_type": "stream",
     "text": [
      "1\n"
     ]
    }
   ],
   "execution_count": 10
  },
  {
   "metadata": {
    "ExecuteTime": {
     "end_time": "2025-06-11T19:26:39.377085Z",
     "start_time": "2025-06-11T19:26:38.287059Z"
    }
   },
   "cell_type": "code",
   "source": [
    "from sdmetrics.single_table import DisclosureProtection\n",
    "from sdmetrics.single_table.data_augmentation import BinaryClassifierRecallEfficacy\n",
    "from sdv.metadata import SingleTableMetadata\n",
    "import pandas as pd\n",
    "from sklearn.model_selection import train_test_split\n",
    "\n",
    "\n",
    "\n",
    "df_merged = 'merged_shuffled_labeled'\n",
    "# df_2 = pd.read_csv('../dataset/informative_cluster_2.csv')\n",
    "selected_file = df_merged\n",
    "df= pd.read_csv(\"../dataset/\" + selected_file + \".csv\")\n",
    "df_fake = pd.read_csv(\"../dataset/fake_\" + selected_file + \".csv\")\n",
    "\n",
    "efficacy_scores = []\n",
    "\n",
    "\n",
    "# Step 1: Train-test split from real data for validation\n",
    "train_set, real_holdout_set = train_test_split(df, test_size=0.2, stratify=df[\"isFraud\"], random_state=42)\n",
    "\n",
    "# Step 2: Build metadata (you can also load it from a file if needed)\n",
    "metadata = SingleTableMetadata()\n",
    "metadata.detect_from_dataframe(train_set)\n",
    "\n",
    "# Step 3: Compute Efficacy score\n",
    "score = BinaryClassifierRecallEfficacy.compute_breakdown(\n",
    "    real_training_data=train_set,\n",
    "    synthetic_data=df_fake,\n",
    "    real_validation_data=real_holdout_set,\n",
    "    metadata=metadata.to_dict(),\n",
    "    prediction_column_name=\"isFraud\",\n",
    "    minority_class_label=1,\n",
    "    classifier=\"XGBoost\",\n",
    "    fixed_precision_value=0.9\n",
    ")\n",
    "\n",
    "print(score[\"score\"])\n",
    "efficacy_scores.append(score)\n"
   ],
   "id": "52a402c60c5c2c98",
   "outputs": [
    {
     "name": "stdout",
     "output_type": "stream",
     "text": [
      "0.49939135727328055\n"
     ]
    }
   ],
   "execution_count": 14
  },
  {
   "metadata": {
    "ExecuteTime": {
     "end_time": "2025-06-11T19:26:24.189127Z",
     "start_time": "2025-06-11T19:26:23.576193Z"
    }
   },
   "cell_type": "code",
   "source": [
    "from sdmetrics.single_table import DisclosureProtection\n",
    "from sdmetrics.single_table.data_augmentation import BinaryClassifierPrecisionEfficacy\n",
    "from sdv.metadata import SingleTableMetadata\n",
    "import pandas as pd\n",
    "from sklearn.model_selection import train_test_split\n",
    "\n",
    "\n",
    "\n",
    "df_merged = 'merged_shuffled_labeled'\n",
    "# df_2 = pd.read_csv('../dataset/informative_cluster_2.csv')\n",
    "selected_file = df_merged\n",
    "df= pd.read_csv(\"../dataset/\" + selected_file + \".csv\")\n",
    "df_fake = pd.read_csv(\"../dataset/fake_\" + selected_file + \".csv\")\n",
    "\n",
    "efficacy_scores = []\n",
    "\n",
    "\n",
    "# Step 1: Train-test split from real data for validation\n",
    "train_set, real_holdout_set = train_test_split(df, test_size=0.2, stratify=df[\"isFraud\"], random_state=42)\n",
    "\n",
    "# Step 2: Build metadata (you can also load it from a file if needed)\n",
    "metadata = SingleTableMetadata()\n",
    "metadata.detect_from_dataframe(train_set)\n",
    "\n",
    "# Step 3: Compute Efficacy score\n",
    "score = BinaryClassifierPrecisionEfficacy.compute_breakdown(\n",
    "    real_training_data=train_set,\n",
    "    synthetic_data=df_fake,\n",
    "    real_validation_data=real_holdout_set,\n",
    "    metadata=metadata.to_dict(),\n",
    "    prediction_column_name=\"isFraud\",\n",
    "    minority_class_label=1,\n",
    "    classifier=\"XGBoost\",\n",
    "    fixed_recall_value=0.9\n",
    ")\n",
    "\n",
    "print(score[\"score\"])\n",
    "efficacy_scores.append(score)\n"
   ],
   "id": "135e58d37ff37d1e",
   "outputs": [
    {
     "name": "stdout",
     "output_type": "stream",
     "text": [
      "0.4981640146878825\n"
     ]
    }
   ],
   "execution_count": 13
  },
  {
   "metadata": {
    "ExecuteTime": {
     "end_time": "2025-06-11T19:25:17.940838Z",
     "start_time": "2025-06-11T19:25:17.936834Z"
    }
   },
   "cell_type": "code",
   "source": "",
   "id": "762d13920ab38877",
   "outputs": [],
   "execution_count": null
  },
  {
   "metadata": {},
   "cell_type": "code",
   "outputs": [],
   "execution_count": null,
   "source": "",
   "id": "fd5a6fc4d70e69da"
  }
 ],
 "metadata": {
  "kernelspec": {
   "display_name": "Python 3",
   "language": "python",
   "name": "python3"
  },
  "language_info": {
   "codemirror_mode": {
    "name": "ipython",
    "version": 2
   },
   "file_extension": ".py",
   "mimetype": "text/x-python",
   "name": "python",
   "nbconvert_exporter": "python",
   "pygments_lexer": "ipython2",
   "version": "2.7.6"
  }
 },
 "nbformat": 4,
 "nbformat_minor": 5
}
