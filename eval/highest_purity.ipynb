{
 "cells": [
  {
   "cell_type": "code",
   "id": "initial_id",
   "metadata": {
    "collapsed": true,
    "ExecuteTime": {
     "end_time": "2025-06-07T09:48:27.587817Z",
     "start_time": "2025-06-07T09:48:27.582298Z"
    }
   },
   "source": [
    "import numpy as np\n",
    "import pandas as pd\n",
    "import matplotlib.pyplot as plt\n"
   ],
   "outputs": [],
   "execution_count": 4
  },
  {
   "metadata": {
    "ExecuteTime": {
     "end_time": "2025-06-07T10:27:05.674485Z",
     "start_time": "2025-06-07T10:27:05.657096Z"
    }
   },
   "cell_type": "code",
   "source": [
    "df_m_0 = \"min_0\"\n",
    "df_m_1 = \"min_1\"\n",
    "df_m_2 = 'min_2'\n",
    "# df_m_3 = pd.read_csv('../dataset/min_3.csv')\n",
    "df_0 = 'informative_cluster_0'\n",
    "df_1 = 'informative_cluster_1'\n",
    "# df_2 = pd.read_csv('../dataset/informative_cluster_2.csv')\n",
    "selected_file = df_m_0\n",
    "files = [df_m_0, df_m_1, df_m_2, df_0, df_1]\n",
    "df= pd.read_csv(\"../dataset/\" + selected_file + \".csv\")\n",
    "df_fake = pd.read_csv(\"../dataset/fake_\" + selected_file + \".csv\")\n"
   ],
   "id": "fb6a3ed4a38efb1c",
   "outputs": [],
   "execution_count": 37
  },
  {
   "metadata": {
    "ExecuteTime": {
     "end_time": "2025-06-07T10:10:31.581736Z",
     "start_time": "2025-06-07T10:10:31.572313Z"
    }
   },
   "cell_type": "code",
   "source": [
    "df= df.drop(columns=[\"Unnamed: 0\"])\n",
    "df.head()"
   ],
   "id": "4754e79b586c240f",
   "outputs": [
    {
     "data": {
      "text/plain": [
       "   type     amount  oldbalanceOrg  newbalanceOrig  oldbalanceDest  \\\n",
       "0     1     181.00         181.00             0.0        21182.00   \n",
       "1     1    2806.00        2806.00             0.0        26202.00   \n",
       "2     1   20128.00       20128.00             0.0         6268.00   \n",
       "3     1   25071.46       25071.46             0.0         9083.76   \n",
       "4     1  235238.66      235238.66             0.0            0.00   \n",
       "\n",
       "   newbalanceDest  \n",
       "0            0.00  \n",
       "1            0.00  \n",
       "2        12145.85  \n",
       "3        34155.22  \n",
       "4       235238.66  "
      ],
      "text/html": [
       "<div>\n",
       "<style scoped>\n",
       "    .dataframe tbody tr th:only-of-type {\n",
       "        vertical-align: middle;\n",
       "    }\n",
       "\n",
       "    .dataframe tbody tr th {\n",
       "        vertical-align: top;\n",
       "    }\n",
       "\n",
       "    .dataframe thead th {\n",
       "        text-align: right;\n",
       "    }\n",
       "</style>\n",
       "<table border=\"1\" class=\"dataframe\">\n",
       "  <thead>\n",
       "    <tr style=\"text-align: right;\">\n",
       "      <th></th>\n",
       "      <th>type</th>\n",
       "      <th>amount</th>\n",
       "      <th>oldbalanceOrg</th>\n",
       "      <th>newbalanceOrig</th>\n",
       "      <th>oldbalanceDest</th>\n",
       "      <th>newbalanceDest</th>\n",
       "    </tr>\n",
       "  </thead>\n",
       "  <tbody>\n",
       "    <tr>\n",
       "      <th>0</th>\n",
       "      <td>1</td>\n",
       "      <td>181.00</td>\n",
       "      <td>181.00</td>\n",
       "      <td>0.0</td>\n",
       "      <td>21182.00</td>\n",
       "      <td>0.00</td>\n",
       "    </tr>\n",
       "    <tr>\n",
       "      <th>1</th>\n",
       "      <td>1</td>\n",
       "      <td>2806.00</td>\n",
       "      <td>2806.00</td>\n",
       "      <td>0.0</td>\n",
       "      <td>26202.00</td>\n",
       "      <td>0.00</td>\n",
       "    </tr>\n",
       "    <tr>\n",
       "      <th>2</th>\n",
       "      <td>1</td>\n",
       "      <td>20128.00</td>\n",
       "      <td>20128.00</td>\n",
       "      <td>0.0</td>\n",
       "      <td>6268.00</td>\n",
       "      <td>12145.85</td>\n",
       "    </tr>\n",
       "    <tr>\n",
       "      <th>3</th>\n",
       "      <td>1</td>\n",
       "      <td>25071.46</td>\n",
       "      <td>25071.46</td>\n",
       "      <td>0.0</td>\n",
       "      <td>9083.76</td>\n",
       "      <td>34155.22</td>\n",
       "    </tr>\n",
       "    <tr>\n",
       "      <th>4</th>\n",
       "      <td>1</td>\n",
       "      <td>235238.66</td>\n",
       "      <td>235238.66</td>\n",
       "      <td>0.0</td>\n",
       "      <td>0.00</td>\n",
       "      <td>235238.66</td>\n",
       "    </tr>\n",
       "  </tbody>\n",
       "</table>\n",
       "</div>"
      ]
     },
     "execution_count": 31,
     "metadata": {},
     "output_type": "execute_result"
    }
   ],
   "execution_count": 31
  },
  {
   "metadata": {
    "ExecuteTime": {
     "end_time": "2025-06-07T10:10:31.814970Z",
     "start_time": "2025-06-07T10:10:31.802946Z"
    }
   },
   "cell_type": "code",
   "source": "df_fake.head()",
   "id": "b1a5226ea5995a57",
   "outputs": [
    {
     "data": {
      "text/plain": [
       "   type      amount  oldbalanceOrg  newbalanceOrig  oldbalanceDest  \\\n",
       "0     1   251990.99      155132.84             0.0        61981.85   \n",
       "1     1   613909.96      987908.15             0.0      2401046.01   \n",
       "2     1   444033.83     4768137.50             0.0      2129494.57   \n",
       "3     1  9763639.57      272883.12             0.0      3813779.10   \n",
       "4     1  2998113.92    10000000.00             0.0       236578.90   \n",
       "\n",
       "   newbalanceDest  \n",
       "0       172182.33  \n",
       "1      3561663.13  \n",
       "2      5149456.77  \n",
       "3      8812218.76  \n",
       "4      2219968.64  "
      ],
      "text/html": [
       "<div>\n",
       "<style scoped>\n",
       "    .dataframe tbody tr th:only-of-type {\n",
       "        vertical-align: middle;\n",
       "    }\n",
       "\n",
       "    .dataframe tbody tr th {\n",
       "        vertical-align: top;\n",
       "    }\n",
       "\n",
       "    .dataframe thead th {\n",
       "        text-align: right;\n",
       "    }\n",
       "</style>\n",
       "<table border=\"1\" class=\"dataframe\">\n",
       "  <thead>\n",
       "    <tr style=\"text-align: right;\">\n",
       "      <th></th>\n",
       "      <th>type</th>\n",
       "      <th>amount</th>\n",
       "      <th>oldbalanceOrg</th>\n",
       "      <th>newbalanceOrig</th>\n",
       "      <th>oldbalanceDest</th>\n",
       "      <th>newbalanceDest</th>\n",
       "    </tr>\n",
       "  </thead>\n",
       "  <tbody>\n",
       "    <tr>\n",
       "      <th>0</th>\n",
       "      <td>1</td>\n",
       "      <td>251990.99</td>\n",
       "      <td>155132.84</td>\n",
       "      <td>0.0</td>\n",
       "      <td>61981.85</td>\n",
       "      <td>172182.33</td>\n",
       "    </tr>\n",
       "    <tr>\n",
       "      <th>1</th>\n",
       "      <td>1</td>\n",
       "      <td>613909.96</td>\n",
       "      <td>987908.15</td>\n",
       "      <td>0.0</td>\n",
       "      <td>2401046.01</td>\n",
       "      <td>3561663.13</td>\n",
       "    </tr>\n",
       "    <tr>\n",
       "      <th>2</th>\n",
       "      <td>1</td>\n",
       "      <td>444033.83</td>\n",
       "      <td>4768137.50</td>\n",
       "      <td>0.0</td>\n",
       "      <td>2129494.57</td>\n",
       "      <td>5149456.77</td>\n",
       "    </tr>\n",
       "    <tr>\n",
       "      <th>3</th>\n",
       "      <td>1</td>\n",
       "      <td>9763639.57</td>\n",
       "      <td>272883.12</td>\n",
       "      <td>0.0</td>\n",
       "      <td>3813779.10</td>\n",
       "      <td>8812218.76</td>\n",
       "    </tr>\n",
       "    <tr>\n",
       "      <th>4</th>\n",
       "      <td>1</td>\n",
       "      <td>2998113.92</td>\n",
       "      <td>10000000.00</td>\n",
       "      <td>0.0</td>\n",
       "      <td>236578.90</td>\n",
       "      <td>2219968.64</td>\n",
       "    </tr>\n",
       "  </tbody>\n",
       "</table>\n",
       "</div>"
      ]
     },
     "execution_count": 32,
     "metadata": {},
     "output_type": "execute_result"
    }
   ],
   "execution_count": 32
  },
  {
   "metadata": {},
   "cell_type": "markdown",
   "source": [
    "We can't calculate CorrelationSimilarity for minority clusters because there is totally constant values, type and origBalanceDist.\n",
    "This metric measures the correlation between a pair of numerical columns and computes the similarity between the real and synthetic data"
   ],
   "id": "3e4d1bd2e91d1f5a"
  },
  {
   "metadata": {
    "ExecuteTime": {
     "end_time": "2025-06-07T10:29:20.469991Z",
     "start_time": "2025-06-07T10:29:20.419520Z"
    }
   },
   "cell_type": "code",
   "source": [
    "from sdmetrics.column_pairs import CorrelationSimilarity\n",
    "correlation_similarities = []\n",
    "temp_files = [df_0, df_1]\n",
    "for file in temp_files:\n",
    "    df_org = pd.read_csv(\"../dataset/\" + file + \".csv\")\n",
    "    df_org = df_org.drop(columns=[\"Unnamed: 0\"])\n",
    "    df_fake = pd.read_csv(\"../dataset/fake_\" + file + \".csv\")\n",
    "    print(file)\n",
    "    correlation_similarity = CorrelationSimilarity.compute(\n",
    "    real_data=df_org,\n",
    "    synthetic_data=df_fake,\n",
    "    coefficient='Spearman'\n",
    "    )\n",
    "    print(correlation_similarity)\n",
    "    correlation_similarities.append(correlation_similarity)\n"
   ],
   "id": "c23822306ed19c7",
   "outputs": [
    {
     "name": "stdout",
     "output_type": "stream",
     "text": [
      "informative_cluster_0\n",
      "0.71827638852561\n",
      "informative_cluster_1\n",
      "0.9691812790174152\n"
     ]
    }
   ],
   "execution_count": 38
  },
  {
   "metadata": {},
   "cell_type": "markdown",
   "source": "KSComplement, This metric computes the similarity of a real column vs. a synthetic column in terms of the column shapes -- aka the marginal distribution or 1D histogram of the column.",
   "id": "d85f5a1f5133bb57"
  },
  {
   "metadata": {
    "ExecuteTime": {
     "end_time": "2025-06-07T11:27:46.769234Z",
     "start_time": "2025-06-07T11:27:46.669651Z"
    }
   },
   "cell_type": "code",
   "source": [
    "from sdmetrics.single_column import KSComplement\n",
    "correlation_similarities = []\n",
    "column_scores = []\n",
    "for file in files:\n",
    "    df_org = pd.read_csv(\"../dataset/\" + file + \".csv\")\n",
    "    df_org = df_org.drop(columns=[\"Unnamed: 0\"])\n",
    "    df_fake = pd.read_csv(\"../dataset/fake_\" + file + \".csv\")\n",
    "    print(file)\n",
    "    for column in df_org.columns:\n",
    "        ks_comp = KSComplement.compute(\n",
    "        real_data=df_org[column],\n",
    "        synthetic_data=df_fake[column],\n",
    "        )\n",
    "        column_scores.append(ks_comp)\n",
    "\n",
    "    avg = sum(column_scores)/len(column_scores)\n",
    "    print(avg)\n",
    "    correlation_similarities.append(avg)\n",
    "    column_scores = []\n"
   ],
   "id": "362f78d9535751a6",
   "outputs": [
    {
     "name": "stdout",
     "output_type": "stream",
     "text": [
      "min_0\n",
      "0.9146228402865572\n",
      "min_1\n",
      "0.8453933350379272\n",
      "min_2\n",
      "0.7795389048991354\n",
      "informative_cluster_0\n",
      "0.8466390695840725\n",
      "informative_cluster_1\n",
      "0.8343831617760024\n"
     ]
    }
   ],
   "execution_count": 51
  },
  {
   "metadata": {},
   "cell_type": "code",
   "outputs": [],
   "execution_count": null,
   "source": "",
   "id": "44478c269e861097"
  },
  {
   "metadata": {},
   "cell_type": "markdown",
   "source": "StatisticSimilarity: This metric measures the similarity between a real column and a synthetic column by comparing a summary statistic. Supported summary statistics are: mean, median and standard deviation.\n",
   "id": "d0e54e1a37e95a75"
  },
  {
   "metadata": {
    "ExecuteTime": {
     "end_time": "2025-06-07T11:33:14.128759Z",
     "start_time": "2025-06-07T11:33:14.049038Z"
    }
   },
   "cell_type": "code",
   "source": [
    "from sdmetrics.single_column import StatisticSimilarity\n",
    "correlation_similarities = []\n",
    "column_scores = []\n",
    "for file in files:\n",
    "    df_org = pd.read_csv(\"../dataset/\" + file + \".csv\")\n",
    "    df_org = df_org.drop(columns=[\"Unnamed: 0\"])\n",
    "    df_fake = pd.read_csv(\"../dataset/fake_\" + file + \".csv\")\n",
    "    print(file)\n",
    "    for column in df_org.columns:\n",
    "        ks_comp = StatisticSimilarity.compute(\n",
    "        real_data=df_org[column],\n",
    "        synthetic_data=df_fake[column],\n",
    "        )\n",
    "        column_scores.append(ks_comp)\n",
    "\n",
    "    avg = sum(column_scores)/len(column_scores)\n",
    "    print(avg)\n",
    "    correlation_similarities.append(avg)\n",
    "    column_scores = []\n"
   ],
   "id": "173ff06b4e618775",
   "outputs": [
    {
     "name": "stdout",
     "output_type": "stream",
     "text": [
      "min_0\n",
      "nan\n",
      "min_1\n",
      "nan\n",
      "min_2\n",
      "0.9386747944366146\n",
      "informative_cluster_0\n",
      "0.9903331515537128\n",
      "informative_cluster_1\n",
      "0.9851192590652201\n"
     ]
    },
    {
     "name": "stderr",
     "output_type": "stream",
     "text": [
      "I:\\ETVOS\\2nd semester\\DS Lab 1\\DSLAB-Project\\venv1\\Lib\\site-packages\\sdmetrics\\single_column\\statistical\\statistic_similarity.py:71: ConstantInputWarning: The real data input array is constant. The StatisticSimilarity metric is either undefined or infinite.\n",
      "  warnings.warn(ConstantInputWarning(msg))\n",
      "I:\\ETVOS\\2nd semester\\DS Lab 1\\DSLAB-Project\\venv1\\Lib\\site-packages\\sdmetrics\\single_column\\statistical\\statistic_similarity.py:71: ConstantInputWarning: The real data input array is constant. The StatisticSimilarity metric is either undefined or infinite.\n",
      "  warnings.warn(ConstantInputWarning(msg))\n"
     ]
    }
   ],
   "execution_count": 54
  },
  {
   "metadata": {},
   "cell_type": "code",
   "outputs": [],
   "execution_count": null,
   "source": "",
   "id": "f3edec491e7800b5"
  },
  {
   "metadata": {},
   "cell_type": "markdown",
   "source": [
    "TVComplement:\n",
    "This metric computes the similarity of a real column vs. a synthetic column in terms of the column shapes -- aka the marginal distribution or 1D histogram of the column.\n",
    "Only for categorical data"
   ],
   "id": "c8d488f9bee9df12"
  },
  {
   "metadata": {
    "ExecuteTime": {
     "end_time": "2025-06-07T12:25:42.976028Z",
     "start_time": "2025-06-07T12:25:42.923308Z"
    }
   },
   "cell_type": "code",
   "source": [
    "from sdmetrics.single_column import TVComplement\n",
    "correlation_similarities = []\n",
    "for file in files:\n",
    "    df_org = pd.read_csv(\"../dataset/\" + file + \".csv\")\n",
    "    df_org = df_org.drop(columns=[\"Unnamed: 0\"])\n",
    "    df_fake = pd.read_csv(\"../dataset/fake_\" + file + \".csv\")\n",
    "    print(file)\n",
    "    ks_comp = TVComplement.compute(\n",
    "    real_data=df_org[\"type\"],\n",
    "    synthetic_data=df_fake[\"type\"],\n",
    "    )\n",
    "\n",
    "    print(ks_comp)\n"
   ],
   "id": "3bb2f208b0e8ec01",
   "outputs": [
    {
     "name": "stdout",
     "output_type": "stream",
     "text": [
      "min_0\n",
      "1.0\n",
      "min_1\n",
      "1.0\n",
      "min_2\n",
      "0.8357348703170029\n",
      "informative_cluster_0\n",
      "0.9556475458308693\n",
      "informative_cluster_1\n",
      "0.9686587801505607\n"
     ]
    }
   ],
   "execution_count": 58
  },
  {
   "metadata": {},
   "cell_type": "code",
   "outputs": [],
   "execution_count": null,
   "source": "",
   "id": "8a6010b3affb24bd"
  },
  {
   "metadata": {},
   "cell_type": "markdown",
   "source": "Privacy metrics",
   "id": "e06ee7ca26237f19"
  },
  {
   "metadata": {},
   "cell_type": "code",
   "outputs": [],
   "execution_count": null,
   "source": "",
   "id": "aead4c79fe20d596"
  },
  {
   "metadata": {},
   "cell_type": "markdown",
   "source": [
    "The DCRBaselineProtection metric measures the distance between your synthetic data and real data to measure how private it is. For a fair measurement, it compares the distance against randomly generated data, which would provide the best possible privacy protection.\n",
    "\n"
   ],
   "id": "c514f25de4274d65"
  },
  {
   "metadata": {
    "ExecuteTime": {
     "end_time": "2025-06-07T14:25:46.686019Z",
     "start_time": "2025-06-07T14:24:22.248693Z"
    }
   },
   "cell_type": "code",
   "source": [
    "from sdmetrics.single_table import DCRBaselineProtection\n",
    "from sdv.metadata import Metadata\n",
    "\n",
    "correlation_similarities = []\n",
    "for file in files:\n",
    "    df_org = pd.read_csv(\"../dataset/\" + file + \".csv\")\n",
    "    df_org = df_org.drop(columns=[\"Unnamed: 0\"])\n",
    "    df_fake = pd.read_csv(\"../dataset/fake_\" + file + \".csv\")\n",
    "    print(file)\n",
    "    ks_comp = DCRBaselineProtection.compute_breakdown(\n",
    "    real_data=df_org,\n",
    "    synthetic_data=df_fake,\n",
    "    metadata= Metadata.detect_from_dataframe(df_org).to_dict().get(\"tables\").get(\"table\")\n",
    "    )\n",
    "\n",
    "    print(ks_comp)\n"
   ],
   "id": "e12149aee966daa5",
   "outputs": [
    {
     "name": "stdout",
     "output_type": "stream",
     "text": [
      "min_0\n",
      "{'score': np.float64(0.2971314724874907), 'median_DCR_to_real_data': {'synthetic_data': np.float64(0.029981874951254973), 'random_data_baseline': np.float64(0.10090440672694884)}}\n",
      "min_1\n",
      "{'score': np.float64(0.07311713893102587), 'median_DCR_to_real_data': {'synthetic_data': np.float64(0.00883457933080497), 'random_data_baseline': np.float64(0.12082774927967244)}}\n",
      "min_2\n",
      "{'score': np.float64(0.08681578807969904), 'median_DCR_to_real_data': {'synthetic_data': np.float64(0.030051392550335277), 'random_data_baseline': np.float64(0.346151238329454)}}\n",
      "informative_cluster_0\n",
      "{'score': np.float64(0.03540375378724155), 'median_DCR_to_real_data': {'synthetic_data': np.float64(0.010245152394689734), 'random_data_baseline': np.float64(0.2893803989333408)}}\n",
      "informative_cluster_1\n",
      "{'score': np.float64(0.0989756476299404), 'median_DCR_to_real_data': {'synthetic_data': np.float64(0.021077492518562724), 'random_data_baseline': np.float64(0.21295634858959714)}}\n"
     ]
    }
   ],
   "execution_count": 77
  },
  {
   "metadata": {},
   "cell_type": "code",
   "outputs": [],
   "execution_count": null,
   "source": "",
   "id": "9ef799d107543621"
  },
  {
   "metadata": {},
   "cell_type": "markdown",
   "source": "The DisclosureProtection metric measures the risk associated with disclosing (aka broadly sharing) the synthetic data. It's a useful measurement if you want to know whether synthetic data is leaking patterns that pertain to sensitive information.",
   "id": "702da82498a815c4"
  },
  {
   "metadata": {
    "ExecuteTime": {
     "end_time": "2025-06-07T14:41:10.581385Z",
     "start_time": "2025-06-07T14:40:41.352416Z"
    }
   },
   "cell_type": "code",
   "source": [
    "from sdmetrics.single_table import DisclosureProtection\n",
    "from sdv.metadata import Metadata\n",
    "\n",
    "correlation_similarities = []\n",
    "for file in files:\n",
    "    df_org = pd.read_csv(\"../dataset/\" + file + \".csv\")\n",
    "    df_org = df_org.drop(columns=[\"Unnamed: 0\"])\n",
    "    df_fake = pd.read_csv(\"../dataset/fake_\" + file + \".csv\")\n",
    "    print(file)\n",
    "    ks_comp = DisclosureProtection.compute(\n",
    "    real_data=df_org,\n",
    "    synthetic_data=df_fake,\n",
    "    known_column_names=['newbalanceOrig','oldbalanceOrg'],\n",
    "    sensitive_column_names=['type','amount'],\n",
    "    )\n",
    "\n",
    "    print(ks_comp)\n"
   ],
   "id": "12861aff2ab04be9",
   "outputs": [
    {
     "name": "stdout",
     "output_type": "stream",
     "text": [
      "min_0\n",
      "0.9592857474786475\n",
      "min_1\n",
      "0.9848935936086299\n",
      "min_2\n",
      "1\n",
      "informative_cluster_0\n",
      "1\n",
      "informative_cluster_1\n",
      "0.9999732088304868\n"
     ]
    }
   ],
   "execution_count": 82
  },
  {
   "metadata": {},
   "cell_type": "code",
   "outputs": [],
   "execution_count": null,
   "source": "",
   "id": "52a402c60c5c2c98"
  }
 ],
 "metadata": {
  "kernelspec": {
   "display_name": "Python 3",
   "language": "python",
   "name": "python3"
  },
  "language_info": {
   "codemirror_mode": {
    "name": "ipython",
    "version": 2
   },
   "file_extension": ".py",
   "mimetype": "text/x-python",
   "name": "python",
   "nbconvert_exporter": "python",
   "pygments_lexer": "ipython2",
   "version": "2.7.6"
  }
 },
 "nbformat": 4,
 "nbformat_minor": 5
}
