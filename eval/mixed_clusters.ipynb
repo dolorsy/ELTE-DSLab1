{
 "cells": [
  {
   "cell_type": "code",
   "id": "initial_id",
   "metadata": {
    "collapsed": true,
    "ExecuteTime": {
     "end_time": "2025-06-13T16:47:43.019293Z",
     "start_time": "2025-06-13T16:47:38.788260Z"
    }
   },
   "source": [
    "from sdv.metadata import Metadata\n",
    "import numpy as np\n",
    "import pandas as pd\n",
    "import matplotlib.pyplot as plt\n"
   ],
   "outputs": [],
   "execution_count": 2
  },
  {
   "metadata": {
    "ExecuteTime": {
     "end_time": "2025-06-13T17:05:52.305317Z",
     "start_time": "2025-06-13T17:05:52.228660Z"
    }
   },
   "cell_type": "code",
   "source": [
    "df_m_0_df_0 =\"min_0_informative_cluster_0\"\n",
    "df_m_1_df_0 =\"min_1_informative_cluster_0\"\n",
    "df_m_0_df_1 =\"min_0_informative_cluster_1\"\n",
    "df_m_1_df_1 =\"min_1_informative_cluster_1\"\n",
    "df_m_2_df_1 =\"min_2_informative_cluster_1\"\n",
    "df_m_2_df_0 =\"min_2_informative_cluster_0\"\n",
    "\n",
    "\n",
    "df_m_0_df_m_1_df_0_df_1 =\"min_0_min_1_informative_cluster_0_informative_cluster_1\"\n",
    "df_m_0_df_m_2_df_0_df_1 =\"min_0_min_2_informative_cluster_0_informative_cluster_1\"\n",
    "df_m_1_df_m_2_df_0_df_1 =\"min_1_min_2_informative_cluster_0_informative_cluster_1\"\n",
    "\n",
    "\n",
    "selected_file = df_m_0_df_0\n",
    "files = [df_m_0_df_0, df_m_0_df_1,df_m_1_df_1, df_m_1_df_0, df_m_2_df_0,df_m_2_df_1,df_m_0_df_m_1_df_0_df_1,df_m_0_df_m_2_df_0_df_1,df_m_1_df_m_2_df_0_df_1 ]\n",
    "df= pd.read_csv(\"../dataset/\" + selected_file + \".csv\")\n",
    "df_fake = pd.read_csv(\"../dataset/fake_\" + selected_file + \".csv\")\n"
   ],
   "id": "fb6a3ed4a38efb1c",
   "outputs": [],
   "execution_count": 7
  },
  {
   "metadata": {
    "ExecuteTime": {
     "end_time": "2025-06-13T17:05:52.465094Z",
     "start_time": "2025-06-13T17:05:52.448194Z"
    }
   },
   "cell_type": "code",
   "source": [
    "df= df.drop(columns=[\"Unnamed: 0\"])\n",
    "df.head()"
   ],
   "id": "4754e79b586c240f",
   "outputs": [
    {
     "data": {
      "text/plain": [
       "   type     amount  oldbalanceOrg  newbalanceOrig  oldbalanceDest  \\\n",
       "0     1     181.00         181.00             0.0        21182.00   \n",
       "1     1    2806.00        2806.00             0.0        26202.00   \n",
       "2     1   20128.00       20128.00             0.0         6268.00   \n",
       "3     1   25071.46       25071.46             0.0         9083.76   \n",
       "4     1  235238.66      235238.66             0.0            0.00   \n",
       "\n",
       "   newbalanceDest  \n",
       "0            0.00  \n",
       "1            0.00  \n",
       "2        12145.85  \n",
       "3        34155.22  \n",
       "4       235238.66  "
      ],
      "text/html": [
       "<div>\n",
       "<style scoped>\n",
       "    .dataframe tbody tr th:only-of-type {\n",
       "        vertical-align: middle;\n",
       "    }\n",
       "\n",
       "    .dataframe tbody tr th {\n",
       "        vertical-align: top;\n",
       "    }\n",
       "\n",
       "    .dataframe thead th {\n",
       "        text-align: right;\n",
       "    }\n",
       "</style>\n",
       "<table border=\"1\" class=\"dataframe\">\n",
       "  <thead>\n",
       "    <tr style=\"text-align: right;\">\n",
       "      <th></th>\n",
       "      <th>type</th>\n",
       "      <th>amount</th>\n",
       "      <th>oldbalanceOrg</th>\n",
       "      <th>newbalanceOrig</th>\n",
       "      <th>oldbalanceDest</th>\n",
       "      <th>newbalanceDest</th>\n",
       "    </tr>\n",
       "  </thead>\n",
       "  <tbody>\n",
       "    <tr>\n",
       "      <th>0</th>\n",
       "      <td>1</td>\n",
       "      <td>181.00</td>\n",
       "      <td>181.00</td>\n",
       "      <td>0.0</td>\n",
       "      <td>21182.00</td>\n",
       "      <td>0.00</td>\n",
       "    </tr>\n",
       "    <tr>\n",
       "      <th>1</th>\n",
       "      <td>1</td>\n",
       "      <td>2806.00</td>\n",
       "      <td>2806.00</td>\n",
       "      <td>0.0</td>\n",
       "      <td>26202.00</td>\n",
       "      <td>0.00</td>\n",
       "    </tr>\n",
       "    <tr>\n",
       "      <th>2</th>\n",
       "      <td>1</td>\n",
       "      <td>20128.00</td>\n",
       "      <td>20128.00</td>\n",
       "      <td>0.0</td>\n",
       "      <td>6268.00</td>\n",
       "      <td>12145.85</td>\n",
       "    </tr>\n",
       "    <tr>\n",
       "      <th>3</th>\n",
       "      <td>1</td>\n",
       "      <td>25071.46</td>\n",
       "      <td>25071.46</td>\n",
       "      <td>0.0</td>\n",
       "      <td>9083.76</td>\n",
       "      <td>34155.22</td>\n",
       "    </tr>\n",
       "    <tr>\n",
       "      <th>4</th>\n",
       "      <td>1</td>\n",
       "      <td>235238.66</td>\n",
       "      <td>235238.66</td>\n",
       "      <td>0.0</td>\n",
       "      <td>0.00</td>\n",
       "      <td>235238.66</td>\n",
       "    </tr>\n",
       "  </tbody>\n",
       "</table>\n",
       "</div>"
      ]
     },
     "execution_count": 8,
     "metadata": {},
     "output_type": "execute_result"
    }
   ],
   "execution_count": 8
  },
  {
   "metadata": {
    "ExecuteTime": {
     "end_time": "2025-06-13T17:05:52.733005Z",
     "start_time": "2025-06-13T17:05:52.722358Z"
    }
   },
   "cell_type": "code",
   "source": "df_fake.head()",
   "id": "b1a5226ea5995a57",
   "outputs": [
    {
     "data": {
      "text/plain": [
       "   type      amount  oldbalanceOrg  newbalanceOrig  oldbalanceDest  \\\n",
       "0     1   287063.71       75273.99         5617.94       322547.24   \n",
       "1     1   395595.06     1018223.74      1918819.84         6529.50   \n",
       "2     1  2712398.88     3274272.38        26028.67       108318.48   \n",
       "3     1   134198.61      102083.72         7470.55      2609554.08   \n",
       "4     1  1640298.36     1771092.55        14375.07        89408.37   \n",
       "\n",
       "   newbalanceDest  \n",
       "0       668726.34  \n",
       "1       436731.36  \n",
       "2      1683404.60  \n",
       "3      1577920.23  \n",
       "4      9347357.47  "
      ],
      "text/html": [
       "<div>\n",
       "<style scoped>\n",
       "    .dataframe tbody tr th:only-of-type {\n",
       "        vertical-align: middle;\n",
       "    }\n",
       "\n",
       "    .dataframe tbody tr th {\n",
       "        vertical-align: top;\n",
       "    }\n",
       "\n",
       "    .dataframe thead th {\n",
       "        text-align: right;\n",
       "    }\n",
       "</style>\n",
       "<table border=\"1\" class=\"dataframe\">\n",
       "  <thead>\n",
       "    <tr style=\"text-align: right;\">\n",
       "      <th></th>\n",
       "      <th>type</th>\n",
       "      <th>amount</th>\n",
       "      <th>oldbalanceOrg</th>\n",
       "      <th>newbalanceOrig</th>\n",
       "      <th>oldbalanceDest</th>\n",
       "      <th>newbalanceDest</th>\n",
       "    </tr>\n",
       "  </thead>\n",
       "  <tbody>\n",
       "    <tr>\n",
       "      <th>0</th>\n",
       "      <td>1</td>\n",
       "      <td>287063.71</td>\n",
       "      <td>75273.99</td>\n",
       "      <td>5617.94</td>\n",
       "      <td>322547.24</td>\n",
       "      <td>668726.34</td>\n",
       "    </tr>\n",
       "    <tr>\n",
       "      <th>1</th>\n",
       "      <td>1</td>\n",
       "      <td>395595.06</td>\n",
       "      <td>1018223.74</td>\n",
       "      <td>1918819.84</td>\n",
       "      <td>6529.50</td>\n",
       "      <td>436731.36</td>\n",
       "    </tr>\n",
       "    <tr>\n",
       "      <th>2</th>\n",
       "      <td>1</td>\n",
       "      <td>2712398.88</td>\n",
       "      <td>3274272.38</td>\n",
       "      <td>26028.67</td>\n",
       "      <td>108318.48</td>\n",
       "      <td>1683404.60</td>\n",
       "    </tr>\n",
       "    <tr>\n",
       "      <th>3</th>\n",
       "      <td>1</td>\n",
       "      <td>134198.61</td>\n",
       "      <td>102083.72</td>\n",
       "      <td>7470.55</td>\n",
       "      <td>2609554.08</td>\n",
       "      <td>1577920.23</td>\n",
       "    </tr>\n",
       "    <tr>\n",
       "      <th>4</th>\n",
       "      <td>1</td>\n",
       "      <td>1640298.36</td>\n",
       "      <td>1771092.55</td>\n",
       "      <td>14375.07</td>\n",
       "      <td>89408.37</td>\n",
       "      <td>9347357.47</td>\n",
       "    </tr>\n",
       "  </tbody>\n",
       "</table>\n",
       "</div>"
      ]
     },
     "execution_count": 9,
     "metadata": {},
     "output_type": "execute_result"
    }
   ],
   "execution_count": 9
  },
  {
   "metadata": {},
   "cell_type": "markdown",
   "source": [
    "This metric measures the correlation between a pair of numerical columns and computes the similarity between the real and synthetic data -- aka it compares the trends of 2D distributions.\n",
    "\n",
    "Let's try amount and newbalanceDest\n",
    "If all clusters results was high -> i have totally noisy random distribution"
   ],
   "id": "3e4d1bd2e91d1f5a"
  },
  {
   "metadata": {
    "ExecuteTime": {
     "end_time": "2025-06-13T17:45:00.394316Z",
     "start_time": "2025-06-13T17:45:00.115407Z"
    }
   },
   "cell_type": "code",
   "source": [
    "from sdmetrics.column_pairs import CorrelationSimilarity\n",
    "correlation_similarities = []\n",
    "for file in files:\n",
    "    df_org = pd.read_csv(\"../dataset/\" + file + \".csv\")\n",
    "    if \"Unnamed: 0\" in df_org.columns:\n",
    "        df_org = df_org.drop(columns=[\"Unnamed: 0\"])\n",
    "    df_fake = pd.read_csv(\"../dataset/fake_\" + file + \".csv\")\n",
    "    print(file)\n",
    "    correlation_similarity = CorrelationSimilarity.compute(\n",
    "    real_data=df_org[[\"amount\",\"newbalanceDest\"]],\n",
    "    synthetic_data=df_fake[[\"amount\",\"newbalanceDest\"]],\n",
    "    coefficient='Spearman'\n",
    "    )\n",
    "    print(correlation_similarity)\n",
    "    correlation_similarities.append(correlation_similarity)\n"
   ],
   "id": "c23822306ed19c7",
   "outputs": [
    {
     "name": "stdout",
     "output_type": "stream",
     "text": [
      "min_0_informative_cluster_0\n",
      "0.8146360385316167\n",
      "min_0_informative_cluster_1\n",
      "0.948328853115306\n",
      "min_1_informative_cluster_1\n",
      "0.955977572111264\n",
      "min_1_informative_cluster_0\n",
      "0.8447380375163316\n",
      "min_2_informative_cluster_0\n",
      "0.9657846559884142\n",
      "min_2_informative_cluster_1\n",
      "0.9439824471270863\n",
      "min_0_min_1_informative_cluster_0_informative_cluster_1\n",
      "0.9999496787943054\n",
      "min_0_min_2_informative_cluster_0_informative_cluster_1\n",
      "0.9079373887842288\n",
      "min_1_min_2_informative_cluster_0_informative_cluster_1\n",
      "0.9663731874677317\n"
     ]
    }
   ],
   "execution_count": 20
  },
  {
   "metadata": {},
   "cell_type": "markdown",
   "source": "",
   "id": "4be740ebec91707e"
  },
  {
   "metadata": {},
   "cell_type": "markdown",
   "source": [
    "KSComplement, This metric computes the similarity of a real column vs. a synthetic column in terms of the column shapes -- aka the marginal distribution or 1D histogram of the column.\n",
    "\n",
    "marginal distribution or 1D histogram"
   ],
   "id": "d85f5a1f5133bb57"
  },
  {
   "metadata": {
    "ExecuteTime": {
     "end_time": "2025-06-13T17:06:29.695612Z",
     "start_time": "2025-06-13T17:06:29.411856Z"
    }
   },
   "cell_type": "code",
   "source": [
    "from sdmetrics.single_column import KSComplement\n",
    "correlation_similarities = []\n",
    "column_scores = []\n",
    "for file in files:\n",
    "    df_org = pd.read_csv(\"../dataset/\" + file + \".csv\")\n",
    "    if \"Unnamed: 0\" in df_org.columns:\n",
    "        df_org = df_org.drop(columns=[\"Unnamed: 0\"])\n",
    "    df_fake = pd.read_csv(\"../dataset/fake_\" + file + \".csv\")\n",
    "    print(file)\n",
    "    for column in df_org.columns:\n",
    "        if column in [\"type\"]:\n",
    "            continue\n",
    "        ks_comp = KSComplement.compute(\n",
    "        real_data=df_org[column],\n",
    "        synthetic_data=df_fake[column],\n",
    "        )\n",
    "        # print(column)\n",
    "        # print(ks_comp)\n",
    "        column_scores.append(ks_comp)\n",
    "\n",
    "    avg = sum(column_scores)/len(column_scores)\n",
    "    print(avg)\n",
    "    correlation_similarities.append(avg)\n",
    "    column_scores = []\n"
   ],
   "id": "362f78d9535751a6",
   "outputs": [
    {
     "name": "stdout",
     "output_type": "stream",
     "text": [
      "min_0_informative_cluster_0\n",
      "0.8240524264966348\n",
      "min_0_informative_cluster_1\n",
      "0.7474006116207951\n",
      "min_1_informative_cluster_1\n",
      "0.7785604606525912\n",
      "min_1_informative_cluster_0\n",
      "0.7233131024634059\n",
      "min_2_informative_cluster_0\n",
      "0.8212953876349364\n",
      "min_2_informative_cluster_1\n",
      "0.7498833138856476\n",
      "min_0_min_1_informative_cluster_0_informative_cluster_1\n",
      "0.7514751649446035\n",
      "min_0_min_2_informative_cluster_0_informative_cluster_1\n",
      "0.7703407454807231\n",
      "min_1_min_2_informative_cluster_0_informative_cluster_1\n",
      "0.7238882645689517\n"
     ]
    }
   ],
   "execution_count": 12
  },
  {
   "metadata": {
    "ExecuteTime": {
     "end_time": "2025-06-13T17:06:30.531555Z",
     "start_time": "2025-06-13T17:06:30.528720Z"
    }
   },
   "cell_type": "code",
   "source": "",
   "id": "44478c269e861097",
   "outputs": [],
   "execution_count": null
  },
  {
   "metadata": {},
   "cell_type": "markdown",
   "source": "StatisticSimilarity: This metric measures the similarity between a real column and a synthetic column by comparing a summary statistic. Supported summary statistics are: mean, median and standard deviation.\n",
   "id": "d0e54e1a37e95a75"
  },
  {
   "metadata": {
    "ExecuteTime": {
     "end_time": "2025-06-13T17:26:10.259306Z",
     "start_time": "2025-06-13T17:26:10.083072Z"
    }
   },
   "cell_type": "code",
   "source": [
    "import math\n",
    "from sdmetrics.single_column import StatisticSimilarity\n",
    "correlation_similarities = []\n",
    "column_scores = []\n",
    "for file in files:\n",
    "    df_org = pd.read_csv(\"../dataset/\" + file + \".csv\")\n",
    "    if \"Unnamed: 0\" in df_org.columns:\n",
    "        df_org = df_org.drop(columns=[\"Unnamed: 0\"])\n",
    "    df_fake = pd.read_csv(\"../dataset/fake_\" + file + \".csv\")\n",
    "    print(file)\n",
    "    for column in df_org.columns:\n",
    "        if column in [\"type\"]:\n",
    "            continue\n",
    "        ks_comp = StatisticSimilarity.compute(\n",
    "        real_data=df_org[column],\n",
    "        synthetic_data=df_fake[column],\n",
    "        statistic=\"std\"\n",
    "        )\n",
    "        if math.isnan(ks_comp):\n",
    "            continue\n",
    "        # print(column)\n",
    "        # print(ks_comp)\n",
    "        column_scores.append(ks_comp)\n",
    "\n",
    "    avg = sum(column_scores)/len(column_scores)\n",
    "    print(avg)\n",
    "    correlation_similarities.append(avg)\n",
    "    column_scores = []\n"
   ],
   "id": "173ff06b4e618775",
   "outputs": [
    {
     "name": "stdout",
     "output_type": "stream",
     "text": [
      "min_0_informative_cluster_0\n",
      "0.9913584924703223\n",
      "min_0_informative_cluster_1\n",
      "0.9892459611000692\n",
      "min_1_informative_cluster_1\n",
      "0.9902567033509811\n",
      "min_1_informative_cluster_0\n",
      "0.9786089131459846\n",
      "min_2_informative_cluster_0\n",
      "0.9852325596967788\n",
      "min_2_informative_cluster_1\n",
      "0.9875992281449637\n",
      "min_0_min_1_informative_cluster_0_informative_cluster_1\n",
      "0.9896176647257814\n",
      "min_0_min_2_informative_cluster_0_informative_cluster_1\n",
      "0.9889704687903145\n",
      "min_1_min_2_informative_cluster_0_informative_cluster_1\n",
      "0.9892582002552782\n"
     ]
    }
   ],
   "execution_count": 19
  },
  {
   "metadata": {
    "ExecuteTime": {
     "end_time": "2025-06-13T17:07:16.685299Z",
     "start_time": "2025-06-13T17:07:16.682299Z"
    }
   },
   "cell_type": "code",
   "source": "",
   "id": "f3edec491e7800b5",
   "outputs": [],
   "execution_count": null
  },
  {
   "metadata": {},
   "cell_type": "markdown",
   "source": [
    "TVComplement:\n",
    "This metric computes the similarity of a real column vs. a synthetic column in terms of the column shapes -- aka the marginal distribution or 1D histogram of the column.\n",
    "Only for categorical data"
   ],
   "id": "c8d488f9bee9df12"
  },
  {
   "metadata": {
    "ExecuteTime": {
     "end_time": "2025-06-13T17:07:24.888574Z",
     "start_time": "2025-06-13T17:07:24.742164Z"
    }
   },
   "cell_type": "code",
   "source": [
    "from sdmetrics.single_column import TVComplement\n",
    "correlation_similarities = []\n",
    "for file in files:\n",
    "    df_org = pd.read_csv(\"../dataset/\" + file + \".csv\")\n",
    "    if \"Unnamed: 0\" in df_org.columns:\n",
    "        df_org = df_org.drop(columns=[\"Unnamed: 0\"])\n",
    "    df_fake = pd.read_csv(\"../dataset/fake_\" + file + \".csv\")\n",
    "    print(file)\n",
    "    ks_comp = TVComplement.compute(\n",
    "    real_data=df_org[\"type\"],\n",
    "    synthetic_data=df_fake[\"type\"],\n",
    "    )\n",
    "\n",
    "    print(ks_comp)\n"
   ],
   "id": "3bb2f208b0e8ec01",
   "outputs": [
    {
     "name": "stdout",
     "output_type": "stream",
     "text": [
      "min_0_informative_cluster_0\n",
      "0.9888416578108395\n",
      "min_0_informative_cluster_1\n",
      "0.9003249235474007\n",
      "min_1_informative_cluster_1\n",
      "0.9741842610364683\n",
      "min_1_informative_cluster_0\n",
      "0.9700107104605498\n",
      "min_2_informative_cluster_0\n",
      "0.9195289499509323\n",
      "min_2_informative_cluster_1\n",
      "0.9600350058343057\n",
      "min_0_min_1_informative_cluster_0_informative_cluster_1\n",
      "0.9251836175774929\n",
      "min_0_min_2_informative_cluster_0_informative_cluster_1\n",
      "0.9330507118860982\n",
      "min_1_min_2_informative_cluster_0_informative_cluster_1\n",
      "0.9723872210627709\n"
     ]
    }
   ],
   "execution_count": 15
  },
  {
   "metadata": {
    "ExecuteTime": {
     "end_time": "2025-06-13T17:07:25.920179Z",
     "start_time": "2025-06-13T17:07:25.916841Z"
    }
   },
   "cell_type": "code",
   "source": "",
   "id": "8a6010b3affb24bd",
   "outputs": [],
   "execution_count": null
  },
  {
   "metadata": {},
   "cell_type": "markdown",
   "source": "Privacy metrics",
   "id": "e06ee7ca26237f19"
  },
  {
   "metadata": {
    "ExecuteTime": {
     "end_time": "2025-06-13T14:34:29.785073Z",
     "start_time": "2025-06-13T14:34:29.781911Z"
    }
   },
   "cell_type": "code",
   "source": "",
   "id": "aead4c79fe20d596",
   "outputs": [],
   "execution_count": null
  },
  {
   "metadata": {},
   "cell_type": "markdown",
   "source": [
    "The DCRBaselineProtection metric measures the distance between your synthetic data and real data to measure how private it is. For a fair measurement, it compares the distance against randomly generated data, which would provide the best possible privacy protection.\n",
    "\n",
    "DCR = Distance to Closest Record\n"
   ],
   "id": "c514f25de4274d65"
  },
  {
   "metadata": {
    "ExecuteTime": {
     "end_time": "2025-06-13T17:24:02.917283Z",
     "start_time": "2025-06-13T17:07:32.142809Z"
    }
   },
   "cell_type": "code",
   "source": [
    "from sdmetrics.single_table import DCRBaselineProtection\n",
    "from sdv.metadata import Metadata\n",
    "\n",
    "correlation_similarities = []\n",
    "for file in files:\n",
    "    df_org = pd.read_csv(\"../dataset/\" + file + \".csv\")\n",
    "    if \"Unnamed: 0\" in df_org.columns:\n",
    "        df_org = df_org.drop(columns=[\"Unnamed: 0\"])\n",
    "    df_fake = pd.read_csv(\"../dataset/fake_\" + file + \".csv\")\n",
    "    print(file)\n",
    "    ks_comp = DCRBaselineProtection.compute_breakdown(\n",
    "    real_data=df_org,\n",
    "    synthetic_data=df_fake,\n",
    "    metadata= Metadata.detect_from_dataframe(df_org).to_dict().get(\"tables\").get(\"table\")\n",
    "    )\n",
    "\n",
    "    print(ks_comp['score'])\n"
   ],
   "id": "e12149aee966daa5",
   "outputs": [
    {
     "name": "stdout",
     "output_type": "stream",
     "text": [
      "min_0_informative_cluster_0\n",
      "0.03175558368342471\n",
      "min_0_informative_cluster_1\n",
      "0.011997589031625077\n",
      "min_1_informative_cluster_1\n",
      "0.014894614462013804\n",
      "min_1_informative_cluster_0\n",
      "0.01967817193059218\n",
      "min_2_informative_cluster_0\n",
      "0.019654511316558595\n",
      "min_2_informative_cluster_1\n",
      "0.0006817255309615392\n",
      "min_0_min_1_informative_cluster_0_informative_cluster_1\n",
      "0.005704315080208666\n",
      "min_0_min_2_informative_cluster_0_informative_cluster_1\n",
      "0.0017217224917579442\n",
      "min_1_min_2_informative_cluster_0_informative_cluster_1\n",
      "0.0014179871363931105\n"
     ]
    }
   ],
   "execution_count": 16
  },
  {
   "metadata": {},
   "cell_type": "markdown",
   "source": [
    "(best) 1.0: The synthetic data has the highest possible privacy protection. Replacing the synthetic data entirely with random data would not improve the privacy.\n",
    "\n",
    "(worst) 0.0: The synthetic has the worst possible privacy protection. Compared to random data, the synthetic data is much closer to the real data."
   ],
   "id": "111e791bc712bb72"
  },
  {
   "metadata": {
    "ExecuteTime": {
     "end_time": "2025-06-13T17:24:02.991901Z",
     "start_time": "2025-06-13T17:24:02.987899Z"
    }
   },
   "cell_type": "code",
   "source": "",
   "id": "9ef799d107543621",
   "outputs": [],
   "execution_count": null
  },
  {
   "metadata": {},
   "cell_type": "markdown",
   "source": "The DisclosureProtection metric measures the risk associated with disclosing (aka broadly sharing) the synthetic data. It's a useful measurement if you want to know whether synthetic data is leaking patterns that pertain to sensitive information.",
   "id": "702da82498a815c4"
  },
  {
   "metadata": {
    "ExecuteTime": {
     "end_time": "2025-06-13T17:26:08.903221Z",
     "start_time": "2025-06-13T17:24:03.031931Z"
    }
   },
   "cell_type": "code",
   "source": [
    "from sdmetrics.single_table import DisclosureProtection\n",
    "from sdv.metadata import Metadata\n",
    "\n",
    "correlation_similarities = []\n",
    "for file in files:\n",
    "    df_org = pd.read_csv(\"../dataset/\" + file + \".csv\")\n",
    "    if \"Unnamed: 0\" in df_org.columns:\n",
    "        df_org = df_org.drop(columns=[\"Unnamed: 0\"])\n",
    "    df_fake = pd.read_csv(\"../dataset/fake_\" + file + \".csv\")\n",
    "    print(file)\n",
    "    ks_comp = DisclosureProtection.compute(\n",
    "    real_data=df_org,\n",
    "    synthetic_data=df_fake,\n",
    "    known_column_names=['newbalanceOrig','newbalanceDest','oldbalanceDest'],\n",
    "    sensitive_column_names=['amount'],\n",
    "    )\n",
    "\n",
    "    print(ks_comp)\n"
   ],
   "id": "12861aff2ab04be9",
   "outputs": [
    {
     "name": "stdout",
     "output_type": "stream",
     "text": [
      "min_0_informative_cluster_0\n",
      "1\n",
      "min_0_informative_cluster_1\n"
     ]
    },
    {
     "name": "stderr",
     "output_type": "stream",
     "text": [
      "I:\\ETVOS\\2nd semester\\DS Lab 1\\DSLAB-Project\\venv1\\Lib\\site-packages\\sdmetrics\\single_table\\privacy\\disclosure_protection.py:214: UserWarning: Data exceeds 10000 rows, perfomance may be slow. Consider using the `DisclosureProtectionEstimate` for faster computation.\n",
      "  warnings.warn(\n"
     ]
    },
    {
     "name": "stdout",
     "output_type": "stream",
     "text": [
      "1\n",
      "min_1_informative_cluster_1\n"
     ]
    },
    {
     "name": "stderr",
     "output_type": "stream",
     "text": [
      "I:\\ETVOS\\2nd semester\\DS Lab 1\\DSLAB-Project\\venv1\\Lib\\site-packages\\sdmetrics\\single_table\\privacy\\disclosure_protection.py:214: UserWarning: Data exceeds 10000 rows, perfomance may be slow. Consider using the `DisclosureProtectionEstimate` for faster computation.\n",
      "  warnings.warn(\n"
     ]
    },
    {
     "name": "stdout",
     "output_type": "stream",
     "text": [
      "1\n",
      "min_1_informative_cluster_0\n",
      "1\n",
      "min_2_informative_cluster_0\n",
      "1\n",
      "min_2_informative_cluster_1\n",
      "1\n",
      "min_0_min_1_informative_cluster_0_informative_cluster_1\n"
     ]
    },
    {
     "name": "stderr",
     "output_type": "stream",
     "text": [
      "I:\\ETVOS\\2nd semester\\DS Lab 1\\DSLAB-Project\\venv1\\Lib\\site-packages\\sdmetrics\\single_table\\privacy\\disclosure_protection.py:214: UserWarning: Data exceeds 10000 rows, perfomance may be slow. Consider using the `DisclosureProtectionEstimate` for faster computation.\n",
      "  warnings.warn(\n"
     ]
    },
    {
     "name": "stdout",
     "output_type": "stream",
     "text": [
      "1\n",
      "min_0_min_2_informative_cluster_0_informative_cluster_1\n"
     ]
    },
    {
     "name": "stderr",
     "output_type": "stream",
     "text": [
      "I:\\ETVOS\\2nd semester\\DS Lab 1\\DSLAB-Project\\venv1\\Lib\\site-packages\\sdmetrics\\single_table\\privacy\\disclosure_protection.py:214: UserWarning: Data exceeds 10000 rows, perfomance may be slow. Consider using the `DisclosureProtectionEstimate` for faster computation.\n",
      "  warnings.warn(\n"
     ]
    },
    {
     "name": "stdout",
     "output_type": "stream",
     "text": [
      "1\n",
      "min_1_min_2_informative_cluster_0_informative_cluster_1\n"
     ]
    },
    {
     "name": "stderr",
     "output_type": "stream",
     "text": [
      "I:\\ETVOS\\2nd semester\\DS Lab 1\\DSLAB-Project\\venv1\\Lib\\site-packages\\sdmetrics\\single_table\\privacy\\disclosure_protection.py:214: UserWarning: Data exceeds 10000 rows, perfomance may be slow. Consider using the `DisclosureProtectionEstimate` for faster computation.\n",
      "  warnings.warn(\n"
     ]
    },
    {
     "name": "stdout",
     "output_type": "stream",
     "text": [
      "1\n"
     ]
    }
   ],
   "execution_count": 17
  },
  {
   "metadata": {
    "ExecuteTime": {
     "end_time": "2025-06-13T14:37:14.110635Z",
     "start_time": "2025-06-13T14:37:14.107125Z"
    }
   },
   "cell_type": "code",
   "source": "",
   "id": "52a402c60c5c2c98",
   "outputs": [],
   "execution_count": null
  },
  {
   "metadata": {},
   "cell_type": "markdown",
   "source": [
    "The whole quality report\n",
    "\n",
    "The Single Table Quality Report evaluates how well your synthetic data captures mathematical properties in your data.\n",
    "\n",
    "AVG between Evaluating Column Shapes and Evaluating Column Pair Trends for each coloumn\n"
   ],
   "id": "1c71c77c8bab0995"
  },
  {
   "metadata": {
    "ExecuteTime": {
     "end_time": "2025-06-13T17:26:10.075065Z",
     "start_time": "2025-06-13T17:26:08.980208Z"
    }
   },
   "cell_type": "code",
   "source": [
    "from sdmetrics.reports.single_table import QualityReport\n",
    "\n",
    "report = QualityReport()\n",
    "\n",
    "for file in files:\n",
    "    df_org = pd.read_csv(\"../dataset/\" + file + \".csv\")\n",
    "    if \"Unnamed: 0\" in df_org.columns:\n",
    "        df_org = df_org.drop(columns=[\"Unnamed: 0\"])\n",
    "    df_fake = pd.read_csv(\"../dataset/fake_\" + file + \".csv\")\n",
    "    print(file)\n",
    "    report.generate(df_org, df_fake, Metadata.detect_from_dataframe(df_org).to_dict().get(\"tables\").get(\"table\"),verbose=False)\n",
    "    print(report.get_score())\n",
    "    # print(report.get_details(property_name='Column Shapes'))\n"
   ],
   "id": "63f916ea9ae931d8",
   "outputs": [
    {
     "name": "stdout",
     "output_type": "stream",
     "text": [
      "min_0_informative_cluster_0\n",
      "0.8667302094093139\n",
      "min_0_informative_cluster_1\n",
      "0.8316788393168555\n",
      "min_1_informative_cluster_1\n",
      "0.8766075840507723\n",
      "min_1_informative_cluster_0\n",
      "0.834356579304972\n",
      "min_2_informative_cluster_0\n",
      "0.8329007767091074\n",
      "min_2_informative_cluster_1\n",
      "0.8181600243620659\n",
      "min_0_min_1_informative_cluster_0_informative_cluster_1\n",
      "0.8401545105219063\n",
      "min_0_min_2_informative_cluster_0_informative_cluster_1\n",
      "0.8488720410133966\n",
      "min_1_min_2_informative_cluster_0_informative_cluster_1\n",
      "0.8232079053202237\n"
     ]
    }
   ],
   "execution_count": 18
  },
  {
   "metadata": {},
   "cell_type": "code",
   "outputs": [],
   "execution_count": null,
   "source": "",
   "id": "957ed182ee2564fd"
  },
  {
   "metadata": {},
   "cell_type": "markdown",
   "source": "",
   "id": "2840e1cb686ddf09"
  },
  {
   "metadata": {},
   "cell_type": "code",
   "outputs": [],
   "execution_count": null,
   "source": "",
   "id": "92073d51f7344d09"
  },
  {
   "metadata": {
    "ExecuteTime": {
     "end_time": "2025-06-13T14:49:00.796407Z",
     "start_time": "2025-06-13T14:49:00.793386Z"
    }
   },
   "cell_type": "code",
   "source": "",
   "id": "6dcf9270ad7bb75",
   "outputs": [],
   "execution_count": null
  },
  {
   "metadata": {},
   "cell_type": "code",
   "outputs": [],
   "execution_count": null,
   "source": "",
   "id": "db097f1b4fd91e1e"
  }
 ],
 "metadata": {
  "kernelspec": {
   "display_name": "Python 3",
   "language": "python",
   "name": "python3"
  },
  "language_info": {
   "codemirror_mode": {
    "name": "ipython",
    "version": 2
   },
   "file_extension": ".py",
   "mimetype": "text/x-python",
   "name": "python",
   "nbconvert_exporter": "python",
   "pygments_lexer": "ipython2",
   "version": "2.7.6"
  }
 },
 "nbformat": 4,
 "nbformat_minor": 5
}
