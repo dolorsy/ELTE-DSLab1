{
 "cells": [
  {
   "cell_type": "code",
   "id": "initial_id",
   "metadata": {
    "collapsed": true,
    "ExecuteTime": {
     "end_time": "2025-06-05T22:04:26.009850Z",
     "start_time": "2025-06-05T22:04:26.005443Z"
    }
   },
   "source": [
    "from ctgan import load_demo\n",
    "from ctgan import CTGAN\n",
    "import pandas as pd\n",
    "\n",
    "from sklearn.preprocessing import StandardScaler\n"
   ],
   "outputs": [],
   "execution_count": 22
  },
  {
   "metadata": {
    "ExecuteTime": {
     "end_time": "2025-06-05T22:04:26.184190Z",
     "start_time": "2025-06-05T22:04:26.161679Z"
    }
   },
   "cell_type": "code",
   "source": [
    "df_m_0 = pd.read_csv('../dataset/min_0.csv')\n",
    "df_m_1 = pd.read_csv('../dataset/min_1.csv')\n",
    "df_m_2 = pd.read_csv('../dataset/min_2.csv')\n",
    "df_m_3 = pd.read_csv('../dataset/min_3.csv')\n",
    "df_0 = pd.read_csv('../dataset/informative_cluster_0.csv')\n",
    "df_1 = pd.read_csv('../dataset/informative_cluster_1.csv')\n",
    "df_2 = pd.read_csv('../dataset/informative_cluster_2.csv')"
   ],
   "id": "ca79e16006e5829e",
   "outputs": [],
   "execution_count": 23
  },
  {
   "metadata": {
    "ExecuteTime": {
     "end_time": "2025-06-05T22:04:26.627135Z",
     "start_time": "2025-06-05T22:04:26.619114Z"
    }
   },
   "cell_type": "code",
   "source": "df_m_0.info()",
   "id": "2b7aaf9546284aec",
   "outputs": [
    {
     "name": "stdout",
     "output_type": "stream",
     "text": [
      "<class 'pandas.core.frame.DataFrame'>\n",
      "RangeIndex: 4115 entries, 0 to 4114\n",
      "Data columns (total 5 columns):\n",
      " #   Column          Non-Null Count  Dtype  \n",
      "---  ------          --------------  -----  \n",
      " 0   Unnamed: 0      4115 non-null   int64  \n",
      " 1   type            4115 non-null   int64  \n",
      " 2   oldbalanceOrg   4115 non-null   float64\n",
      " 3   newbalanceOrig  4115 non-null   float64\n",
      " 4   oldbalanceDest  4115 non-null   float64\n",
      "dtypes: float64(3), int64(2)\n",
      "memory usage: 160.9 KB\n"
     ]
    }
   ],
   "execution_count": 24
  },
  {
   "metadata": {
    "ExecuteTime": {
     "end_time": "2025-06-05T22:04:27.092963Z",
     "start_time": "2025-06-05T22:04:27.089035Z"
    }
   },
   "cell_type": "code",
   "source": "df = df_m_0",
   "id": "472de5557045710a",
   "outputs": [],
   "execution_count": 25
  },
  {
   "metadata": {
    "ExecuteTime": {
     "end_time": "2025-06-05T22:04:27.834995Z",
     "start_time": "2025-06-05T22:04:27.824993Z"
    }
   },
   "cell_type": "code",
   "source": [
    "df = df.drop(columns=['Unnamed: 0'])\n",
    "df.head()"
   ],
   "id": "62c9dfbfa6b1db40",
   "outputs": [
    {
     "data": {
      "text/plain": [
       "   type  oldbalanceOrg  newbalanceOrig  oldbalanceDest\n",
       "0     1         181.00             0.0         21182.0\n",
       "1     1        2806.00             0.0         26202.0\n",
       "2     1       20128.00             0.0          6268.0\n",
       "3     1           0.00             0.0           102.0\n",
       "4     1     1277212.77             0.0             0.0"
      ],
      "text/html": [
       "<div>\n",
       "<style scoped>\n",
       "    .dataframe tbody tr th:only-of-type {\n",
       "        vertical-align: middle;\n",
       "    }\n",
       "\n",
       "    .dataframe tbody tr th {\n",
       "        vertical-align: top;\n",
       "    }\n",
       "\n",
       "    .dataframe thead th {\n",
       "        text-align: right;\n",
       "    }\n",
       "</style>\n",
       "<table border=\"1\" class=\"dataframe\">\n",
       "  <thead>\n",
       "    <tr style=\"text-align: right;\">\n",
       "      <th></th>\n",
       "      <th>type</th>\n",
       "      <th>oldbalanceOrg</th>\n",
       "      <th>newbalanceOrig</th>\n",
       "      <th>oldbalanceDest</th>\n",
       "    </tr>\n",
       "  </thead>\n",
       "  <tbody>\n",
       "    <tr>\n",
       "      <th>0</th>\n",
       "      <td>1</td>\n",
       "      <td>181.00</td>\n",
       "      <td>0.0</td>\n",
       "      <td>21182.0</td>\n",
       "    </tr>\n",
       "    <tr>\n",
       "      <th>1</th>\n",
       "      <td>1</td>\n",
       "      <td>2806.00</td>\n",
       "      <td>0.0</td>\n",
       "      <td>26202.0</td>\n",
       "    </tr>\n",
       "    <tr>\n",
       "      <th>2</th>\n",
       "      <td>1</td>\n",
       "      <td>20128.00</td>\n",
       "      <td>0.0</td>\n",
       "      <td>6268.0</td>\n",
       "    </tr>\n",
       "    <tr>\n",
       "      <th>3</th>\n",
       "      <td>1</td>\n",
       "      <td>0.00</td>\n",
       "      <td>0.0</td>\n",
       "      <td>102.0</td>\n",
       "    </tr>\n",
       "    <tr>\n",
       "      <th>4</th>\n",
       "      <td>1</td>\n",
       "      <td>1277212.77</td>\n",
       "      <td>0.0</td>\n",
       "      <td>0.0</td>\n",
       "    </tr>\n",
       "  </tbody>\n",
       "</table>\n",
       "</div>"
      ]
     },
     "execution_count": 26,
     "metadata": {},
     "output_type": "execute_result"
    }
   ],
   "execution_count": 26
  },
  {
   "metadata": {
    "ExecuteTime": {
     "end_time": "2025-06-05T22:04:29.050809Z",
     "start_time": "2025-06-05T22:04:29.046809Z"
    }
   },
   "cell_type": "code",
   "source": "",
   "id": "26287f3c0f2b81f2",
   "outputs": [],
   "execution_count": null
  },
  {
   "metadata": {
    "ExecuteTime": {
     "end_time": "2025-06-05T22:04:38.384066Z",
     "start_time": "2025-06-05T22:04:29.935387Z"
    }
   },
   "cell_type": "code",
   "source": [
    "# Names of the columns that are discrete\n",
    "discrete_columns = [\n",
    "    'type'\n",
    "]\n",
    "\n",
    "ctgan = CTGAN(epochs=10)\n",
    "ctgan.fit(df, discrete_columns)\n",
    "\n",
    "# Create synthetic data\n"
   ],
   "id": "997948b5746c0eaa",
   "outputs": [],
   "execution_count": 27
  },
  {
   "metadata": {
    "ExecuteTime": {
     "end_time": "2025-06-05T22:04:38.420363Z",
     "start_time": "2025-06-05T22:04:38.389433Z"
    }
   },
   "cell_type": "code",
   "source": "synthetic_data = ctgan.sample(1000)",
   "id": "9e2e5b403e34a08f",
   "outputs": [],
   "execution_count": 28
  },
  {
   "metadata": {
    "ExecuteTime": {
     "end_time": "2025-06-05T22:04:38.452369Z",
     "start_time": "2025-06-05T22:04:38.443365Z"
    }
   },
   "cell_type": "code",
   "source": "synthetic_data.head()",
   "id": "24ff5c3da44095f3",
   "outputs": [
    {
     "data": {
      "text/plain": [
       "   type  oldbalanceOrg  newbalanceOrig  oldbalanceDest\n",
       "0     1 -173522.783467      100.079221  -125908.788228\n",
       "1     1   46875.634383       60.363389   976435.709896\n",
       "2     1  190903.993423      159.793368  -214486.182078\n",
       "3     1 -184829.164561      196.914430   -91139.431833\n",
       "4     1 -177424.831260     -123.455997  -495523.518584"
      ],
      "text/html": [
       "<div>\n",
       "<style scoped>\n",
       "    .dataframe tbody tr th:only-of-type {\n",
       "        vertical-align: middle;\n",
       "    }\n",
       "\n",
       "    .dataframe tbody tr th {\n",
       "        vertical-align: top;\n",
       "    }\n",
       "\n",
       "    .dataframe thead th {\n",
       "        text-align: right;\n",
       "    }\n",
       "</style>\n",
       "<table border=\"1\" class=\"dataframe\">\n",
       "  <thead>\n",
       "    <tr style=\"text-align: right;\">\n",
       "      <th></th>\n",
       "      <th>type</th>\n",
       "      <th>oldbalanceOrg</th>\n",
       "      <th>newbalanceOrig</th>\n",
       "      <th>oldbalanceDest</th>\n",
       "    </tr>\n",
       "  </thead>\n",
       "  <tbody>\n",
       "    <tr>\n",
       "      <th>0</th>\n",
       "      <td>1</td>\n",
       "      <td>-173522.783467</td>\n",
       "      <td>100.079221</td>\n",
       "      <td>-125908.788228</td>\n",
       "    </tr>\n",
       "    <tr>\n",
       "      <th>1</th>\n",
       "      <td>1</td>\n",
       "      <td>46875.634383</td>\n",
       "      <td>60.363389</td>\n",
       "      <td>976435.709896</td>\n",
       "    </tr>\n",
       "    <tr>\n",
       "      <th>2</th>\n",
       "      <td>1</td>\n",
       "      <td>190903.993423</td>\n",
       "      <td>159.793368</td>\n",
       "      <td>-214486.182078</td>\n",
       "    </tr>\n",
       "    <tr>\n",
       "      <th>3</th>\n",
       "      <td>1</td>\n",
       "      <td>-184829.164561</td>\n",
       "      <td>196.914430</td>\n",
       "      <td>-91139.431833</td>\n",
       "    </tr>\n",
       "    <tr>\n",
       "      <th>4</th>\n",
       "      <td>1</td>\n",
       "      <td>-177424.831260</td>\n",
       "      <td>-123.455997</td>\n",
       "      <td>-495523.518584</td>\n",
       "    </tr>\n",
       "  </tbody>\n",
       "</table>\n",
       "</div>"
      ]
     },
     "execution_count": 29,
     "metadata": {},
     "output_type": "execute_result"
    }
   ],
   "execution_count": 29
  },
  {
   "metadata": {
    "ExecuteTime": {
     "end_time": "2025-06-05T22:03:03.240307Z",
     "start_time": "2025-06-05T22:03:03.237308Z"
    }
   },
   "cell_type": "code",
   "source": "",
   "id": "91413ea283dd8123",
   "outputs": [],
   "execution_count": null
  },
  {
   "metadata": {},
   "cell_type": "code",
   "outputs": [],
   "execution_count": null,
   "source": [
    "from sdv.cag import CustomConstraint\n",
    "from sdv.cag import SingleTableProgrammableConstraint\n",
    "\n",
    "class TransactionBalanceLogic(CustomConstraint):\n",
    "    def is_valid(self, row):\n",
    "        t = row['type']\n",
    "        obo = row['oldBalanceOrig']\n",
    "        nbo = row['newBalanceOrig']\n",
    "        obd = row['oldBalanceDest']\n",
    "\n",
    "        if any(v is None for v in [t, obo, nbo, obd]):\n",
    "            return True  # skip NaNs\n",
    "\n",
    "        # Calculate transaction amount\n",
    "        amount = obo - nbo\n",
    "\n",
    "        if t == 'TRANSFER':\n",
    "            return amount > 0 and obd + amount >= 0\n",
    "        elif t == 'CASH_OUT':\n",
    "            return amount > 0\n",
    "        elif t == 'PAYMENT':\n",
    "            return amount > 0\n",
    "        elif t == 'DEBIT':\n",
    "            return amount > 0 and obd + amount >= 0\n",
    "        elif t == 'CASH_IN':\n",
    "            return amount == 0 and obd > 0\n",
    "        else:\n",
    "            return True  # for unknown or test types\n",
    "\n",
    "    def transform(self, table_data):\n",
    "        return table_data  # no transformation needed\n",
    "\n",
    "    def reverse_transform(self, table_data):\n",
    "        return table_data\n"
   ],
   "id": "54cb02def7a162be"
  },
  {
   "metadata": {},
   "cell_type": "code",
   "outputs": [],
   "execution_count": null,
   "source": [
    "from sdv.single_table import CTGANSynthesizer\n",
    "\n",
    "synthesizer = CTGANSynthesizer(metadata)\n",
    "synthesizer.add_constraints([TransactionBalanceLogic()])\n",
    "synthesizer.fit(real_data)"
   ],
   "id": "4c458d8cf0dfc36e"
  }
 ],
 "metadata": {
  "kernelspec": {
   "display_name": "Python 3",
   "language": "python",
   "name": "python3"
  },
  "language_info": {
   "codemirror_mode": {
    "name": "ipython",
    "version": 2
   },
   "file_extension": ".py",
   "mimetype": "text/x-python",
   "name": "python",
   "nbconvert_exporter": "python",
   "pygments_lexer": "ipython2",
   "version": "2.7.6"
  }
 },
 "nbformat": 4,
 "nbformat_minor": 5
}
