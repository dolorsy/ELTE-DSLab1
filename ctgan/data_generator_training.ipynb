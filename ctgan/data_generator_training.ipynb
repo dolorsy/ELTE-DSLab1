{
 "cells": [
  {
   "cell_type": "code",
   "id": "initial_id",
   "metadata": {
    "collapsed": true,
    "ExecuteTime": {
     "end_time": "2025-06-09T12:28:45.098631Z",
     "start_time": "2025-06-09T12:28:39.062551Z"
    }
   },
   "source": [
    "from ctgan import load_demo\n",
    "from ctgan import CTGAN\n",
    "import pandas as pd\n",
    "\n",
    "from sklearn.preprocessing import StandardScaler\n"
   ],
   "outputs": [],
   "execution_count": 1
  },
  {
   "metadata": {
    "ExecuteTime": {
     "end_time": "2025-06-09T12:28:45.126989Z",
     "start_time": "2025-06-09T12:28:45.105596Z"
    }
   },
   "cell_type": "code",
   "source": [
    "df_m_0 = \"min_0\"\n",
    "df_m_1 = \"min_1\"\n",
    "df_m_2 = 'min_2'\n",
    "# df_m_3 = pd.read_csv('../dataset/min_3.csv')\n",
    "df_0 = 'informative_cluster_0'\n",
    "df_1 = 'informative_cluster_1'\n",
    "df_merged = 'merged_shuffled'\n",
    "# df_2 = pd.read_csv('../dataset/informative_cluster_2.csv')\n",
    "selected_file = df_merged\n",
    "df= pd.read_csv(\"../dataset/\" + selected_file + \".csv\")"
   ],
   "id": "ca79e16006e5829e",
   "outputs": [],
   "execution_count": 2
  },
  {
   "metadata": {
    "ExecuteTime": {
     "end_time": "2025-06-09T12:28:45.486651Z",
     "start_time": "2025-06-09T12:28:45.468585Z"
    }
   },
   "cell_type": "code",
   "source": "df.info()",
   "id": "2b7aaf9546284aec",
   "outputs": [
    {
     "name": "stdout",
     "output_type": "stream",
     "text": [
      "<class 'pandas.core.frame.DataFrame'>\n",
      "RangeIndex: 16413 entries, 0 to 16412\n",
      "Data columns (total 6 columns):\n",
      " #   Column          Non-Null Count  Dtype  \n",
      "---  ------          --------------  -----  \n",
      " 0   type            16413 non-null  int64  \n",
      " 1   amount          16413 non-null  float64\n",
      " 2   oldbalanceOrg   16413 non-null  float64\n",
      " 3   newbalanceOrig  16413 non-null  float64\n",
      " 4   oldbalanceDest  16413 non-null  float64\n",
      " 5   newbalanceDest  16413 non-null  float64\n",
      "dtypes: float64(5), int64(1)\n",
      "memory usage: 769.5 KB\n"
     ]
    }
   ],
   "execution_count": 3
  },
  {
   "metadata": {
    "ExecuteTime": {
     "end_time": "2025-06-09T12:28:49.298515Z",
     "start_time": "2025-06-09T12:28:49.295537Z"
    }
   },
   "cell_type": "code",
   "source": "",
   "id": "472de5557045710a",
   "outputs": [],
   "execution_count": null
  },
  {
   "metadata": {
    "ExecuteTime": {
     "end_time": "2025-06-09T12:29:26.704797Z",
     "start_time": "2025-06-09T12:29:26.684253Z"
    }
   },
   "cell_type": "code",
   "source": [
    "if 'Unnamed: 0' in df.columns:\n",
    "    df = df.drop(columns=['Unnamed: 0'])\n",
    "df.head()"
   ],
   "id": "62c9dfbfa6b1db40",
   "outputs": [
    {
     "data": {
      "text/plain": [
       "   type      amount  oldbalanceOrg  newbalanceOrig  oldbalanceDest  \\\n",
       "0     1   205480.23        5949.01             0.0      1235745.12   \n",
       "1     1   167806.93      167806.93             0.0            0.00   \n",
       "2     1   181330.91       37778.00             0.0        36793.35   \n",
       "3     4   167907.12      167907.12             0.0            0.00   \n",
       "4     4  1434440.31     1434440.31             0.0            0.00   \n",
       "\n",
       "   newbalanceDest  \n",
       "0      1441225.36  \n",
       "1       167806.93  \n",
       "2       218124.26  \n",
       "3            0.00  \n",
       "4            0.00  "
      ],
      "text/html": [
       "<div>\n",
       "<style scoped>\n",
       "    .dataframe tbody tr th:only-of-type {\n",
       "        vertical-align: middle;\n",
       "    }\n",
       "\n",
       "    .dataframe tbody tr th {\n",
       "        vertical-align: top;\n",
       "    }\n",
       "\n",
       "    .dataframe thead th {\n",
       "        text-align: right;\n",
       "    }\n",
       "</style>\n",
       "<table border=\"1\" class=\"dataframe\">\n",
       "  <thead>\n",
       "    <tr style=\"text-align: right;\">\n",
       "      <th></th>\n",
       "      <th>type</th>\n",
       "      <th>amount</th>\n",
       "      <th>oldbalanceOrg</th>\n",
       "      <th>newbalanceOrig</th>\n",
       "      <th>oldbalanceDest</th>\n",
       "      <th>newbalanceDest</th>\n",
       "    </tr>\n",
       "  </thead>\n",
       "  <tbody>\n",
       "    <tr>\n",
       "      <th>0</th>\n",
       "      <td>1</td>\n",
       "      <td>205480.23</td>\n",
       "      <td>5949.01</td>\n",
       "      <td>0.0</td>\n",
       "      <td>1235745.12</td>\n",
       "      <td>1441225.36</td>\n",
       "    </tr>\n",
       "    <tr>\n",
       "      <th>1</th>\n",
       "      <td>1</td>\n",
       "      <td>167806.93</td>\n",
       "      <td>167806.93</td>\n",
       "      <td>0.0</td>\n",
       "      <td>0.00</td>\n",
       "      <td>167806.93</td>\n",
       "    </tr>\n",
       "    <tr>\n",
       "      <th>2</th>\n",
       "      <td>1</td>\n",
       "      <td>181330.91</td>\n",
       "      <td>37778.00</td>\n",
       "      <td>0.0</td>\n",
       "      <td>36793.35</td>\n",
       "      <td>218124.26</td>\n",
       "    </tr>\n",
       "    <tr>\n",
       "      <th>3</th>\n",
       "      <td>4</td>\n",
       "      <td>167907.12</td>\n",
       "      <td>167907.12</td>\n",
       "      <td>0.0</td>\n",
       "      <td>0.00</td>\n",
       "      <td>0.00</td>\n",
       "    </tr>\n",
       "    <tr>\n",
       "      <th>4</th>\n",
       "      <td>4</td>\n",
       "      <td>1434440.31</td>\n",
       "      <td>1434440.31</td>\n",
       "      <td>0.0</td>\n",
       "      <td>0.00</td>\n",
       "      <td>0.00</td>\n",
       "    </tr>\n",
       "  </tbody>\n",
       "</table>\n",
       "</div>"
      ]
     },
     "execution_count": 5,
     "metadata": {},
     "output_type": "execute_result"
    }
   ],
   "execution_count": 5
  },
  {
   "metadata": {
    "ExecuteTime": {
     "end_time": "2025-06-09T12:29:34.512680Z",
     "start_time": "2025-06-09T12:29:31.933284Z"
    }
   },
   "cell_type": "code",
   "source": [
    "from sdv.cag import SingleTableProgrammableConstraint\n",
    "\n",
    "class TransactionBalanceLogic(SingleTableProgrammableConstraint):\n",
    "    def is_valid(self, row):\n",
    "        print(row)\n",
    "        amount = row['amount']\n",
    "        obo = row['oldbalanceOrg']\n",
    "        nbo = row['newbalanceOrig']\n",
    "        obd = row['oldbalanceDest']\n",
    "        nbd = row['oldbalanceDest']\n",
    "\n",
    "        # if any(v is None for v in [t, obo, nbo, obd]):\n",
    "        #     return True  # skip NaNs\n",
    "        return (obd >= 0) & (obo >= 0) & (nbo >= 0) & (amount>0) & (nbd >= 0)\n",
    "\n",
    "    def transform(self, table_data):\n",
    "        return table_data  # no transformation needed\n",
    "\n",
    "    def get_updated_metadata(self, metadata):\n",
    "        new_metadata = metadata.copy()\n",
    "        return new_metadata\n",
    "\n",
    "    def reverse_transform(self, table_data):\n",
    "        return table_data\n"
   ],
   "id": "54cb02def7a162be",
   "outputs": [],
   "execution_count": 6
  },
  {
   "metadata": {
    "ExecuteTime": {
     "end_time": "2025-06-09T12:36:42.343211Z",
     "start_time": "2025-06-09T12:29:35.219317Z"
    }
   },
   "cell_type": "code",
   "source": [
    "from sdv.single_table import CTGANSynthesizer\n",
    "from sdv.metadata import Metadata\n",
    "metadata = Metadata.detect_from_dataframe(df)\n",
    "synthesizer = CTGANSynthesizer(metadata)\n",
    "synthesizer.add_constraints([TransactionBalanceLogic()])\n",
    "synthesizer.fit(df)"
   ],
   "id": "4c458d8cf0dfc36e",
   "outputs": [
    {
     "name": "stderr",
     "output_type": "stream",
     "text": [
      "I:\\ETVOS\\2nd semester\\DS Lab 1\\DSLAB-Project\\venv1\\Lib\\site-packages\\sdv\\single_table\\base.py:128: UserWarning: We strongly recommend saving the metadata using 'save_to_json' for replicability in future SDV versions.\n",
      "  warnings.warn(\n"
     ]
    }
   ],
   "execution_count": 7
  },
  {
   "metadata": {
    "ExecuteTime": {
     "end_time": "2025-06-09T12:36:43.223419Z",
     "start_time": "2025-06-09T12:36:42.414482Z"
    }
   },
   "cell_type": "code",
   "source": "data = synthesizer.sample(df.shape[0],output_file_path=\"../dataset/fake_\" + selected_file + \".csv\")",
   "id": "84529d343652a2e7",
   "outputs": [
    {
     "name": "stdout",
     "output_type": "stream",
     "text": [
      "       type     amount  oldbalanceOrg  newbalanceOrig  oldbalanceDest  \\\n",
      "0         1  249120.14     2377531.77          814.36        27632.75   \n",
      "1         1   14785.81       42063.94            0.00       176827.96   \n",
      "2         1       0.00           0.00         5009.06       331470.73   \n",
      "3         3    2086.72       59208.48         3865.90         2404.70   \n",
      "4         1       0.00      120641.34         9425.39      3402203.24   \n",
      "...     ...        ...            ...             ...             ...   \n",
      "16408     4   82951.18     1059501.43            0.00        20274.96   \n",
      "16409     4  492669.66      252210.51        13056.84        38779.47   \n",
      "16410     1  248086.73      222164.17          266.39       205416.25   \n",
      "16411     3       0.00           0.00        11757.52            0.00   \n",
      "16412     1  820169.91     1455161.11          717.63        24859.38   \n",
      "\n",
      "       newbalanceDest  \n",
      "0          4406226.70  \n",
      "1          1122000.98  \n",
      "2           352109.69  \n",
      "3            30228.16  \n",
      "4          1025391.42  \n",
      "...               ...  \n",
      "16408            0.00  \n",
      "16409       736266.53  \n",
      "16410       142606.20  \n",
      "16411            0.00  \n",
      "16412       218623.58  \n",
      "\n",
      "[16413 rows x 6 columns]\n",
      "      type      amount  oldbalanceOrg  newbalanceOrig  oldbalanceDest  \\\n",
      "0        1   250329.60       82244.70         1372.39       654263.84   \n",
      "1        3    37256.61       23691.61         7481.04            0.00   \n",
      "2        0        0.00        5515.76         3408.98       221004.39   \n",
      "3        1  1829483.99     1487550.43        11341.88      1955616.26   \n",
      "4        1  1896098.71     1984761.74         4272.89      4621461.61   \n",
      "...    ...         ...            ...             ...             ...   \n",
      "2828     1    44750.61           0.00            0.00        36774.32   \n",
      "2829     1    48872.52       44371.88            0.00            0.00   \n",
      "2830     1   159147.57      114692.20         8725.44      2685684.29   \n",
      "2831     4   211639.32     1327754.11            0.00        47447.71   \n",
      "2832     1   277115.37       80316.78            0.00        22254.01   \n",
      "\n",
      "      newbalanceDest  \n",
      "0          979375.10  \n",
      "1           19248.26  \n",
      "2          232520.91  \n",
      "3         1262732.45  \n",
      "4         4871375.13  \n",
      "...              ...  \n",
      "2828        40753.28  \n",
      "2829       309415.52  \n",
      "2830      2281293.66  \n",
      "2831      1482112.51  \n",
      "2832       398175.15  \n",
      "\n",
      "[2833 rows x 6 columns]\n",
      "   type     amount  oldbalanceOrg  newbalanceOrig  oldbalanceDest  \\\n",
      "0     1   29905.07        1543.89            0.00       140629.70   \n",
      "1     1  270225.17      406329.36       150180.82        26306.17   \n",
      "2     1  285916.36       42423.95            0.00        24541.21   \n",
      "3     1   82684.44       22621.35            0.00       450411.88   \n",
      "4     1  542039.41      948701.18         8554.52       939341.42   \n",
      "5     0       0.00        3914.57        11645.81         7231.33   \n",
      "6     1  297620.22       21346.82            0.00       892784.27   \n",
      "7     1   10715.06       20280.66            0.00       128856.64   \n",
      "8     4  249770.13       35751.28            0.00        39274.29   \n",
      "9     1   14737.09     4394808.00      2429269.48       267215.53   \n",
      "\n",
      "   newbalanceDest  \n",
      "0       273741.92  \n",
      "1       205962.45  \n",
      "2       337954.40  \n",
      "3       976451.82  \n",
      "4      1851172.65  \n",
      "5        34670.92  \n",
      "6       490837.69  \n",
      "7       268586.31  \n",
      "8       444407.97  \n",
      "9            0.00  \n"
     ]
    }
   ],
   "execution_count": 8
  },
  {
   "metadata": {
    "ExecuteTime": {
     "end_time": "2025-06-06T14:03:25.507688Z",
     "start_time": "2025-06-06T14:03:25.504691Z"
    }
   },
   "cell_type": "code",
   "source": "",
   "id": "bfe8f1ac4d8dc183",
   "outputs": [],
   "execution_count": null
  },
  {
   "metadata": {},
   "cell_type": "code",
   "outputs": [],
   "execution_count": null,
   "source": "",
   "id": "f992631f27e06388"
  }
 ],
 "metadata": {
  "kernelspec": {
   "display_name": "Python 3",
   "language": "python",
   "name": "python3"
  },
  "language_info": {
   "codemirror_mode": {
    "name": "ipython",
    "version": 2
   },
   "file_extension": ".py",
   "mimetype": "text/x-python",
   "name": "python",
   "nbconvert_exporter": "python",
   "pygments_lexer": "ipython2",
   "version": "2.7.6"
  }
 },
 "nbformat": 4,
 "nbformat_minor": 5
}
