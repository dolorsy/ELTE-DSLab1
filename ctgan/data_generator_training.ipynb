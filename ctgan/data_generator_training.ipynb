{
 "cells": [
  {
   "cell_type": "code",
   "id": "initial_id",
   "metadata": {
    "collapsed": true,
    "ExecuteTime": {
     "end_time": "2025-06-06T07:24:57.164450Z",
     "start_time": "2025-06-06T07:24:57.141Z"
    }
   },
   "source": [
    "from ctgan import load_demo\n",
    "from ctgan import CTGAN\n",
    "import pandas as pd\n",
    "\n",
    "from sklearn.preprocessing import StandardScaler\n"
   ],
   "outputs": [],
   "execution_count": 30
  },
  {
   "metadata": {
    "ExecuteTime": {
     "end_time": "2025-06-06T14:07:26.906320Z",
     "start_time": "2025-06-06T14:07:26.894284Z"
    }
   },
   "cell_type": "code",
   "source": [
    "df_m_0 = \"min_0\"\n",
    "df_m_1 = \"min_1\"\n",
    "df_m_2 = 'min_2'\n",
    "# df_m_3 = pd.read_csv('../dataset/min_3.csv')\n",
    "df_0 = 'informative_cluster_0'\n",
    "df_1 = 'informative_cluster_1'\n",
    "# df_2 = pd.read_csv('../dataset/informative_cluster_2.csv')\n",
    "selected_file = df_1\n",
    "df= pd.read_csv(\"../dataset/\" + selected_file + \".csv\")"
   ],
   "id": "ca79e16006e5829e",
   "outputs": [],
   "execution_count": 127
  },
  {
   "metadata": {
    "ExecuteTime": {
     "end_time": "2025-06-06T14:07:26.934682Z",
     "start_time": "2025-06-06T14:07:26.926176Z"
    }
   },
   "cell_type": "code",
   "source": "df.info()",
   "id": "2b7aaf9546284aec",
   "outputs": [
    {
     "name": "stdout",
     "output_type": "stream",
     "text": [
      "<class 'pandas.core.frame.DataFrame'>\n",
      "RangeIndex: 6509 entries, 0 to 6508\n",
      "Data columns (total 7 columns):\n",
      " #   Column          Non-Null Count  Dtype  \n",
      "---  ------          --------------  -----  \n",
      " 0   Unnamed: 0      6509 non-null   int64  \n",
      " 1   type            6509 non-null   int64  \n",
      " 2   amount          6509 non-null   float64\n",
      " 3   oldbalanceOrg   6509 non-null   float64\n",
      " 4   newbalanceOrig  6509 non-null   float64\n",
      " 5   oldbalanceDest  6509 non-null   float64\n",
      " 6   newbalanceDest  6509 non-null   float64\n",
      "dtypes: float64(5), int64(2)\n",
      "memory usage: 356.1 KB\n"
     ]
    }
   ],
   "execution_count": 128
  },
  {
   "metadata": {
    "ExecuteTime": {
     "end_time": "2025-06-06T14:07:27.027306Z",
     "start_time": "2025-06-06T14:07:27.023336Z"
    }
   },
   "cell_type": "code",
   "source": "",
   "id": "472de5557045710a",
   "outputs": [],
   "execution_count": null
  },
  {
   "metadata": {
    "ExecuteTime": {
     "end_time": "2025-06-06T14:07:27.073330Z",
     "start_time": "2025-06-06T14:07:27.062191Z"
    }
   },
   "cell_type": "code",
   "source": [
    "df = df.drop(columns=['Unnamed: 0'])\n",
    "df.head()"
   ],
   "id": "62c9dfbfa6b1db40",
   "outputs": [
    {
     "data": {
      "text/plain": [
       "   type    amount  oldbalanceOrg  newbalanceOrig  oldbalanceDest  \\\n",
       "0     0   9442.86           0.00         9442.86        89555.86   \n",
       "1     0  10485.04       10411.00        20896.04       119631.29   \n",
       "2     0   7116.65      228235.00       235351.65       122203.77   \n",
       "3     0   6200.80      126034.58       132235.38       611206.60   \n",
       "4     0  14965.91       18467.00        33432.91       316691.28   \n",
       "\n",
       "   newbalanceDest  \n",
       "0        80113.01  \n",
       "1       109146.25  \n",
       "2       115087.12  \n",
       "3       605005.80  \n",
       "4       301725.37  "
      ],
      "text/html": [
       "<div>\n",
       "<style scoped>\n",
       "    .dataframe tbody tr th:only-of-type {\n",
       "        vertical-align: middle;\n",
       "    }\n",
       "\n",
       "    .dataframe tbody tr th {\n",
       "        vertical-align: top;\n",
       "    }\n",
       "\n",
       "    .dataframe thead th {\n",
       "        text-align: right;\n",
       "    }\n",
       "</style>\n",
       "<table border=\"1\" class=\"dataframe\">\n",
       "  <thead>\n",
       "    <tr style=\"text-align: right;\">\n",
       "      <th></th>\n",
       "      <th>type</th>\n",
       "      <th>amount</th>\n",
       "      <th>oldbalanceOrg</th>\n",
       "      <th>newbalanceOrig</th>\n",
       "      <th>oldbalanceDest</th>\n",
       "      <th>newbalanceDest</th>\n",
       "    </tr>\n",
       "  </thead>\n",
       "  <tbody>\n",
       "    <tr>\n",
       "      <th>0</th>\n",
       "      <td>0</td>\n",
       "      <td>9442.86</td>\n",
       "      <td>0.00</td>\n",
       "      <td>9442.86</td>\n",
       "      <td>89555.86</td>\n",
       "      <td>80113.01</td>\n",
       "    </tr>\n",
       "    <tr>\n",
       "      <th>1</th>\n",
       "      <td>0</td>\n",
       "      <td>10485.04</td>\n",
       "      <td>10411.00</td>\n",
       "      <td>20896.04</td>\n",
       "      <td>119631.29</td>\n",
       "      <td>109146.25</td>\n",
       "    </tr>\n",
       "    <tr>\n",
       "      <th>2</th>\n",
       "      <td>0</td>\n",
       "      <td>7116.65</td>\n",
       "      <td>228235.00</td>\n",
       "      <td>235351.65</td>\n",
       "      <td>122203.77</td>\n",
       "      <td>115087.12</td>\n",
       "    </tr>\n",
       "    <tr>\n",
       "      <th>3</th>\n",
       "      <td>0</td>\n",
       "      <td>6200.80</td>\n",
       "      <td>126034.58</td>\n",
       "      <td>132235.38</td>\n",
       "      <td>611206.60</td>\n",
       "      <td>605005.80</td>\n",
       "    </tr>\n",
       "    <tr>\n",
       "      <th>4</th>\n",
       "      <td>0</td>\n",
       "      <td>14965.91</td>\n",
       "      <td>18467.00</td>\n",
       "      <td>33432.91</td>\n",
       "      <td>316691.28</td>\n",
       "      <td>301725.37</td>\n",
       "    </tr>\n",
       "  </tbody>\n",
       "</table>\n",
       "</div>"
      ]
     },
     "execution_count": 129,
     "metadata": {},
     "output_type": "execute_result"
    }
   ],
   "execution_count": 129
  },
  {
   "metadata": {
    "ExecuteTime": {
     "end_time": "2025-06-06T14:07:27.143933Z",
     "start_time": "2025-06-06T14:07:27.137475Z"
    }
   },
   "cell_type": "code",
   "source": [
    "from sdv.cag import SingleTableProgrammableConstraint\n",
    "\n",
    "class TransactionBalanceLogic(SingleTableProgrammableConstraint):\n",
    "    def is_valid(self, row):\n",
    "        print(row)\n",
    "        amount = row['amount']\n",
    "        obo = row['oldbalanceOrg']\n",
    "        nbo = row['newbalanceOrig']\n",
    "        obd = row['oldbalanceDest']\n",
    "        nbd = row['oldbalanceDest']\n",
    "\n",
    "        # if any(v is None for v in [t, obo, nbo, obd]):\n",
    "        #     return True  # skip NaNs\n",
    "        return (obd >= 0) & (obo >= 0) & (nbo >= 0) & (amount>0) & (nbd >= 0)\n",
    "\n",
    "    def transform(self, table_data):\n",
    "        return table_data  # no transformation needed\n",
    "\n",
    "    def get_updated_metadata(self, metadata):\n",
    "        new_metadata = metadata.copy()\n",
    "        return new_metadata\n",
    "\n",
    "    def reverse_transform(self, table_data):\n",
    "        return table_data\n"
   ],
   "id": "54cb02def7a162be",
   "outputs": [],
   "execution_count": 130
  },
  {
   "metadata": {
    "ExecuteTime": {
     "end_time": "2025-06-06T14:10:33.500931Z",
     "start_time": "2025-06-06T14:07:36.159968Z"
    }
   },
   "cell_type": "code",
   "source": [
    "from sdv.single_table import CTGANSynthesizer\n",
    "from sdv.metadata import Metadata\n",
    "metadata = Metadata.detect_from_dataframe(df)\n",
    "synthesizer = CTGANSynthesizer(metadata)\n",
    "synthesizer.add_constraints([TransactionBalanceLogic()])\n",
    "synthesizer.fit(df)"
   ],
   "id": "4c458d8cf0dfc36e",
   "outputs": [
    {
     "name": "stderr",
     "output_type": "stream",
     "text": [
      "I:\\ETVOS\\2nd semester\\DS Lab 1\\DSLAB-Project\\venv1\\Lib\\site-packages\\sdv\\single_table\\base.py:128: UserWarning: We strongly recommend saving the metadata using 'save_to_json' for replicability in future SDV versions.\n",
      "  warnings.warn(\n"
     ]
    }
   ],
   "execution_count": 131
  },
  {
   "metadata": {
    "ExecuteTime": {
     "end_time": "2025-06-06T14:10:33.743853Z",
     "start_time": "2025-06-06T14:10:33.540201Z"
    }
   },
   "cell_type": "code",
   "source": "data = synthesizer.sample(df.shape[0],output_file_path=\"../dataset/fake_\" + selected_file + \".csv\")",
   "id": "84529d343652a2e7",
   "outputs": [
    {
     "name": "stdout",
     "output_type": "stream",
     "text": [
      "      type     amount  oldbalanceOrg  newbalanceOrig  oldbalanceDest  \\\n",
      "0        0   16318.37        2782.07          543.40          900.86   \n",
      "1        1    8673.88       20475.46        12087.16        17774.73   \n",
      "2        3   14742.25       41266.93       180973.42         4759.28   \n",
      "3        1  458282.69       27077.05         3053.57       186138.65   \n",
      "4        3    1732.84      128967.95       436517.62         6278.58   \n",
      "...    ...        ...            ...             ...             ...   \n",
      "6504     1    9954.42       63658.35       311671.37         3042.07   \n",
      "6505     1  147607.18       14341.25        11747.69       136534.54   \n",
      "6506     3    6134.67        9612.99            0.00            0.00   \n",
      "6507     0   20686.07      170538.13       202648.34          963.04   \n",
      "6508     3   10554.80       63238.38       245705.57         2237.95   \n",
      "\n",
      "      newbalanceDest  \n",
      "0            7168.14  \n",
      "1          523596.49  \n",
      "2               0.00  \n",
      "3          329157.14  \n",
      "4            9470.85  \n",
      "...              ...  \n",
      "6504        59383.97  \n",
      "6505       619362.38  \n",
      "6506         2147.43  \n",
      "6507            0.00  \n",
      "6508            0.00  \n",
      "\n",
      "[6509 rows x 6 columns]\n"
     ]
    }
   ],
   "execution_count": 132
  },
  {
   "metadata": {
    "ExecuteTime": {
     "end_time": "2025-06-06T14:03:25.507688Z",
     "start_time": "2025-06-06T14:03:25.504691Z"
    }
   },
   "cell_type": "code",
   "source": "",
   "id": "bfe8f1ac4d8dc183",
   "outputs": [],
   "execution_count": null
  },
  {
   "metadata": {},
   "cell_type": "code",
   "outputs": [],
   "execution_count": null,
   "source": "",
   "id": "f992631f27e06388"
  }
 ],
 "metadata": {
  "kernelspec": {
   "display_name": "Python 3",
   "language": "python",
   "name": "python3"
  },
  "language_info": {
   "codemirror_mode": {
    "name": "ipython",
    "version": 2
   },
   "file_extension": ".py",
   "mimetype": "text/x-python",
   "name": "python",
   "nbconvert_exporter": "python",
   "pygments_lexer": "ipython2",
   "version": "2.7.6"
  }
 },
 "nbformat": 4,
 "nbformat_minor": 5
}
