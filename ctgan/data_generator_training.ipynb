{
 "cells": [
  {
   "cell_type": "code",
   "id": "initial_id",
   "metadata": {
    "collapsed": true,
    "ExecuteTime": {
     "end_time": "2025-05-30T18:11:15.723925Z",
     "start_time": "2025-05-30T18:11:15.676783Z"
    }
   },
   "source": [
    "from ctgan import load_demo\n",
    "from ctgan import CTGAN\n",
    "import pandas as pd\n",
    "\n"
   ],
   "outputs": [],
   "execution_count": 5
  },
  {
   "metadata": {
    "ExecuteTime": {
     "end_time": "2025-05-30T18:11:16.155524Z",
     "start_time": "2025-05-30T18:11:16.105293Z"
    }
   },
   "cell_type": "code",
   "source": [
    "df_m = pd.read_csv('../dataset/minority.csv')\n",
    "df = pd.read_csv('../dataset/majority_informative.csv')"
   ],
   "id": "ca79e16006e5829e",
   "outputs": [],
   "execution_count": 6
  },
  {
   "metadata": {
    "ExecuteTime": {
     "end_time": "2025-05-30T18:11:17.031831Z",
     "start_time": "2025-05-30T18:11:16.969683Z"
    }
   },
   "cell_type": "code",
   "source": "df.info()",
   "id": "2b7aaf9546284aec",
   "outputs": [
    {
     "name": "stdout",
     "output_type": "stream",
     "text": [
      "<class 'pandas.core.frame.DataFrame'>\n",
      "RangeIndex: 8200 entries, 0 to 8199\n",
      "Data columns (total 6 columns):\n",
      " #   Column          Non-Null Count  Dtype  \n",
      "---  ------          --------------  -----  \n",
      " 0   Unnamed: 0      8200 non-null   int64  \n",
      " 1   type            8200 non-null   int64  \n",
      " 2   oldbalanceOrg   8200 non-null   float64\n",
      " 3   newbalanceOrig  8200 non-null   float64\n",
      " 4   oldbalanceDest  8200 non-null   float64\n",
      " 5   isFraud         8200 non-null   int64  \n",
      "dtypes: float64(3), int64(3)\n",
      "memory usage: 384.5 KB\n"
     ]
    }
   ],
   "execution_count": 7
  },
  {
   "metadata": {
    "ExecuteTime": {
     "end_time": "2025-05-30T18:17:30.684891Z",
     "start_time": "2025-05-30T18:17:30.512087Z"
    }
   },
   "cell_type": "code",
   "source": "df.head()",
   "id": "62c9dfbfa6b1db40",
   "outputs": [
    {
     "data": {
      "text/plain": [
       "   Unnamed: 0  type  oldbalanceOrg  newbalanceOrig  oldbalanceDest  isFraud\n",
       "0     2441017     0       28488.83        35434.00          955.51        0\n",
       "1     2301877     0     5393405.29      5405360.93       280003.74        0\n",
       "2     4605340     0       10579.00        21995.77        20104.93        0\n",
       "3     2767579     0       39659.00        47338.39        54399.40        0\n",
       "4     1559211     0     4922014.34      4931816.15        41993.56        0"
      ],
      "text/html": [
       "<div>\n",
       "<style scoped>\n",
       "    .dataframe tbody tr th:only-of-type {\n",
       "        vertical-align: middle;\n",
       "    }\n",
       "\n",
       "    .dataframe tbody tr th {\n",
       "        vertical-align: top;\n",
       "    }\n",
       "\n",
       "    .dataframe thead th {\n",
       "        text-align: right;\n",
       "    }\n",
       "</style>\n",
       "<table border=\"1\" class=\"dataframe\">\n",
       "  <thead>\n",
       "    <tr style=\"text-align: right;\">\n",
       "      <th></th>\n",
       "      <th>Unnamed: 0</th>\n",
       "      <th>type</th>\n",
       "      <th>oldbalanceOrg</th>\n",
       "      <th>newbalanceOrig</th>\n",
       "      <th>oldbalanceDest</th>\n",
       "      <th>isFraud</th>\n",
       "    </tr>\n",
       "  </thead>\n",
       "  <tbody>\n",
       "    <tr>\n",
       "      <th>0</th>\n",
       "      <td>2441017</td>\n",
       "      <td>0</td>\n",
       "      <td>28488.83</td>\n",
       "      <td>35434.00</td>\n",
       "      <td>955.51</td>\n",
       "      <td>0</td>\n",
       "    </tr>\n",
       "    <tr>\n",
       "      <th>1</th>\n",
       "      <td>2301877</td>\n",
       "      <td>0</td>\n",
       "      <td>5393405.29</td>\n",
       "      <td>5405360.93</td>\n",
       "      <td>280003.74</td>\n",
       "      <td>0</td>\n",
       "    </tr>\n",
       "    <tr>\n",
       "      <th>2</th>\n",
       "      <td>4605340</td>\n",
       "      <td>0</td>\n",
       "      <td>10579.00</td>\n",
       "      <td>21995.77</td>\n",
       "      <td>20104.93</td>\n",
       "      <td>0</td>\n",
       "    </tr>\n",
       "    <tr>\n",
       "      <th>3</th>\n",
       "      <td>2767579</td>\n",
       "      <td>0</td>\n",
       "      <td>39659.00</td>\n",
       "      <td>47338.39</td>\n",
       "      <td>54399.40</td>\n",
       "      <td>0</td>\n",
       "    </tr>\n",
       "    <tr>\n",
       "      <th>4</th>\n",
       "      <td>1559211</td>\n",
       "      <td>0</td>\n",
       "      <td>4922014.34</td>\n",
       "      <td>4931816.15</td>\n",
       "      <td>41993.56</td>\n",
       "      <td>0</td>\n",
       "    </tr>\n",
       "  </tbody>\n",
       "</table>\n",
       "</div>"
      ]
     },
     "execution_count": 8,
     "metadata": {},
     "output_type": "execute_result"
    }
   ],
   "execution_count": 8
  },
  {
   "metadata": {
    "ExecuteTime": {
     "end_time": "2025-05-30T18:18:04.671177Z",
     "start_time": "2025-05-30T18:18:04.663204Z"
    }
   },
   "cell_type": "code",
   "source": "df = df.drop(columns=['Unnamed: 0'])",
   "id": "26287f3c0f2b81f2",
   "outputs": [],
   "execution_count": 9
  },
  {
   "metadata": {
    "ExecuteTime": {
     "end_time": "2025-05-30T18:19:05.538997Z",
     "start_time": "2025-05-30T18:18:32.769871Z"
    }
   },
   "cell_type": "code",
   "source": [
    "# Names of the columns that are discrete\n",
    "discrete_columns = [\n",
    "    'type'\n",
    "]\n",
    "\n",
    "ctgan = CTGAN(epochs=10)\n",
    "ctgan.fit(df, discrete_columns)\n",
    "\n",
    "# Create synthetic data\n"
   ],
   "id": "997948b5746c0eaa",
   "outputs": [],
   "execution_count": 10
  },
  {
   "metadata": {
    "ExecuteTime": {
     "end_time": "2025-05-30T18:19:05.588141Z",
     "start_time": "2025-05-30T18:19:05.544005Z"
    }
   },
   "cell_type": "code",
   "source": "synthetic_data = ctgan.sample(1000)",
   "id": "9e2e5b403e34a08f",
   "outputs": [],
   "execution_count": 11
  },
  {
   "metadata": {
    "ExecuteTime": {
     "end_time": "2025-05-30T18:25:56.870645Z",
     "start_time": "2025-05-30T18:25:56.860642Z"
    }
   },
   "cell_type": "code",
   "source": "synthetic_data.head()",
   "id": "24ff5c3da44095f3",
   "outputs": [
    {
     "data": {
      "text/plain": [
       "   type  oldbalanceOrg  newbalanceOrig  oldbalanceDest  isFraud\n",
       "0     0  384535.323524    3.944446e+05     5012.052717        0\n",
       "1     3   22375.124236    2.218599e+05   131087.849740        0\n",
       "2     2   87371.477171    2.926703e+07    42726.125287        0\n",
       "3     1  -33000.393699    8.372308e+04     2582.018422        0\n",
       "4     4   -6454.223290    8.536287e+04    17186.064353        0"
      ],
      "text/html": [
       "<div>\n",
       "<style scoped>\n",
       "    .dataframe tbody tr th:only-of-type {\n",
       "        vertical-align: middle;\n",
       "    }\n",
       "\n",
       "    .dataframe tbody tr th {\n",
       "        vertical-align: top;\n",
       "    }\n",
       "\n",
       "    .dataframe thead th {\n",
       "        text-align: right;\n",
       "    }\n",
       "</style>\n",
       "<table border=\"1\" class=\"dataframe\">\n",
       "  <thead>\n",
       "    <tr style=\"text-align: right;\">\n",
       "      <th></th>\n",
       "      <th>type</th>\n",
       "      <th>oldbalanceOrg</th>\n",
       "      <th>newbalanceOrig</th>\n",
       "      <th>oldbalanceDest</th>\n",
       "      <th>isFraud</th>\n",
       "    </tr>\n",
       "  </thead>\n",
       "  <tbody>\n",
       "    <tr>\n",
       "      <th>0</th>\n",
       "      <td>0</td>\n",
       "      <td>384535.323524</td>\n",
       "      <td>3.944446e+05</td>\n",
       "      <td>5012.052717</td>\n",
       "      <td>0</td>\n",
       "    </tr>\n",
       "    <tr>\n",
       "      <th>1</th>\n",
       "      <td>3</td>\n",
       "      <td>22375.124236</td>\n",
       "      <td>2.218599e+05</td>\n",
       "      <td>131087.849740</td>\n",
       "      <td>0</td>\n",
       "    </tr>\n",
       "    <tr>\n",
       "      <th>2</th>\n",
       "      <td>2</td>\n",
       "      <td>87371.477171</td>\n",
       "      <td>2.926703e+07</td>\n",
       "      <td>42726.125287</td>\n",
       "      <td>0</td>\n",
       "    </tr>\n",
       "    <tr>\n",
       "      <th>3</th>\n",
       "      <td>1</td>\n",
       "      <td>-33000.393699</td>\n",
       "      <td>8.372308e+04</td>\n",
       "      <td>2582.018422</td>\n",
       "      <td>0</td>\n",
       "    </tr>\n",
       "    <tr>\n",
       "      <th>4</th>\n",
       "      <td>4</td>\n",
       "      <td>-6454.223290</td>\n",
       "      <td>8.536287e+04</td>\n",
       "      <td>17186.064353</td>\n",
       "      <td>0</td>\n",
       "    </tr>\n",
       "  </tbody>\n",
       "</table>\n",
       "</div>"
      ]
     },
     "execution_count": 13,
     "metadata": {},
     "output_type": "execute_result"
    }
   ],
   "execution_count": 13
  },
  {
   "metadata": {},
   "cell_type": "code",
   "outputs": [],
   "execution_count": null,
   "source": "|",
   "id": "54cb02def7a162be"
  }
 ],
 "metadata": {
  "kernelspec": {
   "display_name": "Python 3",
   "language": "python",
   "name": "python3"
  },
  "language_info": {
   "codemirror_mode": {
    "name": "ipython",
    "version": 2
   },
   "file_extension": ".py",
   "mimetype": "text/x-python",
   "name": "python",
   "nbconvert_exporter": "python",
   "pygments_lexer": "ipython2",
   "version": "2.7.6"
  }
 },
 "nbformat": 4,
 "nbformat_minor": 5
}
