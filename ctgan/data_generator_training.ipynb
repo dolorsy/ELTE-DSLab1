{
 "cells": [
  {
   "cell_type": "code",
   "id": "initial_id",
   "metadata": {
    "collapsed": true,
    "ExecuteTime": {
     "end_time": "2025-06-11T20:10:53.967055Z",
     "start_time": "2025-06-11T20:10:53.962719Z"
    }
   },
   "source": [
    "\n",
    "import pandas as pd\n",
    "\n"
   ],
   "outputs": [],
   "execution_count": 1
  },
  {
   "metadata": {
    "ExecuteTime": {
     "end_time": "2025-06-11T20:10:54.018652Z",
     "start_time": "2025-06-11T20:10:54.003586Z"
    }
   },
   "cell_type": "code",
   "source": [
    "df_m_0 = \"min_0\"\n",
    "df_m_1 = \"min_1\"\n",
    "df_m_2 = 'min_2'\n",
    "# df_m_3 = pd.read_csv('../dataset/min_3.csv')\n",
    "df_0 = 'informative_cluster_0'\n",
    "df_1 = 'informative_cluster_1'\n",
    "df_merged = 'merged_shuffled'\n",
    "df_merged_labeled = 'merged_shuffled_labeled'\n",
    "# df_2 = pd.read_csv('../dataset/informative_cluster_2.csv')\n",
    "selected_file = df_m_0\n",
    "df= pd.read_csv(\"../dataset/\" + selected_file + \".csv\")"
   ],
   "id": "ca79e16006e5829e",
   "outputs": [],
   "execution_count": 2
  },
  {
   "metadata": {
    "ExecuteTime": {
     "end_time": "2025-06-11T20:10:56.020427Z",
     "start_time": "2025-06-11T20:10:56.010347Z"
    }
   },
   "cell_type": "code",
   "source": "df.info()",
   "id": "2b7aaf9546284aec",
   "outputs": [
    {
     "name": "stdout",
     "output_type": "stream",
     "text": [
      "<class 'pandas.core.frame.DataFrame'>\n",
      "RangeIndex: 3955 entries, 0 to 3954\n",
      "Data columns (total 7 columns):\n",
      " #   Column          Non-Null Count  Dtype  \n",
      "---  ------          --------------  -----  \n",
      " 0   type            3955 non-null   int64  \n",
      " 1   amount          3955 non-null   float64\n",
      " 2   oldbalanceOrg   3955 non-null   float64\n",
      " 3   newbalanceOrig  3955 non-null   float64\n",
      " 4   oldbalanceDest  3955 non-null   float64\n",
      " 5   newbalanceDest  3955 non-null   float64\n",
      " 6   isFraud         3955 non-null   int64  \n",
      "dtypes: float64(5), int64(2)\n",
      "memory usage: 216.4 KB\n"
     ]
    }
   ],
   "execution_count": 3
  },
  {
   "metadata": {
    "ExecuteTime": {
     "end_time": "2025-06-11T20:10:58.446275Z",
     "start_time": "2025-06-11T20:10:58.443240Z"
    }
   },
   "cell_type": "code",
   "source": "",
   "id": "472de5557045710a",
   "outputs": [],
   "execution_count": null
  },
  {
   "metadata": {
    "ExecuteTime": {
     "end_time": "2025-06-11T20:10:59.498029Z",
     "start_time": "2025-06-11T20:10:59.482960Z"
    }
   },
   "cell_type": "code",
   "source": [
    "if 'Unnamed: 0' in df.columns:\n",
    "    df = df.drop(columns=['Unnamed: 0'])\n",
    "df.head()"
   ],
   "id": "62c9dfbfa6b1db40",
   "outputs": [
    {
     "data": {
      "text/plain": [
       "   type     amount  oldbalanceOrg  newbalanceOrig  oldbalanceDest  \\\n",
       "0     1     181.00         181.00             0.0        21182.00   \n",
       "1     1    2806.00        2806.00             0.0        26202.00   \n",
       "2     1   20128.00       20128.00             0.0         6268.00   \n",
       "3     1   25071.46       25071.46             0.0         9083.76   \n",
       "4     1  235238.66      235238.66             0.0            0.00   \n",
       "\n",
       "   newbalanceDest  isFraud  \n",
       "0            0.00        1  \n",
       "1            0.00        1  \n",
       "2        12145.85        1  \n",
       "3        34155.22        1  \n",
       "4       235238.66        1  "
      ],
      "text/html": [
       "<div>\n",
       "<style scoped>\n",
       "    .dataframe tbody tr th:only-of-type {\n",
       "        vertical-align: middle;\n",
       "    }\n",
       "\n",
       "    .dataframe tbody tr th {\n",
       "        vertical-align: top;\n",
       "    }\n",
       "\n",
       "    .dataframe thead th {\n",
       "        text-align: right;\n",
       "    }\n",
       "</style>\n",
       "<table border=\"1\" class=\"dataframe\">\n",
       "  <thead>\n",
       "    <tr style=\"text-align: right;\">\n",
       "      <th></th>\n",
       "      <th>type</th>\n",
       "      <th>amount</th>\n",
       "      <th>oldbalanceOrg</th>\n",
       "      <th>newbalanceOrig</th>\n",
       "      <th>oldbalanceDest</th>\n",
       "      <th>newbalanceDest</th>\n",
       "      <th>isFraud</th>\n",
       "    </tr>\n",
       "  </thead>\n",
       "  <tbody>\n",
       "    <tr>\n",
       "      <th>0</th>\n",
       "      <td>1</td>\n",
       "      <td>181.00</td>\n",
       "      <td>181.00</td>\n",
       "      <td>0.0</td>\n",
       "      <td>21182.00</td>\n",
       "      <td>0.00</td>\n",
       "      <td>1</td>\n",
       "    </tr>\n",
       "    <tr>\n",
       "      <th>1</th>\n",
       "      <td>1</td>\n",
       "      <td>2806.00</td>\n",
       "      <td>2806.00</td>\n",
       "      <td>0.0</td>\n",
       "      <td>26202.00</td>\n",
       "      <td>0.00</td>\n",
       "      <td>1</td>\n",
       "    </tr>\n",
       "    <tr>\n",
       "      <th>2</th>\n",
       "      <td>1</td>\n",
       "      <td>20128.00</td>\n",
       "      <td>20128.00</td>\n",
       "      <td>0.0</td>\n",
       "      <td>6268.00</td>\n",
       "      <td>12145.85</td>\n",
       "      <td>1</td>\n",
       "    </tr>\n",
       "    <tr>\n",
       "      <th>3</th>\n",
       "      <td>1</td>\n",
       "      <td>25071.46</td>\n",
       "      <td>25071.46</td>\n",
       "      <td>0.0</td>\n",
       "      <td>9083.76</td>\n",
       "      <td>34155.22</td>\n",
       "      <td>1</td>\n",
       "    </tr>\n",
       "    <tr>\n",
       "      <th>4</th>\n",
       "      <td>1</td>\n",
       "      <td>235238.66</td>\n",
       "      <td>235238.66</td>\n",
       "      <td>0.0</td>\n",
       "      <td>0.00</td>\n",
       "      <td>235238.66</td>\n",
       "      <td>1</td>\n",
       "    </tr>\n",
       "  </tbody>\n",
       "</table>\n",
       "</div>"
      ]
     },
     "execution_count": 4,
     "metadata": {},
     "output_type": "execute_result"
    }
   ],
   "execution_count": 4
  },
  {
   "metadata": {
    "ExecuteTime": {
     "end_time": "2025-06-11T20:11:04.181162Z",
     "start_time": "2025-06-11T20:11:00.294522Z"
    }
   },
   "cell_type": "code",
   "source": [
    "from sdv.cag import SingleTableProgrammableConstraint\n",
    "\n",
    "class TransactionBalanceLogic(SingleTableProgrammableConstraint):\n",
    "    def is_valid(self, row):\n",
    "        print(row)\n",
    "        amount = row['amount']\n",
    "        obo = row['oldbalanceOrg']\n",
    "        nbo = row['newbalanceOrig']\n",
    "        obd = row['oldbalanceDest']\n",
    "        nbd = row['oldbalanceDest']\n",
    "\n",
    "        # if any(v is None for v in [t, obo, nbo, obd]):\n",
    "        #     return True  # skip NaNs\n",
    "        return (obd >= 0) & (obo >= 0) & (nbo >= 0) & (amount>0) & (nbd >= 0)\n",
    "\n",
    "    def transform(self, table_data):\n",
    "        return table_data  # no transformation needed\n",
    "\n",
    "    def get_updated_metadata(self, metadata):\n",
    "        new_metadata = metadata.copy()\n",
    "        return new_metadata\n",
    "\n",
    "    def reverse_transform(self, table_data):\n",
    "        return table_data\n"
   ],
   "id": "54cb02def7a162be",
   "outputs": [],
   "execution_count": 5
  },
  {
   "metadata": {
    "ExecuteTime": {
     "end_time": "2025-06-11T20:12:15.315293Z",
     "start_time": "2025-06-11T20:11:04.190169Z"
    }
   },
   "cell_type": "code",
   "source": [
    "from sdv.single_table import CTGANSynthesizer\n",
    "from sdv.metadata import Metadata\n",
    "metadata = Metadata.detect_from_dataframe(df)\n",
    "synthesizer = CTGANSynthesizer(metadata)\n",
    "synthesizer.add_constraints([TransactionBalanceLogic()])\n",
    "synthesizer.fit(df)"
   ],
   "id": "4c458d8cf0dfc36e",
   "outputs": [
    {
     "name": "stderr",
     "output_type": "stream",
     "text": [
      "I:\\ETVOS\\2nd semester\\DS Lab 1\\DSLAB-Project\\venv1\\Lib\\site-packages\\sdv\\single_table\\base.py:128: UserWarning: We strongly recommend saving the metadata using 'save_to_json' for replicability in future SDV versions.\n",
      "  warnings.warn(\n"
     ]
    },
    {
     "ename": "KeyboardInterrupt",
     "evalue": "",
     "output_type": "error",
     "traceback": [
      "\u001B[31m---------------------------------------------------------------------------\u001B[39m",
      "\u001B[31mKeyboardInterrupt\u001B[39m                         Traceback (most recent call last)",
      "\u001B[36mCell\u001B[39m\u001B[36m \u001B[39m\u001B[32mIn[6]\u001B[39m\u001B[32m, line 6\u001B[39m\n\u001B[32m      4\u001B[39m synthesizer = CTGANSynthesizer(metadata)\n\u001B[32m      5\u001B[39m synthesizer.add_constraints([TransactionBalanceLogic()])\n\u001B[32m----> \u001B[39m\u001B[32m6\u001B[39m \u001B[43msynthesizer\u001B[49m\u001B[43m.\u001B[49m\u001B[43mfit\u001B[49m\u001B[43m(\u001B[49m\u001B[43mdf\u001B[49m\u001B[43m)\u001B[49m\n",
      "\u001B[36mFile \u001B[39m\u001B[32mI:\\ETVOS\\2nd semester\\DS Lab 1\\DSLAB-Project\\venv1\\Lib\\site-packages\\sdv\\single_table\\base.py:666\u001B[39m, in \u001B[36mBaseSynthesizer.fit\u001B[39m\u001B[34m(self, data)\u001B[39m\n\u001B[32m    664\u001B[39m is_converted = \u001B[38;5;28mself\u001B[39m._store_and_convert_original_cols(data)\n\u001B[32m    665\u001B[39m processed_data = \u001B[38;5;28mself\u001B[39m.preprocess(data)\n\u001B[32m--> \u001B[39m\u001B[32m666\u001B[39m \u001B[38;5;28;43mself\u001B[39;49m\u001B[43m.\u001B[49m\u001B[43mfit_processed_data\u001B[49m\u001B[43m(\u001B[49m\u001B[43mprocessed_data\u001B[49m\u001B[43m)\u001B[49m\n\u001B[32m    667\u001B[39m \u001B[38;5;28;01mif\u001B[39;00m is_converted:\n\u001B[32m    668\u001B[39m     data.columns = \u001B[38;5;28mself\u001B[39m._original_columns\n",
      "\u001B[36mFile \u001B[39m\u001B[32mI:\\ETVOS\\2nd semester\\DS Lab 1\\DSLAB-Project\\venv1\\Lib\\site-packages\\sdv\\single_table\\base.py:635\u001B[39m, in \u001B[36mBaseSynthesizer.fit_processed_data\u001B[39m\u001B[34m(self, processed_data)\u001B[39m\n\u001B[32m    633\u001B[39m check_synthesizer_version(\u001B[38;5;28mself\u001B[39m, is_fit_method=\u001B[38;5;28;01mTrue\u001B[39;00m, compare_operator=operator.lt)\n\u001B[32m    634\u001B[39m \u001B[38;5;28;01mif\u001B[39;00m \u001B[38;5;129;01mnot\u001B[39;00m processed_data.empty:\n\u001B[32m--> \u001B[39m\u001B[32m635\u001B[39m     \u001B[38;5;28;43mself\u001B[39;49m\u001B[43m.\u001B[49m\u001B[43m_fit\u001B[49m\u001B[43m(\u001B[49m\u001B[43mprocessed_data\u001B[49m\u001B[43m)\u001B[49m\n\u001B[32m    637\u001B[39m \u001B[38;5;28mself\u001B[39m._fitted = \u001B[38;5;28;01mTrue\u001B[39;00m\n\u001B[32m    638\u001B[39m \u001B[38;5;28mself\u001B[39m._fitted_date = datetime.datetime.today().strftime(\u001B[33m'\u001B[39m\u001B[33m%\u001B[39m\u001B[33mY-\u001B[39m\u001B[33m%\u001B[39m\u001B[33mm-\u001B[39m\u001B[38;5;132;01m%d\u001B[39;00m\u001B[33m'\u001B[39m)\n",
      "\u001B[36mFile \u001B[39m\u001B[32mI:\\ETVOS\\2nd semester\\DS Lab 1\\DSLAB-Project\\venv1\\Lib\\site-packages\\sdv\\single_table\\ctgan.py:292\u001B[39m, in \u001B[36mCTGANSynthesizer._fit\u001B[39m\u001B[34m(self, processed_data)\u001B[39m\n\u001B[32m    290\u001B[39m \u001B[38;5;28;01mwith\u001B[39;00m warnings.catch_warnings():\n\u001B[32m    291\u001B[39m     warnings.filterwarnings(\u001B[33m'\u001B[39m\u001B[33mignore\u001B[39m\u001B[33m'\u001B[39m, message=\u001B[33m'\u001B[39m\u001B[33m.*Attempting to run cuBLAS.*\u001B[39m\u001B[33m'\u001B[39m)\n\u001B[32m--> \u001B[39m\u001B[32m292\u001B[39m     \u001B[38;5;28;43mself\u001B[39;49m\u001B[43m.\u001B[49m\u001B[43m_model\u001B[49m\u001B[43m.\u001B[49m\u001B[43mfit\u001B[49m\u001B[43m(\u001B[49m\u001B[43mprocessed_data\u001B[49m\u001B[43m,\u001B[49m\u001B[43m \u001B[49m\u001B[43mdiscrete_columns\u001B[49m\u001B[43m=\u001B[49m\u001B[43mdiscrete_columns\u001B[49m\u001B[43m)\u001B[49m\n",
      "\u001B[36mFile \u001B[39m\u001B[32mI:\\ETVOS\\2nd semester\\DS Lab 1\\DSLAB-Project\\venv1\\Lib\\site-packages\\ctgan\\synthesizers\\base.py:50\u001B[39m, in \u001B[36mrandom_state.<locals>.wrapper\u001B[39m\u001B[34m(self, *args, **kwargs)\u001B[39m\n\u001B[32m     48\u001B[39m \u001B[38;5;28;01mdef\u001B[39;00m\u001B[38;5;250m \u001B[39m\u001B[34mwrapper\u001B[39m(\u001B[38;5;28mself\u001B[39m, *args, **kwargs):\n\u001B[32m     49\u001B[39m     \u001B[38;5;28;01mif\u001B[39;00m \u001B[38;5;28mself\u001B[39m.random_states \u001B[38;5;129;01mis\u001B[39;00m \u001B[38;5;28;01mNone\u001B[39;00m:\n\u001B[32m---> \u001B[39m\u001B[32m50\u001B[39m         \u001B[38;5;28;01mreturn\u001B[39;00m \u001B[43mfunction\u001B[49m\u001B[43m(\u001B[49m\u001B[38;5;28;43mself\u001B[39;49m\u001B[43m,\u001B[49m\u001B[43m \u001B[49m\u001B[43m*\u001B[49m\u001B[43margs\u001B[49m\u001B[43m,\u001B[49m\u001B[43m \u001B[49m\u001B[43m*\u001B[49m\u001B[43m*\u001B[49m\u001B[43mkwargs\u001B[49m\u001B[43m)\u001B[49m\n\u001B[32m     52\u001B[39m     \u001B[38;5;28;01melse\u001B[39;00m:\n\u001B[32m     53\u001B[39m         \u001B[38;5;28;01mwith\u001B[39;00m set_random_states(\u001B[38;5;28mself\u001B[39m.random_states, \u001B[38;5;28mself\u001B[39m.set_random_state):\n",
      "\u001B[36mFile \u001B[39m\u001B[32mI:\\ETVOS\\2nd semester\\DS Lab 1\\DSLAB-Project\\venv1\\Lib\\site-packages\\ctgan\\synthesizers\\ctgan.py:434\u001B[39m, in \u001B[36mCTGAN.fit\u001B[39m\u001B[34m(self, train_data, discrete_columns, epochs)\u001B[39m\n\u001B[32m    431\u001B[39m loss_d = -(torch.mean(y_real) - torch.mean(y_fake))\n\u001B[32m    433\u001B[39m optimizerD.zero_grad(set_to_none=\u001B[38;5;28;01mFalse\u001B[39;00m)\n\u001B[32m--> \u001B[39m\u001B[32m434\u001B[39m \u001B[43mpen\u001B[49m\u001B[43m.\u001B[49m\u001B[43mbackward\u001B[49m\u001B[43m(\u001B[49m\u001B[43mretain_graph\u001B[49m\u001B[43m=\u001B[49m\u001B[38;5;28;43;01mTrue\u001B[39;49;00m\u001B[43m)\u001B[49m\n\u001B[32m    435\u001B[39m loss_d.backward()\n\u001B[32m    436\u001B[39m optimizerD.step()\n",
      "\u001B[36mFile \u001B[39m\u001B[32mI:\\ETVOS\\2nd semester\\DS Lab 1\\DSLAB-Project\\venv1\\Lib\\site-packages\\torch\\_tensor.py:648\u001B[39m, in \u001B[36mTensor.backward\u001B[39m\u001B[34m(self, gradient, retain_graph, create_graph, inputs)\u001B[39m\n\u001B[32m    638\u001B[39m \u001B[38;5;28;01mif\u001B[39;00m has_torch_function_unary(\u001B[38;5;28mself\u001B[39m):\n\u001B[32m    639\u001B[39m     \u001B[38;5;28;01mreturn\u001B[39;00m handle_torch_function(\n\u001B[32m    640\u001B[39m         Tensor.backward,\n\u001B[32m    641\u001B[39m         (\u001B[38;5;28mself\u001B[39m,),\n\u001B[32m   (...)\u001B[39m\u001B[32m    646\u001B[39m         inputs=inputs,\n\u001B[32m    647\u001B[39m     )\n\u001B[32m--> \u001B[39m\u001B[32m648\u001B[39m \u001B[43mtorch\u001B[49m\u001B[43m.\u001B[49m\u001B[43mautograd\u001B[49m\u001B[43m.\u001B[49m\u001B[43mbackward\u001B[49m\u001B[43m(\u001B[49m\n\u001B[32m    649\u001B[39m \u001B[43m    \u001B[49m\u001B[38;5;28;43mself\u001B[39;49m\u001B[43m,\u001B[49m\u001B[43m \u001B[49m\u001B[43mgradient\u001B[49m\u001B[43m,\u001B[49m\u001B[43m \u001B[49m\u001B[43mretain_graph\u001B[49m\u001B[43m,\u001B[49m\u001B[43m \u001B[49m\u001B[43mcreate_graph\u001B[49m\u001B[43m,\u001B[49m\u001B[43m \u001B[49m\u001B[43minputs\u001B[49m\u001B[43m=\u001B[49m\u001B[43minputs\u001B[49m\n\u001B[32m    650\u001B[39m \u001B[43m\u001B[49m\u001B[43m)\u001B[49m\n",
      "\u001B[36mFile \u001B[39m\u001B[32mI:\\ETVOS\\2nd semester\\DS Lab 1\\DSLAB-Project\\venv1\\Lib\\site-packages\\torch\\autograd\\__init__.py:353\u001B[39m, in \u001B[36mbackward\u001B[39m\u001B[34m(tensors, grad_tensors, retain_graph, create_graph, grad_variables, inputs)\u001B[39m\n\u001B[32m    348\u001B[39m     retain_graph = create_graph\n\u001B[32m    350\u001B[39m \u001B[38;5;66;03m# The reason we repeat the same comment below is that\u001B[39;00m\n\u001B[32m    351\u001B[39m \u001B[38;5;66;03m# some Python versions print out the first line of a multi-line function\u001B[39;00m\n\u001B[32m    352\u001B[39m \u001B[38;5;66;03m# calls in the traceback and some print out the last line\u001B[39;00m\n\u001B[32m--> \u001B[39m\u001B[32m353\u001B[39m \u001B[43m_engine_run_backward\u001B[49m\u001B[43m(\u001B[49m\n\u001B[32m    354\u001B[39m \u001B[43m    \u001B[49m\u001B[43mtensors\u001B[49m\u001B[43m,\u001B[49m\n\u001B[32m    355\u001B[39m \u001B[43m    \u001B[49m\u001B[43mgrad_tensors_\u001B[49m\u001B[43m,\u001B[49m\n\u001B[32m    356\u001B[39m \u001B[43m    \u001B[49m\u001B[43mretain_graph\u001B[49m\u001B[43m,\u001B[49m\n\u001B[32m    357\u001B[39m \u001B[43m    \u001B[49m\u001B[43mcreate_graph\u001B[49m\u001B[43m,\u001B[49m\n\u001B[32m    358\u001B[39m \u001B[43m    \u001B[49m\u001B[43minputs\u001B[49m\u001B[43m,\u001B[49m\n\u001B[32m    359\u001B[39m \u001B[43m    \u001B[49m\u001B[43mallow_unreachable\u001B[49m\u001B[43m=\u001B[49m\u001B[38;5;28;43;01mTrue\u001B[39;49;00m\u001B[43m,\u001B[49m\n\u001B[32m    360\u001B[39m \u001B[43m    \u001B[49m\u001B[43maccumulate_grad\u001B[49m\u001B[43m=\u001B[49m\u001B[38;5;28;43;01mTrue\u001B[39;49;00m\u001B[43m,\u001B[49m\n\u001B[32m    361\u001B[39m \u001B[43m\u001B[49m\u001B[43m)\u001B[49m\n",
      "\u001B[36mFile \u001B[39m\u001B[32mI:\\ETVOS\\2nd semester\\DS Lab 1\\DSLAB-Project\\venv1\\Lib\\site-packages\\torch\\autograd\\graph.py:824\u001B[39m, in \u001B[36m_engine_run_backward\u001B[39m\u001B[34m(t_outputs, *args, **kwargs)\u001B[39m\n\u001B[32m    822\u001B[39m     unregister_hooks = _register_logging_hooks_on_whole_graph(t_outputs)\n\u001B[32m    823\u001B[39m \u001B[38;5;28;01mtry\u001B[39;00m:\n\u001B[32m--> \u001B[39m\u001B[32m824\u001B[39m     \u001B[38;5;28;01mreturn\u001B[39;00m \u001B[43mVariable\u001B[49m\u001B[43m.\u001B[49m\u001B[43m_execution_engine\u001B[49m\u001B[43m.\u001B[49m\u001B[43mrun_backward\u001B[49m\u001B[43m(\u001B[49m\u001B[43m  \u001B[49m\u001B[38;5;66;43;03m# Calls into the C++ engine to run the backward pass\u001B[39;49;00m\n\u001B[32m    825\u001B[39m \u001B[43m        \u001B[49m\u001B[43mt_outputs\u001B[49m\u001B[43m,\u001B[49m\u001B[43m \u001B[49m\u001B[43m*\u001B[49m\u001B[43margs\u001B[49m\u001B[43m,\u001B[49m\u001B[43m \u001B[49m\u001B[43m*\u001B[49m\u001B[43m*\u001B[49m\u001B[43mkwargs\u001B[49m\n\u001B[32m    826\u001B[39m \u001B[43m    \u001B[49m\u001B[43m)\u001B[49m  \u001B[38;5;66;03m# Calls into the C++ engine to run the backward pass\u001B[39;00m\n\u001B[32m    827\u001B[39m \u001B[38;5;28;01mfinally\u001B[39;00m:\n\u001B[32m    828\u001B[39m     \u001B[38;5;28;01mif\u001B[39;00m attach_logging_hooks:\n",
      "\u001B[31mKeyboardInterrupt\u001B[39m: "
     ]
    }
   ],
   "execution_count": 6
  },
  {
   "metadata": {
    "ExecuteTime": {
     "end_time": "2025-06-11T19:58:30.405740500Z",
     "start_time": "2025-06-11T19:49:27.772662Z"
    }
   },
   "cell_type": "code",
   "source": "data = synthesizer.sample(df.shape[0],output_file_path=\"../dataset/fake_\" + selected_file + \".csv\")",
   "id": "84529d343652a2e7",
   "outputs": [
    {
     "ename": "AssertionError",
     "evalue": "I:\\ETVOS\\2nd semester\\DS Lab 1\\DSLAB-Project\\dataset\\fake_min_0.csv already exists.",
     "output_type": "error",
     "traceback": [
      "\u001B[31m---------------------------------------------------------------------------\u001B[39m",
      "\u001B[31mAssertionError\u001B[39m                            Traceback (most recent call last)",
      "\u001B[36mCell\u001B[39m\u001B[36m \u001B[39m\u001B[32mIn[10]\u001B[39m\u001B[32m, line 1\u001B[39m\n\u001B[32m----> \u001B[39m\u001B[32m1\u001B[39m data = \u001B[43msynthesizer\u001B[49m\u001B[43m.\u001B[49m\u001B[43msample\u001B[49m\u001B[43m(\u001B[49m\u001B[43mdf\u001B[49m\u001B[43m.\u001B[49m\u001B[43mshape\u001B[49m\u001B[43m[\u001B[49m\u001B[32;43m0\u001B[39;49m\u001B[43m]\u001B[49m\u001B[43m,\u001B[49m\u001B[43moutput_file_path\u001B[49m\u001B[43m=\u001B[49m\u001B[33;43m\"\u001B[39;49m\u001B[33;43m../dataset/fake_\u001B[39;49m\u001B[33;43m\"\u001B[39;49m\u001B[43m \u001B[49m\u001B[43m+\u001B[49m\u001B[43m \u001B[49m\u001B[43mselected_file\u001B[49m\u001B[43m \u001B[49m\u001B[43m+\u001B[49m\u001B[43m \u001B[49m\u001B[33;43m\"\u001B[39;49m\u001B[33;43m.csv\u001B[39;49m\u001B[33;43m\"\u001B[39;49m\u001B[43m)\u001B[49m\n",
      "\u001B[36mFile \u001B[39m\u001B[32mI:\\ETVOS\\2nd semester\\DS Lab 1\\DSLAB-Project\\venv1\\Lib\\site-packages\\sdv\\single_table\\base.py:1160\u001B[39m, in \u001B[36mBaseSingleTableSynthesizer.sample\u001B[39m\u001B[34m(self, num_rows, max_tries_per_batch, batch_size, output_file_path)\u001B[39m\n\u001B[32m   1157\u001B[39m has_batches = batch_size \u001B[38;5;129;01mis\u001B[39;00m \u001B[38;5;129;01mnot\u001B[39;00m \u001B[38;5;28;01mNone\u001B[39;00m \u001B[38;5;129;01mand\u001B[39;00m batch_size != num_rows\n\u001B[32m   1158\u001B[39m show_progress_bar = has_constraints \u001B[38;5;129;01mor\u001B[39;00m has_batches\n\u001B[32m-> \u001B[39m\u001B[32m1160\u001B[39m sampled_data = \u001B[38;5;28;43mself\u001B[39;49m\u001B[43m.\u001B[49m\u001B[43m_sample_with_progress_bar\u001B[49m\u001B[43m(\u001B[49m\n\u001B[32m   1161\u001B[39m \u001B[43m    \u001B[49m\u001B[43mnum_rows\u001B[49m\u001B[43m,\u001B[49m\n\u001B[32m   1162\u001B[39m \u001B[43m    \u001B[49m\u001B[43mmax_tries_per_batch\u001B[49m\u001B[43m,\u001B[49m\n\u001B[32m   1163\u001B[39m \u001B[43m    \u001B[49m\u001B[43mbatch_size\u001B[49m\u001B[43m,\u001B[49m\n\u001B[32m   1164\u001B[39m \u001B[43m    \u001B[49m\u001B[43moutput_file_path\u001B[49m\u001B[43m,\u001B[49m\n\u001B[32m   1165\u001B[39m \u001B[43m    \u001B[49m\u001B[43mshow_progress_bar\u001B[49m\u001B[43m=\u001B[49m\u001B[43mshow_progress_bar\u001B[49m\u001B[43m,\u001B[49m\n\u001B[32m   1166\u001B[39m \u001B[43m\u001B[49m\u001B[43m)\u001B[49m\n\u001B[32m   1168\u001B[39m original_columns = \u001B[38;5;28mgetattr\u001B[39m(\u001B[38;5;28mself\u001B[39m, \u001B[33m'\u001B[39m\u001B[33m_original_columns\u001B[39m\u001B[33m'\u001B[39m, pd.Index([]))\n\u001B[32m   1169\u001B[39m \u001B[38;5;28;01mif\u001B[39;00m \u001B[38;5;129;01mnot\u001B[39;00m original_columns.empty:\n",
      "\u001B[36mFile \u001B[39m\u001B[32mI:\\ETVOS\\2nd semester\\DS Lab 1\\DSLAB-Project\\venv1\\Lib\\site-packages\\sdv\\single_table\\base.py:1111\u001B[39m, in \u001B[36mBaseSingleTableSynthesizer._sample_with_progress_bar\u001B[39m\u001B[34m(self, num_rows, max_tries_per_batch, batch_size, output_file_path, show_progress_bar)\u001B[39m\n\u001B[32m   1108\u001B[39m \u001B[38;5;28;01mif\u001B[39;00m num_rows == \u001B[32m0\u001B[39m:\n\u001B[32m   1109\u001B[39m     \u001B[38;5;28;01mreturn\u001B[39;00m sampled\n\u001B[32m-> \u001B[39m\u001B[32m1111\u001B[39m output_file_path = \u001B[43mvalidate_file_path\u001B[49m\u001B[43m(\u001B[49m\u001B[43moutput_file_path\u001B[49m\u001B[43m)\u001B[49m\n\u001B[32m   1112\u001B[39m batch_size = \u001B[38;5;28mmin\u001B[39m(batch_size, num_rows) \u001B[38;5;28;01mif\u001B[39;00m batch_size \u001B[38;5;28;01melse\u001B[39;00m num_rows\n\u001B[32m   1114\u001B[39m \u001B[38;5;28;01mtry\u001B[39;00m:\n",
      "\u001B[36mFile \u001B[39m\u001B[32mI:\\ETVOS\\2nd semester\\DS Lab 1\\DSLAB-Project\\venv1\\Lib\\site-packages\\sdv\\single_table\\utils.py:170\u001B[39m, in \u001B[36mvalidate_file_path\u001B[39m\u001B[34m(output_file_path)\u001B[39m\n\u001B[32m    168\u001B[39m     output_path = os.path.abspath(output_file_path)\n\u001B[32m    169\u001B[39m     \u001B[38;5;28;01mif\u001B[39;00m os.path.exists(output_path):\n\u001B[32m--> \u001B[39m\u001B[32m170\u001B[39m         \u001B[38;5;28;01mraise\u001B[39;00m \u001B[38;5;167;01mAssertionError\u001B[39;00m(\u001B[33mf\u001B[39m\u001B[33m'\u001B[39m\u001B[38;5;132;01m{\u001B[39;00moutput_path\u001B[38;5;132;01m}\u001B[39;00m\u001B[33m already exists.\u001B[39m\u001B[33m'\u001B[39m)\n\u001B[32m    171\u001B[39m \u001B[38;5;28;01melse\u001B[39;00m:\n\u001B[32m    172\u001B[39m     \u001B[38;5;66;03m# Do not save a file if the user specified not to save a file.\u001B[39;00m\n\u001B[32m    173\u001B[39m     \u001B[38;5;28;01mreturn\u001B[39;00m \u001B[38;5;28;01mNone\u001B[39;00m\n",
      "\u001B[31mAssertionError\u001B[39m: I:\\ETVOS\\2nd semester\\DS Lab 1\\DSLAB-Project\\dataset\\fake_min_0.csv already exists."
     ]
    }
   ],
   "execution_count": 10
  },
  {
   "metadata": {
    "ExecuteTime": {
     "end_time": "2025-06-11T19:49:28.033318800Z",
     "start_time": "2025-06-06T14:03:25.504691Z"
    }
   },
   "cell_type": "code",
   "source": "",
   "id": "bfe8f1ac4d8dc183",
   "outputs": [],
   "execution_count": null
  },
  {
   "metadata": {},
   "cell_type": "code",
   "outputs": [],
   "execution_count": null,
   "source": "",
   "id": "f992631f27e06388"
  }
 ],
 "metadata": {
  "kernelspec": {
   "display_name": "Python 3",
   "language": "python",
   "name": "python3"
  },
  "language_info": {
   "codemirror_mode": {
    "name": "ipython",
    "version": 2
   },
   "file_extension": ".py",
   "mimetype": "text/x-python",
   "name": "python",
   "nbconvert_exporter": "python",
   "pygments_lexer": "ipython2",
   "version": "2.7.6"
  }
 },
 "nbformat": 4,
 "nbformat_minor": 5
}
