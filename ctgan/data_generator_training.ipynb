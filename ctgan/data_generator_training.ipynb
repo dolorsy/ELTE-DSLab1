{
 "cells": [
  {
   "cell_type": "code",
   "id": "initial_id",
   "metadata": {
    "collapsed": true,
    "ExecuteTime": {
     "end_time": "2025-06-13T14:26:06.734150Z",
     "start_time": "2025-06-13T14:26:06.699304Z"
    }
   },
   "source": [
    "\n",
    "import pandas as pd\n",
    "\n"
   ],
   "outputs": [],
   "execution_count": 7
  },
  {
   "metadata": {
    "ExecuteTime": {
     "end_time": "2025-06-13T17:00:24.967065Z",
     "start_time": "2025-06-13T17:00:24.950065Z"
    }
   },
   "cell_type": "code",
   "source": [
    "df_m_0 = \"min_0\"\n",
    "df_m_1 = \"min_1\"\n",
    "df_m_2 = 'min_2'\n",
    "# df_m_3 = pd.read_csv('../dataset/min_3.csv')\n",
    "df_0 = 'informative_cluster_0'\n",
    "df_1 = 'informative_cluster_1'\n",
    "\n",
    "df_merged = 'merged_shuffled'\n",
    "df_merged_labeled = 'merged_shuffled_labeled'\n",
    "\n",
    "df_m = \"df_min\"\n",
    "df_majority = \"df_majority\"\n",
    "\n",
    "df_m_0_df_0 =\"min_0_informative_cluster_0\"\n",
    "df_m_1_df_0 =\"min_1_informative_cluster_0\"\n",
    "df_m_0_df_1 =\"min_0_informative_cluster_1\"\n",
    "df_m_1_df_1 =\"min_1_informative_cluster_1\"\n",
    "df_m_2_df_1 =\"min_2_informative_cluster_1\"\n",
    "df_m_2_df_0 =\"min_2_informative_cluster_0\"\n",
    "\n",
    "\n",
    "df_m_0_df_m_1_df_0_df_1 =\"min_0_min_1_informative_cluster_0_informative_cluster_1\"\n",
    "df_m_0_df_m_2_df_0_df_1 =\"min_0_min_2_informative_cluster_0_informative_cluster_1\"\n",
    "df_m_1_df_m_2_df_0_df_1 =\"min_1_min_2_informative_cluster_0_informative_cluster_1\"\n",
    "\n",
    "\n",
    "\n",
    "# df_2 = pd.read_csv('../dataset/informative_cluster_2.csv')\n",
    "selected_file = df_m_1_df_m_2_df_0_df_1\n",
    "df= pd.read_csv(\"../dataset/\" + selected_file + \".csv\")"
   ],
   "id": "ca79e16006e5829e",
   "outputs": [],
   "execution_count": 76
  },
  {
   "metadata": {
    "ExecuteTime": {
     "end_time": "2025-06-13T17:00:24.989944Z",
     "start_time": "2025-06-13T17:00:24.982090Z"
    }
   },
   "cell_type": "code",
   "source": "df.info()",
   "id": "2b7aaf9546284aec",
   "outputs": [
    {
     "name": "stdout",
     "output_type": "stream",
     "text": [
      "<class 'pandas.core.frame.DataFrame'>\n",
      "RangeIndex: 12458 entries, 0 to 12457\n",
      "Data columns (total 6 columns):\n",
      " #   Column          Non-Null Count  Dtype  \n",
      "---  ------          --------------  -----  \n",
      " 0   type            12458 non-null  int64  \n",
      " 1   amount          12458 non-null  float64\n",
      " 2   oldbalanceOrg   12458 non-null  float64\n",
      " 3   newbalanceOrig  12458 non-null  float64\n",
      " 4   oldbalanceDest  12458 non-null  float64\n",
      " 5   newbalanceDest  12458 non-null  float64\n",
      "dtypes: float64(5), int64(1)\n",
      "memory usage: 584.1 KB\n"
     ]
    }
   ],
   "execution_count": 77
  },
  {
   "metadata": {
    "ExecuteTime": {
     "end_time": "2025-06-13T17:00:25.021254Z",
     "start_time": "2025-06-13T17:00:25.017987Z"
    }
   },
   "cell_type": "code",
   "source": "",
   "id": "472de5557045710a",
   "outputs": [],
   "execution_count": null
  },
  {
   "metadata": {
    "ExecuteTime": {
     "end_time": "2025-06-13T17:00:25.098589Z",
     "start_time": "2025-06-13T17:00:25.086399Z"
    }
   },
   "cell_type": "code",
   "source": [
    "if 'Unnamed: 0' in df.columns:\n",
    "    df = df.drop(columns=['Unnamed: 0'])\n",
    "df.head()"
   ],
   "id": "62c9dfbfa6b1db40",
   "outputs": [
    {
     "data": {
      "text/plain": [
       "   type      amount  oldbalanceOrg  newbalanceOrig  oldbalanceDest  \\\n",
       "0     4      181.00         181.00             0.0             0.0   \n",
       "1     4     2806.00        2806.00             0.0             0.0   \n",
       "2     4    20128.00       20128.00             0.0             0.0   \n",
       "3     4  1277212.77     1277212.77             0.0             0.0   \n",
       "4     4    35063.63       35063.63             0.0             0.0   \n",
       "\n",
       "   newbalanceDest  \n",
       "0             0.0  \n",
       "1             0.0  \n",
       "2             0.0  \n",
       "3             0.0  \n",
       "4             0.0  "
      ],
      "text/html": [
       "<div>\n",
       "<style scoped>\n",
       "    .dataframe tbody tr th:only-of-type {\n",
       "        vertical-align: middle;\n",
       "    }\n",
       "\n",
       "    .dataframe tbody tr th {\n",
       "        vertical-align: top;\n",
       "    }\n",
       "\n",
       "    .dataframe thead th {\n",
       "        text-align: right;\n",
       "    }\n",
       "</style>\n",
       "<table border=\"1\" class=\"dataframe\">\n",
       "  <thead>\n",
       "    <tr style=\"text-align: right;\">\n",
       "      <th></th>\n",
       "      <th>type</th>\n",
       "      <th>amount</th>\n",
       "      <th>oldbalanceOrg</th>\n",
       "      <th>newbalanceOrig</th>\n",
       "      <th>oldbalanceDest</th>\n",
       "      <th>newbalanceDest</th>\n",
       "    </tr>\n",
       "  </thead>\n",
       "  <tbody>\n",
       "    <tr>\n",
       "      <th>0</th>\n",
       "      <td>4</td>\n",
       "      <td>181.00</td>\n",
       "      <td>181.00</td>\n",
       "      <td>0.0</td>\n",
       "      <td>0.0</td>\n",
       "      <td>0.0</td>\n",
       "    </tr>\n",
       "    <tr>\n",
       "      <th>1</th>\n",
       "      <td>4</td>\n",
       "      <td>2806.00</td>\n",
       "      <td>2806.00</td>\n",
       "      <td>0.0</td>\n",
       "      <td>0.0</td>\n",
       "      <td>0.0</td>\n",
       "    </tr>\n",
       "    <tr>\n",
       "      <th>2</th>\n",
       "      <td>4</td>\n",
       "      <td>20128.00</td>\n",
       "      <td>20128.00</td>\n",
       "      <td>0.0</td>\n",
       "      <td>0.0</td>\n",
       "      <td>0.0</td>\n",
       "    </tr>\n",
       "    <tr>\n",
       "      <th>3</th>\n",
       "      <td>4</td>\n",
       "      <td>1277212.77</td>\n",
       "      <td>1277212.77</td>\n",
       "      <td>0.0</td>\n",
       "      <td>0.0</td>\n",
       "      <td>0.0</td>\n",
       "    </tr>\n",
       "    <tr>\n",
       "      <th>4</th>\n",
       "      <td>4</td>\n",
       "      <td>35063.63</td>\n",
       "      <td>35063.63</td>\n",
       "      <td>0.0</td>\n",
       "      <td>0.0</td>\n",
       "      <td>0.0</td>\n",
       "    </tr>\n",
       "  </tbody>\n",
       "</table>\n",
       "</div>"
      ]
     },
     "execution_count": 78,
     "metadata": {},
     "output_type": "execute_result"
    }
   ],
   "execution_count": 78
  },
  {
   "metadata": {
    "ExecuteTime": {
     "end_time": "2025-06-13T17:00:25.183297Z",
     "start_time": "2025-06-13T17:00:25.176464Z"
    }
   },
   "cell_type": "code",
   "source": [
    "from sdv.cag import SingleTableProgrammableConstraint\n",
    "\n",
    "class TransactionBalanceLogic(SingleTableProgrammableConstraint):\n",
    "    def is_valid(self, row):\n",
    "        print(row)\n",
    "        amount = row['amount']\n",
    "        obo = row['oldbalanceOrg']\n",
    "        nbo = row['newbalanceOrig']\n",
    "        obd = row['oldbalanceDest']\n",
    "        nbd = row['oldbalanceDest']\n",
    "\n",
    "        # if any(v is None for v in [t, obo, nbo, obd]):\n",
    "        #     return True  # skip NaNs\n",
    "        return (obd >= 0) & (obo >= 0) & (nbo >= 0) & (amount>0) & (nbd >= 0)\n",
    "\n",
    "    def transform(self, table_data):\n",
    "        return table_data  # no transformation needed\n",
    "\n",
    "    def get_updated_metadata(self, metadata):\n",
    "        new_metadata = metadata.copy()\n",
    "        return new_metadata\n",
    "\n",
    "    def reverse_transform(self, table_data):\n",
    "        return table_data\n"
   ],
   "id": "54cb02def7a162be",
   "outputs": [],
   "execution_count": 79
  },
  {
   "metadata": {
    "ExecuteTime": {
     "end_time": "2025-06-13T17:04:52.337583Z",
     "start_time": "2025-06-13T17:00:25.269358Z"
    }
   },
   "cell_type": "code",
   "source": [
    "from sdv.single_table import CTGANSynthesizer\n",
    "from sdv.metadata import Metadata\n",
    "metadata = Metadata.detect_from_dataframe(df)\n",
    "synthesizer = CTGANSynthesizer(metadata)\n",
    "synthesizer.add_constraints([TransactionBalanceLogic()])\n",
    "synthesizer.fit(df)"
   ],
   "id": "4c458d8cf0dfc36e",
   "outputs": [
    {
     "name": "stderr",
     "output_type": "stream",
     "text": [
      "I:\\ETVOS\\2nd semester\\DS Lab 1\\DSLAB-Project\\venv1\\Lib\\site-packages\\sdv\\single_table\\base.py:128: UserWarning: We strongly recommend saving the metadata using 'save_to_json' for replicability in future SDV versions.\n",
      "  warnings.warn(\n"
     ]
    }
   ],
   "execution_count": 80
  },
  {
   "metadata": {
    "ExecuteTime": {
     "end_time": "2025-06-13T17:04:52.629424Z",
     "start_time": "2025-06-13T17:04:52.366489Z"
    }
   },
   "cell_type": "code",
   "source": "data = synthesizer.sample(df.shape[0],output_file_path=\"../dataset/fake_\" + selected_file + \".csv\")",
   "id": "84529d343652a2e7",
   "outputs": [
    {
     "name": "stdout",
     "output_type": "stream",
     "text": [
      "       type      amount  oldbalanceOrg  newbalanceOrig  oldbalanceDest  \\\n",
      "0         3    16865.06           0.00          149.01       332945.92   \n",
      "1         1    19333.29           0.00         9527.24      1072971.04   \n",
      "2         1   700574.59      476057.11          292.42       815093.35   \n",
      "3         4   692291.97       54685.88         2966.57         5714.13   \n",
      "4         0        6.65       64191.90     17410131.24       398137.14   \n",
      "...     ...         ...            ...             ...             ...   \n",
      "12453     4   582639.10      430239.72         5252.18        12470.90   \n",
      "12454     3        6.65           0.00        22329.67       169901.52   \n",
      "12455     3        6.65       54311.90       187787.72            0.00   \n",
      "12456     3    42170.39        9146.61          320.83            0.00   \n",
      "12457     4  2655070.61      575395.14         4305.28        11968.14   \n",
      "\n",
      "       newbalanceDest  \n",
      "0           480676.96  \n",
      "1          1000678.73  \n",
      "2           976878.64  \n",
      "3            27202.32  \n",
      "4           383080.72  \n",
      "...               ...  \n",
      "12453        35538.93  \n",
      "12454       183728.54  \n",
      "12455            0.00  \n",
      "12456            0.00  \n",
      "12457         1477.68  \n",
      "\n",
      "[12458 rows x 6 columns]\n"
     ]
    }
   ],
   "execution_count": 81
  },
  {
   "metadata": {
    "ExecuteTime": {
     "end_time": "2025-06-13T16:49:06.228671Z",
     "start_time": "2025-06-13T16:49:06.226519Z"
    }
   },
   "cell_type": "code",
   "source": "",
   "id": "bfe8f1ac4d8dc183",
   "outputs": [],
   "execution_count": null
  },
  {
   "metadata": {
    "ExecuteTime": {
     "end_time": "2025-06-13T16:46:46.676925Z",
     "start_time": "2025-06-13T16:46:46.673923Z"
    }
   },
   "cell_type": "code",
   "source": "",
   "id": "f992631f27e06388",
   "outputs": [],
   "execution_count": null
  },
  {
   "metadata": {},
   "cell_type": "code",
   "outputs": [],
   "execution_count": null,
   "source": "",
   "id": "46590b85b2304802"
  }
 ],
 "metadata": {
  "kernelspec": {
   "display_name": "Python 3",
   "language": "python",
   "name": "python3"
  },
  "language_info": {
   "codemirror_mode": {
    "name": "ipython",
    "version": 2
   },
   "file_extension": ".py",
   "mimetype": "text/x-python",
   "name": "python",
   "nbconvert_exporter": "python",
   "pygments_lexer": "ipython2",
   "version": "2.7.6"
  }
 },
 "nbformat": 4,
 "nbformat_minor": 5
}
