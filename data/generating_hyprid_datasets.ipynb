{
 "cells": [
  {
   "cell_type": "code",
   "id": "initial_id",
   "metadata": {
    "collapsed": true,
    "ExecuteTime": {
     "end_time": "2025-06-10T21:44:21.054269Z",
     "start_time": "2025-06-10T21:44:21.018767Z"
    }
   },
   "source": [
    "import numpy as np\n",
    "import pandas as pd\n",
    "import matplotlib.pyplot as plt\n"
   ],
   "outputs": [],
   "execution_count": 4
  },
  {
   "metadata": {
    "ExecuteTime": {
     "end_time": "2025-06-10T21:44:22.108360Z",
     "start_time": "2025-06-10T21:44:22.097356Z"
    }
   },
   "cell_type": "code",
   "source": [
    "df_m_0 = \"min_0\"\n",
    "df_m_1 = \"min_1\"\n",
    "df_m_2 = 'min_2'\n",
    "# df_m_3 = pd.read_csv('../dataset/min_3.csv')\n",
    "df_0 = 'informative_cluster_0'\n",
    "df_1 = 'informative_cluster_1'\n",
    "# df_2 = pd.read_csv('../dataset/informative_cluster_2.csv')\n",
    "selected_file = df_m_0\n",
    "files = [df_m_0, df_m_1, df_m_2, df_0, df_1]\n"
   ],
   "id": "5a55c7c57527c029",
   "outputs": [],
   "execution_count": 5
  },
  {
   "metadata": {},
   "cell_type": "markdown",
   "source": "Merging all original clusters",
   "id": "1b77e061e58866b6"
  },
  {
   "metadata": {
    "ExecuteTime": {
     "end_time": "2025-06-09T12:07:25.643022Z",
     "start_time": "2025-06-09T12:07:25.370861Z"
    }
   },
   "cell_type": "code",
   "source": [
    "# Step 2: Read and merge all CSVs\n",
    "df_list = [\n",
    "    pd.read_csv(f\"../dataset/{name}.csv\").drop(columns=[\"Unnamed: 0\"], errors=\"ignore\")\n",
    "    for name in files\n",
    "]\n",
    "merged_df = pd.concat(df_list, ignore_index=True)\n",
    "\n",
    "# Step 3: Shuffle the merged DataFrame\n",
    "shuffled_df = merged_df.sample(frac=1, random_state=42).reset_index(drop=True)\n",
    "\n",
    "# Step 4: Done — view or save\n",
    "print(shuffled_df.head())\n",
    "shuffled_df.to_csv(\"../dataset/merged_shuffled.csv\", index=False)\n"
   ],
   "id": "e05c2eab13fce275",
   "outputs": [
    {
     "name": "stdout",
     "output_type": "stream",
     "text": [
      "   type      amount  oldbalanceOrg  newbalanceOrig  oldbalanceDest  \\\n",
      "0     1   205480.23        5949.01             0.0      1235745.12   \n",
      "1     1   167806.93      167806.93             0.0            0.00   \n",
      "2     1   181330.91       37778.00             0.0        36793.35   \n",
      "3     4   167907.12      167907.12             0.0            0.00   \n",
      "4     4  1434440.31     1434440.31             0.0            0.00   \n",
      "\n",
      "   newbalanceDest  \n",
      "0      1441225.36  \n",
      "1       167806.93  \n",
      "2       218124.26  \n",
      "3            0.00  \n",
      "4            0.00  \n"
     ]
    }
   ],
   "execution_count": 3
  },
  {
   "metadata": {
    "ExecuteTime": {
     "end_time": "2025-06-10T21:44:40.766081Z",
     "start_time": "2025-06-10T21:44:40.296376Z"
    }
   },
   "cell_type": "code",
   "source": [
    "df_list = [\n",
    "    pd.read_csv(f\"../dataset/{name}.csv\").drop(columns=[\"Unnamed: 0\"], errors=\"ignore\").assign(\n",
    "        isFraud=1 if \"min\" in name else 0\n",
    "    )\n",
    "    for name in files\n",
    "]\n",
    "merged_df = pd.concat(df_list, ignore_index=True)\n",
    "# Step 3: Shuffle the merged DataFrame\n",
    "shuffled_df = merged_df.sample(frac=1, random_state=42).reset_index(drop=True)\n",
    "\n",
    "# Step 4: Done — view or save\n",
    "print(shuffled_df.head())\n",
    "shuffled_df.to_csv(\"../dataset/merged_shuffled_labeled.csv\", index=False)\n"
   ],
   "id": "76bfc6db03c4884f",
   "outputs": [
    {
     "name": "stdout",
     "output_type": "stream",
     "text": [
      "   type      amount  oldbalanceOrg  newbalanceOrig  oldbalanceDest  \\\n",
      "0     1   205480.23        5949.01             0.0      1235745.12   \n",
      "1     1   167806.93      167806.93             0.0            0.00   \n",
      "2     1   181330.91       37778.00             0.0        36793.35   \n",
      "3     4   167907.12      167907.12             0.0            0.00   \n",
      "4     4  1434440.31     1434440.31             0.0            0.00   \n",
      "\n",
      "   newbalanceDest  isFraud  \n",
      "0      1441225.36        0  \n",
      "1       167806.93        1  \n",
      "2       218124.26        0  \n",
      "3            0.00        1  \n",
      "4            0.00        1  \n"
     ]
    }
   ],
   "execution_count": 6
  },
  {
   "metadata": {},
   "cell_type": "code",
   "outputs": [],
   "execution_count": null,
   "source": "",
   "id": "3b984dbb5bed0848"
  }
 ],
 "metadata": {
  "kernelspec": {
   "display_name": "Python 3",
   "language": "python",
   "name": "python3"
  },
  "language_info": {
   "codemirror_mode": {
    "name": "ipython",
    "version": 2
   },
   "file_extension": ".py",
   "mimetype": "text/x-python",
   "name": "python",
   "nbconvert_exporter": "python",
   "pygments_lexer": "ipython2",
   "version": "2.7.6"
  }
 },
 "nbformat": 4,
 "nbformat_minor": 5
}
