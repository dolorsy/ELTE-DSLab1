{
 "cells": [
  {
   "metadata": {
    "ExecuteTime": {
     "end_time": "2025-05-24T14:32:19.939264Z",
     "start_time": "2025-05-24T14:32:19.932249Z"
    }
   },
   "cell_type": "code",
   "source": "",
   "id": "bc7c819881ad8c89",
   "outputs": [],
   "execution_count": null
  },
  {
   "metadata": {
    "ExecuteTime": {
     "end_time": "2025-06-21T18:48:37.836235Z",
     "start_time": "2025-06-21T18:48:37.729330Z"
    }
   },
   "cell_type": "code",
   "source": [
    "\n",
    "import pandas as pd\n",
    "import numpy as np\n",
    "import torch\n",
    "import torch.nn as nn\n",
    "import torch.optim as optim\n",
    "from torch.utils.data import DataLoader, TensorDataset\n",
    "import matplotlib.pyplot as plt\n",
    "import seaborn as sns\n",
    "from sklearn.decomposition import PCA\n",
    "from sklearn.manifold import TSNE\n",
    "import kagglehub\n",
    "# Preprocessing\n",
    "from sklearn.preprocessing import LabelEncoder, MinMaxScaler, OneHotEncoder,StandardScaler\n",
    "from sklearn.model_selection import train_test_split\n",
    "from sklearn.manifold import TSNE\n"
   ],
   "id": "c93333fb48f47465",
   "outputs": [],
   "execution_count": 13
  },
  {
   "metadata": {
    "ExecuteTime": {
     "end_time": "2025-06-21T18:48:41.990999Z",
     "start_time": "2025-06-21T18:48:38.105080Z"
    }
   },
   "cell_type": "code",
   "source": [
    "\n",
    "df = pd.read_csv(\"../dataset/dataset.csv\")"
   ],
   "id": "b17a258ed4236501",
   "outputs": [],
   "execution_count": 14
  },
  {
   "metadata": {
    "ExecuteTime": {
     "end_time": "2025-06-17T18:50:11.043886Z",
     "start_time": "2025-06-17T18:50:11.010971Z"
    }
   },
   "cell_type": "code",
   "source": [
    "\n",
    "\n",
    "# Display basic info and preview\n",
    "df.info()\n",
    "df.head()\n"
   ],
   "id": "5e4dbaf62807674b",
   "outputs": [
    {
     "name": "stdout",
     "output_type": "stream",
     "text": [
      "<class 'pandas.core.frame.DataFrame'>\n",
      "RangeIndex: 6362620 entries, 0 to 6362619\n",
      "Data columns (total 9 columns):\n",
      " #   Column          Dtype  \n",
      "---  ------          -----  \n",
      " 0   Unnamed: 0      int64  \n",
      " 1   type            int64  \n",
      " 2   amount          float64\n",
      " 3   oldbalanceOrg   float64\n",
      " 4   newbalanceOrig  float64\n",
      " 5   oldbalanceDest  float64\n",
      " 6   newbalanceDest  float64\n",
      " 7   isFraud         int64  \n",
      " 8   isFlaggedFraud  int64  \n",
      "dtypes: float64(5), int64(4)\n",
      "memory usage: 436.9 MB\n"
     ]
    },
    {
     "data": {
      "text/plain": [
       "   Unnamed: 0  type    amount  oldbalanceOrg  newbalanceOrig  oldbalanceDest  \\\n",
       "0           0     3   9839.64       170136.0       160296.36             0.0   \n",
       "1           1     3   1864.28        21249.0        19384.72             0.0   \n",
       "2           2     4    181.00          181.0            0.00             0.0   \n",
       "3           3     1    181.00          181.0            0.00         21182.0   \n",
       "4           4     3  11668.14        41554.0        29885.86             0.0   \n",
       "\n",
       "   newbalanceDest  isFraud  isFlaggedFraud  \n",
       "0             0.0        0               0  \n",
       "1             0.0        0               0  \n",
       "2             0.0        1               0  \n",
       "3             0.0        1               0  \n",
       "4             0.0        0               0  "
      ],
      "text/html": [
       "<div>\n",
       "<style scoped>\n",
       "    .dataframe tbody tr th:only-of-type {\n",
       "        vertical-align: middle;\n",
       "    }\n",
       "\n",
       "    .dataframe tbody tr th {\n",
       "        vertical-align: top;\n",
       "    }\n",
       "\n",
       "    .dataframe thead th {\n",
       "        text-align: right;\n",
       "    }\n",
       "</style>\n",
       "<table border=\"1\" class=\"dataframe\">\n",
       "  <thead>\n",
       "    <tr style=\"text-align: right;\">\n",
       "      <th></th>\n",
       "      <th>Unnamed: 0</th>\n",
       "      <th>type</th>\n",
       "      <th>amount</th>\n",
       "      <th>oldbalanceOrg</th>\n",
       "      <th>newbalanceOrig</th>\n",
       "      <th>oldbalanceDest</th>\n",
       "      <th>newbalanceDest</th>\n",
       "      <th>isFraud</th>\n",
       "      <th>isFlaggedFraud</th>\n",
       "    </tr>\n",
       "  </thead>\n",
       "  <tbody>\n",
       "    <tr>\n",
       "      <th>0</th>\n",
       "      <td>0</td>\n",
       "      <td>3</td>\n",
       "      <td>9839.64</td>\n",
       "      <td>170136.0</td>\n",
       "      <td>160296.36</td>\n",
       "      <td>0.0</td>\n",
       "      <td>0.0</td>\n",
       "      <td>0</td>\n",
       "      <td>0</td>\n",
       "    </tr>\n",
       "    <tr>\n",
       "      <th>1</th>\n",
       "      <td>1</td>\n",
       "      <td>3</td>\n",
       "      <td>1864.28</td>\n",
       "      <td>21249.0</td>\n",
       "      <td>19384.72</td>\n",
       "      <td>0.0</td>\n",
       "      <td>0.0</td>\n",
       "      <td>0</td>\n",
       "      <td>0</td>\n",
       "    </tr>\n",
       "    <tr>\n",
       "      <th>2</th>\n",
       "      <td>2</td>\n",
       "      <td>4</td>\n",
       "      <td>181.00</td>\n",
       "      <td>181.0</td>\n",
       "      <td>0.00</td>\n",
       "      <td>0.0</td>\n",
       "      <td>0.0</td>\n",
       "      <td>1</td>\n",
       "      <td>0</td>\n",
       "    </tr>\n",
       "    <tr>\n",
       "      <th>3</th>\n",
       "      <td>3</td>\n",
       "      <td>1</td>\n",
       "      <td>181.00</td>\n",
       "      <td>181.0</td>\n",
       "      <td>0.00</td>\n",
       "      <td>21182.0</td>\n",
       "      <td>0.0</td>\n",
       "      <td>1</td>\n",
       "      <td>0</td>\n",
       "    </tr>\n",
       "    <tr>\n",
       "      <th>4</th>\n",
       "      <td>4</td>\n",
       "      <td>3</td>\n",
       "      <td>11668.14</td>\n",
       "      <td>41554.0</td>\n",
       "      <td>29885.86</td>\n",
       "      <td>0.0</td>\n",
       "      <td>0.0</td>\n",
       "      <td>0</td>\n",
       "      <td>0</td>\n",
       "    </tr>\n",
       "  </tbody>\n",
       "</table>\n",
       "</div>"
      ]
     },
     "execution_count": 3,
     "metadata": {},
     "output_type": "execute_result"
    }
   ],
   "execution_count": 3
  },
  {
   "metadata": {
    "ExecuteTime": {
     "end_time": "2025-06-21T18:50:03.808331Z",
     "start_time": "2025-06-21T18:50:03.738499Z"
    }
   },
   "cell_type": "code",
   "source": "df.isFraud.value_counts()",
   "id": "8f0b7d113e94df43",
   "outputs": [
    {
     "data": {
      "text/plain": [
       "isFraud\n",
       "0    6354407\n",
       "1       8213\n",
       "Name: count, dtype: int64"
      ]
     },
     "execution_count": 16,
     "metadata": {},
     "output_type": "execute_result"
    }
   ],
   "execution_count": 16
  },
  {
   "metadata": {
    "ExecuteTime": {
     "end_time": "2025-06-17T18:50:11.113609Z",
     "start_time": "2025-06-17T18:50:11.110234Z"
    }
   },
   "cell_type": "code",
   "source": "df_temp = df",
   "id": "97831b721be2637e",
   "outputs": [],
   "execution_count": 4
  },
  {
   "metadata": {
    "ExecuteTime": {
     "end_time": "2025-06-17T18:50:11.188458Z",
     "start_time": "2025-06-17T18:50:11.184453Z"
    }
   },
   "cell_type": "code",
   "source": "df = df_temp",
   "id": "eb69233a5c801c9a",
   "outputs": [],
   "execution_count": 5
  },
  {
   "metadata": {
    "ExecuteTime": {
     "end_time": "2025-06-17T18:50:11.295534Z",
     "start_time": "2025-06-17T18:50:11.250714Z"
    }
   },
   "cell_type": "code",
   "source": [
    "\n",
    "# Check class distribution in the sample\n",
    "df['isFraud'].value_counts()\n"
   ],
   "id": "ec7e47f2eaa52948",
   "outputs": [
    {
     "data": {
      "text/plain": [
       "isFraud\n",
       "0    6354407\n",
       "1       8213\n",
       "Name: count, dtype: int64"
      ]
     },
     "execution_count": 6,
     "metadata": {},
     "output_type": "execute_result"
    }
   ],
   "execution_count": 6
  },
  {
   "metadata": {
    "ExecuteTime": {
     "end_time": "2025-06-17T18:50:12.309632Z",
     "start_time": "2025-06-17T18:50:11.331968Z"
    }
   },
   "cell_type": "code",
   "source": [
    "from sklearn.preprocessing import LabelEncoder\n",
    "df['type'] = LabelEncoder().fit_transform(df['type'])\n",
    "\n",
    "# Drop non-numeric ID columns\n",
    "df = df.drop(['isFlaggedFraud','Unnamed: 0'], axis=1)\n",
    "\n",
    "df_f = df[df['isFraud'] == 1]  # All rows where target == 1\n",
    "df_nf = df[df['isFraud'] == 0]  # All rows where target == 0\n"
   ],
   "id": "ace22f47fe915902",
   "outputs": [],
   "execution_count": 7
  },
  {
   "metadata": {
    "ExecuteTime": {
     "end_time": "2025-06-17T18:50:12.356281Z",
     "start_time": "2025-06-17T18:50:12.345231Z"
    }
   },
   "cell_type": "code",
   "source": "df_f.head()",
   "id": "60146af74a9fd1f9",
   "outputs": [
    {
     "data": {
      "text/plain": [
       "     type   amount  oldbalanceOrg  newbalanceOrig  oldbalanceDest  \\\n",
       "2       4    181.0          181.0             0.0             0.0   \n",
       "3       1    181.0          181.0             0.0         21182.0   \n",
       "251     4   2806.0         2806.0             0.0             0.0   \n",
       "252     1   2806.0         2806.0             0.0         26202.0   \n",
       "680     4  20128.0        20128.0             0.0             0.0   \n",
       "\n",
       "     newbalanceDest  isFraud  \n",
       "2               0.0        1  \n",
       "3               0.0        1  \n",
       "251             0.0        1  \n",
       "252             0.0        1  \n",
       "680             0.0        1  "
      ],
      "text/html": [
       "<div>\n",
       "<style scoped>\n",
       "    .dataframe tbody tr th:only-of-type {\n",
       "        vertical-align: middle;\n",
       "    }\n",
       "\n",
       "    .dataframe tbody tr th {\n",
       "        vertical-align: top;\n",
       "    }\n",
       "\n",
       "    .dataframe thead th {\n",
       "        text-align: right;\n",
       "    }\n",
       "</style>\n",
       "<table border=\"1\" class=\"dataframe\">\n",
       "  <thead>\n",
       "    <tr style=\"text-align: right;\">\n",
       "      <th></th>\n",
       "      <th>type</th>\n",
       "      <th>amount</th>\n",
       "      <th>oldbalanceOrg</th>\n",
       "      <th>newbalanceOrig</th>\n",
       "      <th>oldbalanceDest</th>\n",
       "      <th>newbalanceDest</th>\n",
       "      <th>isFraud</th>\n",
       "    </tr>\n",
       "  </thead>\n",
       "  <tbody>\n",
       "    <tr>\n",
       "      <th>2</th>\n",
       "      <td>4</td>\n",
       "      <td>181.0</td>\n",
       "      <td>181.0</td>\n",
       "      <td>0.0</td>\n",
       "      <td>0.0</td>\n",
       "      <td>0.0</td>\n",
       "      <td>1</td>\n",
       "    </tr>\n",
       "    <tr>\n",
       "      <th>3</th>\n",
       "      <td>1</td>\n",
       "      <td>181.0</td>\n",
       "      <td>181.0</td>\n",
       "      <td>0.0</td>\n",
       "      <td>21182.0</td>\n",
       "      <td>0.0</td>\n",
       "      <td>1</td>\n",
       "    </tr>\n",
       "    <tr>\n",
       "      <th>251</th>\n",
       "      <td>4</td>\n",
       "      <td>2806.0</td>\n",
       "      <td>2806.0</td>\n",
       "      <td>0.0</td>\n",
       "      <td>0.0</td>\n",
       "      <td>0.0</td>\n",
       "      <td>1</td>\n",
       "    </tr>\n",
       "    <tr>\n",
       "      <th>252</th>\n",
       "      <td>1</td>\n",
       "      <td>2806.0</td>\n",
       "      <td>2806.0</td>\n",
       "      <td>0.0</td>\n",
       "      <td>26202.0</td>\n",
       "      <td>0.0</td>\n",
       "      <td>1</td>\n",
       "    </tr>\n",
       "    <tr>\n",
       "      <th>680</th>\n",
       "      <td>4</td>\n",
       "      <td>20128.0</td>\n",
       "      <td>20128.0</td>\n",
       "      <td>0.0</td>\n",
       "      <td>0.0</td>\n",
       "      <td>0.0</td>\n",
       "      <td>1</td>\n",
       "    </tr>\n",
       "  </tbody>\n",
       "</table>\n",
       "</div>"
      ]
     },
     "execution_count": 8,
     "metadata": {},
     "output_type": "execute_result"
    }
   ],
   "execution_count": 8
  },
  {
   "metadata": {
    "ExecuteTime": {
     "end_time": "2025-06-17T18:50:12.475754Z",
     "start_time": "2025-06-17T18:50:12.422735Z"
    }
   },
   "cell_type": "code",
   "source": "df_nf[\"type\"].value_counts()",
   "id": "6479df111570b172",
   "outputs": [
    {
     "data": {
      "text/plain": [
       "type\n",
       "1    2233384\n",
       "3    2151495\n",
       "0    1399284\n",
       "4     528812\n",
       "2      41432\n",
       "Name: count, dtype: int64"
      ]
     },
     "execution_count": 9,
     "metadata": {},
     "output_type": "execute_result"
    }
   ],
   "execution_count": 9
  },
  {
   "metadata": {
    "ExecuteTime": {
     "end_time": "2025-06-17T18:50:39.128771Z",
     "start_time": "2025-06-17T18:50:12.520272Z"
    }
   },
   "cell_type": "code",
   "source": "df_nf.to_csv(\"../dataset/majority.csv\")",
   "id": "19b5fc56713bbd36",
   "outputs": [],
   "execution_count": 10
  },
  {
   "metadata": {
    "ExecuteTime": {
     "end_time": "2025-06-17T18:50:39.171288Z",
     "start_time": "2025-06-17T18:50:39.133780Z"
    }
   },
   "cell_type": "code",
   "source": "df_f.to_csv(\"../dataset/minority.csv\")",
   "id": "a96d24ee9c08f18f",
   "outputs": [],
   "execution_count": 11
  },
  {
   "metadata": {
    "ExecuteTime": {
     "end_time": "2025-06-17T18:50:39.213707Z",
     "start_time": "2025-06-17T18:50:39.203429Z"
    }
   },
   "cell_type": "code",
   "source": "df_f.head()",
   "id": "bf5d50da113852c7",
   "outputs": [
    {
     "data": {
      "text/plain": [
       "     type   amount  oldbalanceOrg  newbalanceOrig  oldbalanceDest  \\\n",
       "2       4    181.0          181.0             0.0             0.0   \n",
       "3       1    181.0          181.0             0.0         21182.0   \n",
       "251     4   2806.0         2806.0             0.0             0.0   \n",
       "252     1   2806.0         2806.0             0.0         26202.0   \n",
       "680     4  20128.0        20128.0             0.0             0.0   \n",
       "\n",
       "     newbalanceDest  isFraud  \n",
       "2               0.0        1  \n",
       "3               0.0        1  \n",
       "251             0.0        1  \n",
       "252             0.0        1  \n",
       "680             0.0        1  "
      ],
      "text/html": [
       "<div>\n",
       "<style scoped>\n",
       "    .dataframe tbody tr th:only-of-type {\n",
       "        vertical-align: middle;\n",
       "    }\n",
       "\n",
       "    .dataframe tbody tr th {\n",
       "        vertical-align: top;\n",
       "    }\n",
       "\n",
       "    .dataframe thead th {\n",
       "        text-align: right;\n",
       "    }\n",
       "</style>\n",
       "<table border=\"1\" class=\"dataframe\">\n",
       "  <thead>\n",
       "    <tr style=\"text-align: right;\">\n",
       "      <th></th>\n",
       "      <th>type</th>\n",
       "      <th>amount</th>\n",
       "      <th>oldbalanceOrg</th>\n",
       "      <th>newbalanceOrig</th>\n",
       "      <th>oldbalanceDest</th>\n",
       "      <th>newbalanceDest</th>\n",
       "      <th>isFraud</th>\n",
       "    </tr>\n",
       "  </thead>\n",
       "  <tbody>\n",
       "    <tr>\n",
       "      <th>2</th>\n",
       "      <td>4</td>\n",
       "      <td>181.0</td>\n",
       "      <td>181.0</td>\n",
       "      <td>0.0</td>\n",
       "      <td>0.0</td>\n",
       "      <td>0.0</td>\n",
       "      <td>1</td>\n",
       "    </tr>\n",
       "    <tr>\n",
       "      <th>3</th>\n",
       "      <td>1</td>\n",
       "      <td>181.0</td>\n",
       "      <td>181.0</td>\n",
       "      <td>0.0</td>\n",
       "      <td>21182.0</td>\n",
       "      <td>0.0</td>\n",
       "      <td>1</td>\n",
       "    </tr>\n",
       "    <tr>\n",
       "      <th>251</th>\n",
       "      <td>4</td>\n",
       "      <td>2806.0</td>\n",
       "      <td>2806.0</td>\n",
       "      <td>0.0</td>\n",
       "      <td>0.0</td>\n",
       "      <td>0.0</td>\n",
       "      <td>1</td>\n",
       "    </tr>\n",
       "    <tr>\n",
       "      <th>252</th>\n",
       "      <td>1</td>\n",
       "      <td>2806.0</td>\n",
       "      <td>2806.0</td>\n",
       "      <td>0.0</td>\n",
       "      <td>26202.0</td>\n",
       "      <td>0.0</td>\n",
       "      <td>1</td>\n",
       "    </tr>\n",
       "    <tr>\n",
       "      <th>680</th>\n",
       "      <td>4</td>\n",
       "      <td>20128.0</td>\n",
       "      <td>20128.0</td>\n",
       "      <td>0.0</td>\n",
       "      <td>0.0</td>\n",
       "      <td>0.0</td>\n",
       "      <td>1</td>\n",
       "    </tr>\n",
       "  </tbody>\n",
       "</table>\n",
       "</div>"
      ]
     },
     "execution_count": 12,
     "metadata": {},
     "output_type": "execute_result"
    }
   ],
   "execution_count": 12
  },
  {
   "metadata": {},
   "cell_type": "markdown",
   "source": [
    "We have majority class should be under sampled, Unbalanced data\n",
    "We will do it in another file DUAL_undersampling.ipynb"
   ],
   "id": "1f118fcbc03e9954"
  },
  {
   "metadata": {
    "ExecuteTime": {
     "end_time": "2025-06-17T18:50:39.312244Z",
     "start_time": "2025-06-17T18:50:39.308243Z"
    }
   },
   "cell_type": "code",
   "source": "",
   "id": "711262b8093b6b03",
   "outputs": [],
   "execution_count": null
  },
  {
   "metadata": {
    "ExecuteTime": {
     "end_time": "2025-06-17T18:50:39.514004Z",
     "start_time": "2025-06-17T18:50:39.509838Z"
    }
   },
   "cell_type": "code",
   "source": "",
   "id": "a2a9a967cc1e58bd",
   "outputs": [],
   "execution_count": null
  },
  {
   "metadata": {},
   "cell_type": "code",
   "outputs": [],
   "execution_count": null,
   "source": "",
   "id": "98c204cb839152a3"
  }
 ],
 "metadata": {
  "kernelspec": {
   "display_name": "Python 3",
   "language": "python",
   "name": "python3"
  },
  "language_info": {
   "codemirror_mode": {
    "name": "ipython",
    "version": 2
   },
   "file_extension": ".py",
   "mimetype": "text/x-python",
   "name": "python",
   "nbconvert_exporter": "python",
   "pygments_lexer": "ipython2",
   "version": "2.7.6"
  }
 },
 "nbformat": 4,
 "nbformat_minor": 5
}
