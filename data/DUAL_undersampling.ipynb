{
 "cells": [
  {
   "metadata": {
    "ExecuteTime": {
     "end_time": "2025-05-30T18:12:49.161763Z",
     "start_time": "2025-05-30T18:12:49.158565Z"
    }
   },
   "cell_type": "code",
   "source": "",
   "id": "259019de4c7f0bf9",
   "outputs": [],
   "execution_count": null
  },
  {
   "cell_type": "code",
   "id": "initial_id",
   "metadata": {
    "collapsed": true,
    "ExecuteTime": {
     "end_time": "2025-05-30T18:12:49.373841Z",
     "start_time": "2025-05-30T18:12:49.365882Z"
    }
   },
   "source": [
    "from modAL.models import ActiveLearner\n",
    "from modAL.uncertainty import uncertainty_sampling\n",
    "from sklearn.linear_model import LogisticRegression\n",
    "import numpy as np\n",
    "import pandas as pd\n"
   ],
   "outputs": [],
   "execution_count": 28
  },
  {
   "metadata": {
    "ExecuteTime": {
     "end_time": "2025-05-30T18:12:49.526718Z",
     "start_time": "2025-05-30T18:12:49.490516Z"
    }
   },
   "cell_type": "code",
   "source": "df_m = pd.read_csv('../dataset/minority.csv')",
   "id": "39094137c1a30f59",
   "outputs": [],
   "execution_count": 29
  },
  {
   "metadata": {
    "ExecuteTime": {
     "end_time": "2025-05-30T18:12:52.469806Z",
     "start_time": "2025-05-30T18:12:49.630360Z"
    }
   },
   "cell_type": "code",
   "source": "df = pd.read_csv('../dataset/majority.csv')",
   "id": "eeda159a0a259427",
   "outputs": [],
   "execution_count": 30
  },
  {
   "metadata": {
    "ExecuteTime": {
     "end_time": "2025-05-30T18:12:53.792277Z",
     "start_time": "2025-05-30T18:12:52.480333Z"
    }
   },
   "cell_type": "code",
   "source": [
    "# Step 1: Prepare X and y\n",
    "X_labeled = df_m.drop(columns=['isFraud']).values  # frauds\n",
    "y_labeled = df_m['isFraud'].values\n",
    "\n",
    "# Sample a small number of legit rows to seed the model\n",
    "df_seed = df.sample(n=20, random_state=42)\n",
    "X_seed = df_seed.drop(columns=['isFraud']).values\n",
    "y_seed = df_seed['isFraud'].values\n",
    "\n",
    "# Combine with minority (fraud) set\n",
    "X_initial = np.vstack([X_labeled, X_seed])\n",
    "y_initial = np.concatenate([y_labeled, y_seed])\n",
    "\n",
    "# Remove seed rows from majority df and pool\n",
    "df = df.drop(df_seed.index).reset_index(drop=True)\n",
    "X_pool = df.drop(columns=['isFraud']).values\n",
    "y_pool = df['isFraud'].values\n"
   ],
   "id": "f7f9e18c10c9b044",
   "outputs": [],
   "execution_count": 31
  },
  {
   "metadata": {
    "ExecuteTime": {
     "end_time": "2025-05-30T18:12:53.948726Z",
     "start_time": "2025-05-30T18:12:53.824996Z"
    }
   },
   "cell_type": "code",
   "source": [
    "learner = ActiveLearner(\n",
    "    estimator=LogisticRegression(max_iter=200),\n",
    "    query_strategy=uncertainty_sampling,\n",
    "    X_training=X_initial,\n",
    "    y_training=y_initial\n",
    ")\n"
   ],
   "id": "d540422159e6bd7d",
   "outputs": [],
   "execution_count": 32
  },
  {
   "metadata": {
    "ExecuteTime": {
     "end_time": "2025-05-30T18:12:54.762214Z",
     "start_time": "2025-05-30T18:12:54.754053Z"
    }
   },
   "cell_type": "code",
   "source": [
    "# Step 3: Iteratively query most uncertain majority samples\n",
    "B = int(0.05 * len(df_m))  # 5% of minority size\n",
    "T = 20  # total iterations\n",
    "\n",
    "selected_batches = []\n",
    "selected_indices = []"
   ],
   "id": "c8b5dc8358dd3bd2",
   "outputs": [],
   "execution_count": 33
  },
  {
   "metadata": {
    "ExecuteTime": {
     "end_time": "2025-05-30T18:13:31.652335Z",
     "start_time": "2025-05-30T18:13:31.649173Z"
    }
   },
   "cell_type": "code",
   "source": "",
   "id": "569d656bc98415fb",
   "outputs": [],
   "execution_count": null
  },
  {
   "metadata": {
    "ExecuteTime": {
     "end_time": "2025-05-30T17:58:58.313255Z",
     "start_time": "2025-05-30T17:58:36.551742Z"
    }
   },
   "cell_type": "code",
   "source": [
    "\n",
    "for t in range(T):\n",
    "    print(f\"Iteration {t+1}/{T}\")\n",
    "\n",
    "    # Query most uncertain legitimate samples\n",
    "    query_idx, _ = learner.query(X_pool, n_instances=B)\n",
    "\n",
    "    # Save batch\n",
    "    batch = df.iloc[query_idx].copy()\n",
    "    selected_batches.append(batch)\n",
    "\n",
    "    # Teach the model (optional if you want model to evolve)\n",
    "    learner.teach(X_pool[query_idx], y_pool[query_idx])\n",
    "\n",
    "    # Remove queried samples from the pool\n",
    "    X_pool = np.delete(X_pool, query_idx, axis=0)\n",
    "    y_pool = np.delete(y_pool, query_idx, axis=0)\n",
    "    df = df.drop(df.index[query_idx]).reset_index(drop=True)\n"
   ],
   "id": "d11d644a6b923f12",
   "outputs": [
    {
     "name": "stdout",
     "output_type": "stream",
     "text": [
      "Iteration 1/20\n"
     ]
    },
    {
     "name": "stderr",
     "output_type": "stream",
     "text": [
      "I:\\ETVOS\\2nd semester\\DS Lab 1\\DSLAB-Project\\venv1\\Lib\\site-packages\\sklearn\\utils\\deprecation.py:132: FutureWarning: 'force_all_finite' was renamed to 'ensure_all_finite' in 1.6 and will be removed in 1.8.\n",
      "  warnings.warn(\n"
     ]
    },
    {
     "name": "stdout",
     "output_type": "stream",
     "text": [
      "Iteration 2/20\n"
     ]
    },
    {
     "name": "stderr",
     "output_type": "stream",
     "text": [
      "I:\\ETVOS\\2nd semester\\DS Lab 1\\DSLAB-Project\\venv1\\Lib\\site-packages\\sklearn\\utils\\deprecation.py:132: FutureWarning: 'force_all_finite' was renamed to 'ensure_all_finite' in 1.6 and will be removed in 1.8.\n",
      "  warnings.warn(\n"
     ]
    },
    {
     "name": "stdout",
     "output_type": "stream",
     "text": [
      "Iteration 3/20\n"
     ]
    },
    {
     "name": "stderr",
     "output_type": "stream",
     "text": [
      "I:\\ETVOS\\2nd semester\\DS Lab 1\\DSLAB-Project\\venv1\\Lib\\site-packages\\sklearn\\utils\\deprecation.py:132: FutureWarning: 'force_all_finite' was renamed to 'ensure_all_finite' in 1.6 and will be removed in 1.8.\n",
      "  warnings.warn(\n"
     ]
    },
    {
     "name": "stdout",
     "output_type": "stream",
     "text": [
      "Iteration 4/20\n"
     ]
    },
    {
     "name": "stderr",
     "output_type": "stream",
     "text": [
      "I:\\ETVOS\\2nd semester\\DS Lab 1\\DSLAB-Project\\venv1\\Lib\\site-packages\\sklearn\\utils\\deprecation.py:132: FutureWarning: 'force_all_finite' was renamed to 'ensure_all_finite' in 1.6 and will be removed in 1.8.\n",
      "  warnings.warn(\n"
     ]
    },
    {
     "name": "stdout",
     "output_type": "stream",
     "text": [
      "Iteration 5/20\n"
     ]
    },
    {
     "name": "stderr",
     "output_type": "stream",
     "text": [
      "I:\\ETVOS\\2nd semester\\DS Lab 1\\DSLAB-Project\\venv1\\Lib\\site-packages\\sklearn\\utils\\deprecation.py:132: FutureWarning: 'force_all_finite' was renamed to 'ensure_all_finite' in 1.6 and will be removed in 1.8.\n",
      "  warnings.warn(\n"
     ]
    },
    {
     "name": "stdout",
     "output_type": "stream",
     "text": [
      "Iteration 6/20\n"
     ]
    },
    {
     "name": "stderr",
     "output_type": "stream",
     "text": [
      "I:\\ETVOS\\2nd semester\\DS Lab 1\\DSLAB-Project\\venv1\\Lib\\site-packages\\sklearn\\utils\\deprecation.py:132: FutureWarning: 'force_all_finite' was renamed to 'ensure_all_finite' in 1.6 and will be removed in 1.8.\n",
      "  warnings.warn(\n"
     ]
    },
    {
     "name": "stdout",
     "output_type": "stream",
     "text": [
      "Iteration 7/20\n"
     ]
    },
    {
     "name": "stderr",
     "output_type": "stream",
     "text": [
      "I:\\ETVOS\\2nd semester\\DS Lab 1\\DSLAB-Project\\venv1\\Lib\\site-packages\\sklearn\\utils\\deprecation.py:132: FutureWarning: 'force_all_finite' was renamed to 'ensure_all_finite' in 1.6 and will be removed in 1.8.\n",
      "  warnings.warn(\n"
     ]
    },
    {
     "name": "stdout",
     "output_type": "stream",
     "text": [
      "Iteration 8/20\n"
     ]
    },
    {
     "name": "stderr",
     "output_type": "stream",
     "text": [
      "I:\\ETVOS\\2nd semester\\DS Lab 1\\DSLAB-Project\\venv1\\Lib\\site-packages\\sklearn\\utils\\deprecation.py:132: FutureWarning: 'force_all_finite' was renamed to 'ensure_all_finite' in 1.6 and will be removed in 1.8.\n",
      "  warnings.warn(\n"
     ]
    },
    {
     "name": "stdout",
     "output_type": "stream",
     "text": [
      "Iteration 9/20\n"
     ]
    },
    {
     "name": "stderr",
     "output_type": "stream",
     "text": [
      "I:\\ETVOS\\2nd semester\\DS Lab 1\\DSLAB-Project\\venv1\\Lib\\site-packages\\sklearn\\utils\\deprecation.py:132: FutureWarning: 'force_all_finite' was renamed to 'ensure_all_finite' in 1.6 and will be removed in 1.8.\n",
      "  warnings.warn(\n"
     ]
    },
    {
     "name": "stdout",
     "output_type": "stream",
     "text": [
      "Iteration 10/20\n"
     ]
    },
    {
     "name": "stderr",
     "output_type": "stream",
     "text": [
      "I:\\ETVOS\\2nd semester\\DS Lab 1\\DSLAB-Project\\venv1\\Lib\\site-packages\\sklearn\\utils\\deprecation.py:132: FutureWarning: 'force_all_finite' was renamed to 'ensure_all_finite' in 1.6 and will be removed in 1.8.\n",
      "  warnings.warn(\n"
     ]
    },
    {
     "name": "stdout",
     "output_type": "stream",
     "text": [
      "Iteration 11/20\n"
     ]
    },
    {
     "name": "stderr",
     "output_type": "stream",
     "text": [
      "I:\\ETVOS\\2nd semester\\DS Lab 1\\DSLAB-Project\\venv1\\Lib\\site-packages\\sklearn\\utils\\deprecation.py:132: FutureWarning: 'force_all_finite' was renamed to 'ensure_all_finite' in 1.6 and will be removed in 1.8.\n",
      "  warnings.warn(\n"
     ]
    },
    {
     "name": "stdout",
     "output_type": "stream",
     "text": [
      "Iteration 12/20\n"
     ]
    },
    {
     "name": "stderr",
     "output_type": "stream",
     "text": [
      "I:\\ETVOS\\2nd semester\\DS Lab 1\\DSLAB-Project\\venv1\\Lib\\site-packages\\sklearn\\utils\\deprecation.py:132: FutureWarning: 'force_all_finite' was renamed to 'ensure_all_finite' in 1.6 and will be removed in 1.8.\n",
      "  warnings.warn(\n"
     ]
    },
    {
     "name": "stdout",
     "output_type": "stream",
     "text": [
      "Iteration 13/20\n"
     ]
    },
    {
     "name": "stderr",
     "output_type": "stream",
     "text": [
      "I:\\ETVOS\\2nd semester\\DS Lab 1\\DSLAB-Project\\venv1\\Lib\\site-packages\\sklearn\\utils\\deprecation.py:132: FutureWarning: 'force_all_finite' was renamed to 'ensure_all_finite' in 1.6 and will be removed in 1.8.\n",
      "  warnings.warn(\n"
     ]
    },
    {
     "name": "stdout",
     "output_type": "stream",
     "text": [
      "Iteration 14/20\n"
     ]
    },
    {
     "name": "stderr",
     "output_type": "stream",
     "text": [
      "I:\\ETVOS\\2nd semester\\DS Lab 1\\DSLAB-Project\\venv1\\Lib\\site-packages\\sklearn\\utils\\deprecation.py:132: FutureWarning: 'force_all_finite' was renamed to 'ensure_all_finite' in 1.6 and will be removed in 1.8.\n",
      "  warnings.warn(\n"
     ]
    },
    {
     "name": "stdout",
     "output_type": "stream",
     "text": [
      "Iteration 15/20\n"
     ]
    },
    {
     "name": "stderr",
     "output_type": "stream",
     "text": [
      "I:\\ETVOS\\2nd semester\\DS Lab 1\\DSLAB-Project\\venv1\\Lib\\site-packages\\sklearn\\utils\\deprecation.py:132: FutureWarning: 'force_all_finite' was renamed to 'ensure_all_finite' in 1.6 and will be removed in 1.8.\n",
      "  warnings.warn(\n"
     ]
    },
    {
     "name": "stdout",
     "output_type": "stream",
     "text": [
      "Iteration 16/20\n"
     ]
    },
    {
     "name": "stderr",
     "output_type": "stream",
     "text": [
      "I:\\ETVOS\\2nd semester\\DS Lab 1\\DSLAB-Project\\venv1\\Lib\\site-packages\\sklearn\\utils\\deprecation.py:132: FutureWarning: 'force_all_finite' was renamed to 'ensure_all_finite' in 1.6 and will be removed in 1.8.\n",
      "  warnings.warn(\n"
     ]
    },
    {
     "name": "stdout",
     "output_type": "stream",
     "text": [
      "Iteration 17/20\n"
     ]
    },
    {
     "name": "stderr",
     "output_type": "stream",
     "text": [
      "I:\\ETVOS\\2nd semester\\DS Lab 1\\DSLAB-Project\\venv1\\Lib\\site-packages\\sklearn\\utils\\deprecation.py:132: FutureWarning: 'force_all_finite' was renamed to 'ensure_all_finite' in 1.6 and will be removed in 1.8.\n",
      "  warnings.warn(\n"
     ]
    },
    {
     "name": "stdout",
     "output_type": "stream",
     "text": [
      "Iteration 18/20\n"
     ]
    },
    {
     "name": "stderr",
     "output_type": "stream",
     "text": [
      "I:\\ETVOS\\2nd semester\\DS Lab 1\\DSLAB-Project\\venv1\\Lib\\site-packages\\sklearn\\utils\\deprecation.py:132: FutureWarning: 'force_all_finite' was renamed to 'ensure_all_finite' in 1.6 and will be removed in 1.8.\n",
      "  warnings.warn(\n"
     ]
    },
    {
     "name": "stdout",
     "output_type": "stream",
     "text": [
      "Iteration 19/20\n"
     ]
    },
    {
     "name": "stderr",
     "output_type": "stream",
     "text": [
      "I:\\ETVOS\\2nd semester\\DS Lab 1\\DSLAB-Project\\venv1\\Lib\\site-packages\\sklearn\\utils\\deprecation.py:132: FutureWarning: 'force_all_finite' was renamed to 'ensure_all_finite' in 1.6 and will be removed in 1.8.\n",
      "  warnings.warn(\n"
     ]
    },
    {
     "name": "stdout",
     "output_type": "stream",
     "text": [
      "Iteration 20/20\n"
     ]
    },
    {
     "name": "stderr",
     "output_type": "stream",
     "text": [
      "I:\\ETVOS\\2nd semester\\DS Lab 1\\DSLAB-Project\\venv1\\Lib\\site-packages\\sklearn\\utils\\deprecation.py:132: FutureWarning: 'force_all_finite' was renamed to 'ensure_all_finite' in 1.6 and will be removed in 1.8.\n",
      "  warnings.warn(\n"
     ]
    }
   ],
   "execution_count": 23
  },
  {
   "metadata": {
    "ExecuteTime": {
     "end_time": "2025-05-30T17:58:58.331079Z",
     "start_time": "2025-05-30T17:58:58.321265Z"
    }
   },
   "cell_type": "code",
   "source": [
    "final = pd.concat(selected_batches)\n",
    "final.shape"
   ],
   "id": "fa955d0551a97784",
   "outputs": [
    {
     "data": {
      "text/plain": [
       "(8200, 6)"
      ]
     },
     "execution_count": 24,
     "metadata": {},
     "output_type": "execute_result"
    }
   ],
   "execution_count": 24
  },
  {
   "metadata": {
    "ExecuteTime": {
     "end_time": "2025-05-30T17:58:58.423268Z",
     "start_time": "2025-05-30T17:58:58.416267Z"
    }
   },
   "cell_type": "code",
   "source": "df_m.shape",
   "id": "a1dd5f6b461778cc",
   "outputs": [
    {
     "data": {
      "text/plain": [
       "(8213, 6)"
      ]
     },
     "execution_count": 25,
     "metadata": {},
     "output_type": "execute_result"
    }
   ],
   "execution_count": 25
  },
  {
   "metadata": {
    "ExecuteTime": {
     "end_time": "2025-05-30T17:58:58.628893Z",
     "start_time": "2025-05-30T17:58:58.523377Z"
    }
   },
   "cell_type": "code",
   "source": "final.to_csv('../dataset/majority_informative.csv', index=False)",
   "id": "df4c92e12b159c69",
   "outputs": [],
   "execution_count": 26
  },
  {
   "metadata": {
    "ExecuteTime": {
     "end_time": "2025-05-30T18:12:12.024534Z",
     "start_time": "2025-05-30T18:12:11.924822Z"
    }
   },
   "cell_type": "code",
   "source": "final.head()",
   "id": "e2b612a8a7f47eda",
   "outputs": [
    {
     "data": {
      "text/plain": [
       "         Unnamed: 0  type  oldbalanceOrg  newbalanceOrig  oldbalanceDest  \\\n",
       "2438739     2441017     0       28488.83        35434.00          955.51   \n",
       "2299733     2301877     0     5393405.29      5405360.93       280003.74   \n",
       "4601619     4605340     0       10579.00        21995.77        20104.93   \n",
       "2765162     2767579     0       39659.00        47338.39        54399.40   \n",
       "1557452     1559211     0     4922014.34      4931816.15        41993.56   \n",
       "\n",
       "         isFraud  \n",
       "2438739        0  \n",
       "2299733        0  \n",
       "4601619        0  \n",
       "2765162        0  \n",
       "1557452        0  "
      ],
      "text/html": [
       "<div>\n",
       "<style scoped>\n",
       "    .dataframe tbody tr th:only-of-type {\n",
       "        vertical-align: middle;\n",
       "    }\n",
       "\n",
       "    .dataframe tbody tr th {\n",
       "        vertical-align: top;\n",
       "    }\n",
       "\n",
       "    .dataframe thead th {\n",
       "        text-align: right;\n",
       "    }\n",
       "</style>\n",
       "<table border=\"1\" class=\"dataframe\">\n",
       "  <thead>\n",
       "    <tr style=\"text-align: right;\">\n",
       "      <th></th>\n",
       "      <th>Unnamed: 0</th>\n",
       "      <th>type</th>\n",
       "      <th>oldbalanceOrg</th>\n",
       "      <th>newbalanceOrig</th>\n",
       "      <th>oldbalanceDest</th>\n",
       "      <th>isFraud</th>\n",
       "    </tr>\n",
       "  </thead>\n",
       "  <tbody>\n",
       "    <tr>\n",
       "      <th>2438739</th>\n",
       "      <td>2441017</td>\n",
       "      <td>0</td>\n",
       "      <td>28488.83</td>\n",
       "      <td>35434.00</td>\n",
       "      <td>955.51</td>\n",
       "      <td>0</td>\n",
       "    </tr>\n",
       "    <tr>\n",
       "      <th>2299733</th>\n",
       "      <td>2301877</td>\n",
       "      <td>0</td>\n",
       "      <td>5393405.29</td>\n",
       "      <td>5405360.93</td>\n",
       "      <td>280003.74</td>\n",
       "      <td>0</td>\n",
       "    </tr>\n",
       "    <tr>\n",
       "      <th>4601619</th>\n",
       "      <td>4605340</td>\n",
       "      <td>0</td>\n",
       "      <td>10579.00</td>\n",
       "      <td>21995.77</td>\n",
       "      <td>20104.93</td>\n",
       "      <td>0</td>\n",
       "    </tr>\n",
       "    <tr>\n",
       "      <th>2765162</th>\n",
       "      <td>2767579</td>\n",
       "      <td>0</td>\n",
       "      <td>39659.00</td>\n",
       "      <td>47338.39</td>\n",
       "      <td>54399.40</td>\n",
       "      <td>0</td>\n",
       "    </tr>\n",
       "    <tr>\n",
       "      <th>1557452</th>\n",
       "      <td>1559211</td>\n",
       "      <td>0</td>\n",
       "      <td>4922014.34</td>\n",
       "      <td>4931816.15</td>\n",
       "      <td>41993.56</td>\n",
       "      <td>0</td>\n",
       "    </tr>\n",
       "  </tbody>\n",
       "</table>\n",
       "</div>"
      ]
     },
     "execution_count": 27,
     "metadata": {},
     "output_type": "execute_result"
    }
   ],
   "execution_count": 27
  },
  {
   "metadata": {},
   "cell_type": "code",
   "outputs": [],
   "execution_count": null,
   "source": "",
   "id": "bfe5baa8b95c85de"
  }
 ],
 "metadata": {
  "kernelspec": {
   "display_name": "Python 3",
   "language": "python",
   "name": "python3"
  },
  "language_info": {
   "codemirror_mode": {
    "name": "ipython",
    "version": 2
   },
   "file_extension": ".py",
   "mimetype": "text/x-python",
   "name": "python",
   "nbconvert_exporter": "python",
   "pygments_lexer": "ipython2",
   "version": "2.7.6"
  }
 },
 "nbformat": 4,
 "nbformat_minor": 5
}
