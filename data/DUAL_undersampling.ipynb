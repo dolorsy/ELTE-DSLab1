{
 "cells": [
  {
   "metadata": {
    "ExecuteTime": {
     "end_time": "2025-05-28T18:35:57.696915Z",
     "start_time": "2025-05-28T18:35:32.281939Z"
    }
   },
   "cell_type": "code",
   "source": "",
   "id": "259019de4c7f0bf9",
   "outputs": [
    {
     "name": "stdout",
     "output_type": "stream",
     "text": [
      "Collecting modAL\n",
      "  Obtaining dependency information for modAL from https://files.pythonhosted.org/packages/87/0b/5d6a775ec1901381b5a81e0c88db10efebd74f010bcae3613b418a46ae9c/modal-1.0.2-py3-none-any.whl.metadata\n",
      "  Downloading modal-1.0.2-py3-none-any.whl.metadata (2.4 kB)\n",
      "Collecting aiohttp (from modAL)\n",
      "  Obtaining dependency information for aiohttp from https://files.pythonhosted.org/packages/97/6c/db68994b49a2c50a4a8943ba3696f66906ab09d206243f91ea8ede7b7d87/aiohttp-3.12.2-cp311-cp311-win_amd64.whl.metadata\n",
      "  Downloading aiohttp-3.12.2-cp311-cp311-win_amd64.whl.metadata (7.9 kB)\n",
      "Requirement already satisfied: certifi in i:\\etvos\\2nd semester\\ds lab 1\\dslab-project\\venv1\\lib\\site-packages (from modAL) (2025.4.26)\n",
      "Collecting click~=8.1.0 (from modAL)\n",
      "  Obtaining dependency information for click~=8.1.0 from https://files.pythonhosted.org/packages/7e/d4/7ebdbd03970677812aac39c869717059dbb71a4cfc033ca6e5221787892c/click-8.1.8-py3-none-any.whl.metadata\n",
      "  Using cached click-8.1.8-py3-none-any.whl.metadata (2.3 kB)\n",
      "Collecting grpclib==0.4.7 (from modAL)\n",
      "  Downloading grpclib-0.4.7.tar.gz (61 kB)\n",
      "     ---------------------------------------- 0.0/61.3 kB ? eta -:--:--\n",
      "     -------------------------- ------------- 41.0/61.3 kB 1.9 MB/s eta 0:00:01\n",
      "     ---------------------------------------- 61.3/61.3 kB 1.6 MB/s eta 0:00:00\n",
      "  Installing build dependencies: started\n",
      "  Installing build dependencies: finished with status 'done'\n",
      "  Getting requirements to build wheel: started\n",
      "  Getting requirements to build wheel: finished with status 'done'\n",
      "  Preparing metadata (pyproject.toml): started\n",
      "  Preparing metadata (pyproject.toml): finished with status 'done'\n",
      "Collecting protobuf!=4.24.0,<7.0,>=3.19 (from modAL)\n",
      "  Obtaining dependency information for protobuf!=4.24.0,<7.0,>=3.19 from https://files.pythonhosted.org/packages/e4/07/cc9b0cbf7593f6ef8cf87fa9b0e55cd74c5cb526dd89ad84aa7d6547ef8d/protobuf-6.31.0-cp310-abi3-win_amd64.whl.metadata\n",
      "  Downloading protobuf-6.31.0-cp310-abi3-win_amd64.whl.metadata (593 bytes)\n",
      "Collecting rich>=12.0.0 (from modAL)\n",
      "  Obtaining dependency information for rich>=12.0.0 from https://files.pythonhosted.org/packages/0d/9b/63f4c7ebc259242c89b3acafdb37b41d1185c07ff0011164674e9076b491/rich-14.0.0-py3-none-any.whl.metadata\n",
      "  Downloading rich-14.0.0-py3-none-any.whl.metadata (18 kB)\n",
      "Collecting synchronicity~=0.9.12 (from modAL)\n",
      "  Obtaining dependency information for synchronicity~=0.9.12 from https://files.pythonhosted.org/packages/ab/e3/730a67bee380f5638731cd563e8f5ad3a2d480ee788b767698e83eb2290f/synchronicity-0.9.12-py3-none-any.whl.metadata\n",
      "  Downloading synchronicity-0.9.12-py3-none-any.whl.metadata (13 kB)\n",
      "Collecting toml (from modAL)\n",
      "  Obtaining dependency information for toml from https://files.pythonhosted.org/packages/44/6f/7120676b6d73228c96e17f1f794d8ab046fc910d781c8d151120c3f1569e/toml-0.10.2-py2.py3-none-any.whl.metadata\n",
      "  Downloading toml-0.10.2-py2.py3-none-any.whl.metadata (7.1 kB)\n",
      "Collecting typer>=0.9 (from modAL)\n",
      "  Obtaining dependency information for typer>=0.9 from https://files.pythonhosted.org/packages/76/42/3efaf858001d2c2913de7f354563e3a3a2f0decae3efe98427125a8f441e/typer-0.16.0-py3-none-any.whl.metadata\n",
      "  Downloading typer-0.16.0-py3-none-any.whl.metadata (15 kB)\n",
      "Collecting types-certifi (from modAL)\n",
      "  Obtaining dependency information for types-certifi from https://files.pythonhosted.org/packages/b5/63/2463d89481e811f007b0e1cd0a91e52e141b47f9de724d20db7b861dcfec/types_certifi-2021.10.8.3-py3-none-any.whl.metadata\n",
      "  Downloading types_certifi-2021.10.8.3-py3-none-any.whl.metadata (1.4 kB)\n",
      "Collecting types-toml (from modAL)\n",
      "  Obtaining dependency information for types-toml from https://files.pythonhosted.org/packages/da/a2/d32ab58c0b216912638b140ab2170ee4b8644067c293b170e19fba340ccc/types_toml-0.10.8.20240310-py3-none-any.whl.metadata\n",
      "  Downloading types_toml-0.10.8.20240310-py3-none-any.whl.metadata (1.5 kB)\n",
      "Collecting watchfiles (from modAL)\n",
      "  Obtaining dependency information for watchfiles from https://files.pythonhosted.org/packages/50/ed/7603c4e164225c12c0d4e8700b64bb00e01a6c4eeea372292a3856be33a4/watchfiles-1.0.5-cp311-cp311-win_amd64.whl.metadata\n",
      "  Downloading watchfiles-1.0.5-cp311-cp311-win_amd64.whl.metadata (5.0 kB)\n",
      "Requirement already satisfied: typing_extensions~=4.6 in i:\\etvos\\2nd semester\\ds lab 1\\dslab-project\\venv1\\lib\\site-packages (from modAL) (4.13.2)\n",
      "Collecting h2<5,>=3.1.0 (from grpclib==0.4.7->modAL)\n",
      "  Obtaining dependency information for h2<5,>=3.1.0 from https://files.pythonhosted.org/packages/d0/9e/984486f2d0a0bd2b024bf4bc1c62688fcafa9e61991f041fb0e2def4a982/h2-4.2.0-py3-none-any.whl.metadata\n",
      "  Downloading h2-4.2.0-py3-none-any.whl.metadata (5.1 kB)\n",
      "Collecting multidict (from grpclib==0.4.7->modAL)\n",
      "  Obtaining dependency information for multidict from https://files.pythonhosted.org/packages/09/66/0bed198ffd590ab86e001f7fa46b740d58cf8ff98c2f254e4a36bf8861ad/multidict-6.4.4-cp311-cp311-win_amd64.whl.metadata\n",
      "  Downloading multidict-6.4.4-cp311-cp311-win_amd64.whl.metadata (5.5 kB)\n",
      "Requirement already satisfied: colorama in i:\\etvos\\2nd semester\\ds lab 1\\dslab-project\\venv1\\lib\\site-packages (from click~=8.1.0->modAL) (0.4.6)\n",
      "Collecting markdown-it-py>=2.2.0 (from rich>=12.0.0->modAL)\n",
      "  Obtaining dependency information for markdown-it-py>=2.2.0 from https://files.pythonhosted.org/packages/42/d7/1ec15b46af6af88f19b8e5ffea08fa375d433c998b8a7639e76935c14f1f/markdown_it_py-3.0.0-py3-none-any.whl.metadata\n",
      "  Downloading markdown_it_py-3.0.0-py3-none-any.whl.metadata (6.9 kB)\n",
      "Requirement already satisfied: pygments<3.0.0,>=2.13.0 in i:\\etvos\\2nd semester\\ds lab 1\\dslab-project\\venv1\\lib\\site-packages (from rich>=12.0.0->modAL) (2.19.1)\n",
      "Collecting sigtools>=4.0.1 (from synchronicity~=0.9.12->modAL)\n",
      "  Obtaining dependency information for sigtools>=4.0.1 from https://files.pythonhosted.org/packages/1f/91/853dbf6ec096197dba9cd5fd0c836c5fc19142038b7db60ebe6332b1bab1/sigtools-4.0.1-py2.py3-none-any.whl.metadata\n",
      "  Downloading sigtools-4.0.1-py2.py3-none-any.whl.metadata (2.4 kB)\n",
      "Collecting shellingham>=1.3.0 (from typer>=0.9->modAL)\n",
      "  Obtaining dependency information for shellingham>=1.3.0 from https://files.pythonhosted.org/packages/e0/f9/0595336914c5619e5f28a1fb793285925a8cd4b432c9da0a987836c7f822/shellingham-1.5.4-py2.py3-none-any.whl.metadata\n",
      "  Downloading shellingham-1.5.4-py2.py3-none-any.whl.metadata (3.5 kB)\n",
      "Collecting aiohappyeyeballs>=2.5.0 (from aiohttp->modAL)\n",
      "  Obtaining dependency information for aiohappyeyeballs>=2.5.0 from https://files.pythonhosted.org/packages/0f/15/5bf3b99495fb160b63f95972b81750f18f7f4e02ad051373b669d17d44f2/aiohappyeyeballs-2.6.1-py3-none-any.whl.metadata\n",
      "  Downloading aiohappyeyeballs-2.6.1-py3-none-any.whl.metadata (5.9 kB)\n",
      "Collecting aiosignal>=1.1.2 (from aiohttp->modAL)\n",
      "  Obtaining dependency information for aiosignal>=1.1.2 from https://files.pythonhosted.org/packages/ec/6a/bc7e17a3e87a2985d3e8f4da4cd0f481060eb78fb08596c42be62c90a4d9/aiosignal-1.3.2-py2.py3-none-any.whl.metadata\n",
      "  Downloading aiosignal-1.3.2-py2.py3-none-any.whl.metadata (3.8 kB)\n",
      "Requirement already satisfied: attrs>=17.3.0 in i:\\etvos\\2nd semester\\ds lab 1\\dslab-project\\venv1\\lib\\site-packages (from aiohttp->modAL) (25.3.0)\n",
      "Collecting frozenlist>=1.1.1 (from aiohttp->modAL)\n",
      "  Obtaining dependency information for frozenlist>=1.1.1 from https://files.pythonhosted.org/packages/f2/13/a84804cfde6de12d44ed48ecbf777ba62b12ff09e761f76cdd1ff9e14bb1/frozenlist-1.6.0-cp311-cp311-win_amd64.whl.metadata\n",
      "  Downloading frozenlist-1.6.0-cp311-cp311-win_amd64.whl.metadata (16 kB)\n",
      "Collecting propcache>=0.2.0 (from aiohttp->modAL)\n",
      "  Obtaining dependency information for propcache>=0.2.0 from https://files.pythonhosted.org/packages/1d/3a/8a68dd867da9ca2ee9dfd361093e9cb08cb0f37e5ddb2276f1b5177d7731/propcache-0.3.1-cp311-cp311-win_amd64.whl.metadata\n",
      "  Downloading propcache-0.3.1-cp311-cp311-win_amd64.whl.metadata (11 kB)\n",
      "Collecting yarl<2.0,>=1.17.0 (from aiohttp->modAL)\n",
      "  Obtaining dependency information for yarl<2.0,>=1.17.0 from https://files.pythonhosted.org/packages/33/46/ca335c2e1f90446a77640a45eeb1cd8f6934f2c6e4df7db0f0f36ef9f025/yarl-1.20.0-cp311-cp311-win_amd64.whl.metadata\n",
      "  Downloading yarl-1.20.0-cp311-cp311-win_amd64.whl.metadata (74 kB)\n",
      "     ---------------------------------------- 0.0/74.8 kB ? eta -:--:--\n",
      "     ---------------- ----------------------- 30.7/74.8 kB 1.4 MB/s eta 0:00:01\n",
      "     ---------------------------------------- 74.8/74.8 kB 1.4 MB/s eta 0:00:00\n",
      "Requirement already satisfied: anyio>=3.0.0 in i:\\etvos\\2nd semester\\ds lab 1\\dslab-project\\venv1\\lib\\site-packages (from watchfiles->modAL) (4.9.0)\n",
      "Requirement already satisfied: idna>=2.8 in i:\\etvos\\2nd semester\\ds lab 1\\dslab-project\\venv1\\lib\\site-packages (from anyio>=3.0.0->watchfiles->modAL) (3.10)\n",
      "Requirement already satisfied: sniffio>=1.1 in i:\\etvos\\2nd semester\\ds lab 1\\dslab-project\\venv1\\lib\\site-packages (from anyio>=3.0.0->watchfiles->modAL) (1.3.1)\n",
      "Collecting hyperframe<7,>=6.1 (from h2<5,>=3.1.0->grpclib==0.4.7->modAL)\n",
      "  Obtaining dependency information for hyperframe<7,>=6.1 from https://files.pythonhosted.org/packages/48/30/47d0bf6072f7252e6521f3447ccfa40b421b6824517f82854703d0f5a98b/hyperframe-6.1.0-py3-none-any.whl.metadata\n",
      "  Downloading hyperframe-6.1.0-py3-none-any.whl.metadata (4.3 kB)\n",
      "Collecting hpack<5,>=4.1 (from h2<5,>=3.1.0->grpclib==0.4.7->modAL)\n",
      "  Obtaining dependency information for hpack<5,>=4.1 from https://files.pythonhosted.org/packages/07/c6/80c95b1b2b94682a72cbdbfb85b81ae2daffa4291fbfa1b1464502ede10d/hpack-4.1.0-py3-none-any.whl.metadata\n",
      "  Downloading hpack-4.1.0-py3-none-any.whl.metadata (4.6 kB)\n",
      "Collecting mdurl~=0.1 (from markdown-it-py>=2.2.0->rich>=12.0.0->modAL)\n",
      "  Obtaining dependency information for mdurl~=0.1 from https://files.pythonhosted.org/packages/b3/38/89ba8ad64ae25be8de66a6d463314cf1eb366222074cfda9ee839c56a4b4/mdurl-0.1.2-py3-none-any.whl.metadata\n",
      "  Downloading mdurl-0.1.2-py3-none-any.whl.metadata (1.6 kB)\n",
      "Downloading modal-1.0.2-py3-none-any.whl (574 kB)\n",
      "   ---------------------------------------- 0.0/574.3 kB ? eta -:--:--\n",
      "   --- ------------------------------------ 51.2/574.3 kB 2.7 MB/s eta 0:00:01\n",
      "   -------- ------------------------------- 122.9/574.3 kB 1.8 MB/s eta 0:00:01\n",
      "   --------------- ------------------------ 225.3/574.3 kB 2.0 MB/s eta 0:00:01\n",
      "   ---------------------- ----------------- 317.4/574.3 kB 2.0 MB/s eta 0:00:01\n",
      "   ------------------------------ --------- 440.3/574.3 kB 2.1 MB/s eta 0:00:01\n",
      "   -------------------------------------- - 553.0/574.3 kB 2.2 MB/s eta 0:00:01\n",
      "   ---------------------------------------- 574.3/574.3 kB 2.1 MB/s eta 0:00:00\n",
      "Using cached click-8.1.8-py3-none-any.whl (98 kB)\n",
      "Downloading protobuf-6.31.0-cp310-abi3-win_amd64.whl (435 kB)\n",
      "   ---------------------------------------- 0.0/435.1 kB ? eta -:--:--\n",
      "   --- ------------------------------------ 41.0/435.1 kB 1.9 MB/s eta 0:00:01\n",
      "   ------------- -------------------------- 143.4/435.1 kB 2.1 MB/s eta 0:00:01\n",
      "   ----------------------- ---------------- 256.0/435.1 kB 2.2 MB/s eta 0:00:01\n",
      "   ----------------------- ---------------- 256.0/435.1 kB 2.2 MB/s eta 0:00:01\n",
      "   ---------------------------------------- 435.1/435.1 kB 2.1 MB/s eta 0:00:00\n",
      "Downloading rich-14.0.0-py3-none-any.whl (243 kB)\n",
      "   ---------------------------------------- 0.0/243.2 kB ? eta -:--:--\n",
      "   ------------------ --------------------- 112.6/243.2 kB 3.3 MB/s eta 0:00:01\n",
      "   ---------------------------------------- 243.2/243.2 kB 3.0 MB/s eta 0:00:00\n",
      "Downloading synchronicity-0.9.12-py3-none-any.whl (36 kB)\n",
      "Downloading typer-0.16.0-py3-none-any.whl (46 kB)\n",
      "   ---------------------------------------- 0.0/46.3 kB ? eta -:--:--\n",
      "   ---------------------------------------- 46.3/46.3 kB 1.2 MB/s eta 0:00:00\n",
      "Downloading aiohttp-3.12.2-cp311-cp311-win_amd64.whl (443 kB)\n",
      "   ---------------------------------------- 0.0/443.7 kB ? eta -:--:--\n",
      "   -- ------------------------------------- 30.7/443.7 kB 1.3 MB/s eta 0:00:01\n",
      "   --------- ------------------------------ 102.4/443.7 kB 2.0 MB/s eta 0:00:01\n",
      "   --------- ------------------------------ 102.4/443.7 kB 2.0 MB/s eta 0:00:01\n",
      "   ---------------- ----------------------- 184.3/443.7 kB 1.1 MB/s eta 0:00:01\n",
      "   ------------------- -------------------- 215.0/443.7 kB 1.0 MB/s eta 0:00:01\n",
      "   --------------------------- ------------ 307.2/443.7 kB 1.2 MB/s eta 0:00:01\n",
      "   ---------------------------------------- 443.7/443.7 kB 1.4 MB/s eta 0:00:00\n",
      "Downloading toml-0.10.2-py2.py3-none-any.whl (16 kB)\n",
      "Downloading types_certifi-2021.10.8.3-py3-none-any.whl (2.1 kB)\n",
      "Downloading types_toml-0.10.8.20240310-py3-none-any.whl (4.8 kB)\n",
      "Downloading watchfiles-1.0.5-cp311-cp311-win_amd64.whl (291 kB)\n",
      "   ---------------------------------------- 0.0/291.6 kB ? eta -:--:--\n",
      "   ----- ---------------------------------- 41.0/291.6 kB 1.9 MB/s eta 0:00:01\n",
      "   --------------------- ------------------ 153.6/291.6 kB 2.3 MB/s eta 0:00:01\n",
      "   ------------------------------------ --- 266.2/291.6 kB 2.3 MB/s eta 0:00:01\n",
      "   ---------------------------------------- 291.6/291.6 kB 2.3 MB/s eta 0:00:00\n",
      "Downloading aiohappyeyeballs-2.6.1-py3-none-any.whl (15 kB)\n",
      "Downloading aiosignal-1.3.2-py2.py3-none-any.whl (7.6 kB)\n",
      "Downloading frozenlist-1.6.0-cp311-cp311-win_amd64.whl (120 kB)\n",
      "   ---------------------------------------- 0.0/120.9 kB ? eta -:--:--\n",
      "   ----------------------- ---------------- 71.7/120.9 kB 4.1 MB/s eta 0:00:01\n",
      "   ---------------------------------------- 120.9/120.9 kB 3.6 MB/s eta 0:00:00\n",
      "Downloading h2-4.2.0-py3-none-any.whl (60 kB)\n",
      "   ---------------------------------------- 0.0/61.0 kB ? eta -:--:--\n",
      "   ---------------------------------------- 61.0/61.0 kB 1.6 MB/s eta 0:00:00\n",
      "Downloading markdown_it_py-3.0.0-py3-none-any.whl (87 kB)\n",
      "   ---------------------------------------- 0.0/87.5 kB ? eta -:--:--\n",
      "   ------------------------------------- -- 81.9/87.5 kB 2.3 MB/s eta 0:00:01\n",
      "   ---------------------------------------- 87.5/87.5 kB 1.6 MB/s eta 0:00:00\n",
      "Downloading multidict-6.4.4-cp311-cp311-win_amd64.whl (38 kB)\n",
      "Downloading propcache-0.3.1-cp311-cp311-win_amd64.whl (45 kB)\n",
      "   ---------------------------------------- 0.0/45.2 kB ? eta -:--:--\n",
      "   --------- ------------------------------ 10.2/45.2 kB ? eta -:--:--\n",
      "   ---------------------------------------- 45.2/45.2 kB 554.2 kB/s eta 0:00:00\n",
      "Downloading shellingham-1.5.4-py2.py3-none-any.whl (9.8 kB)\n",
      "Downloading sigtools-4.0.1-py2.py3-none-any.whl (76 kB)\n",
      "   ---------------------------------------- 0.0/76.4 kB ? eta -:--:--\n",
      "   ------------------------------------- -- 71.7/76.4 kB 2.0 MB/s eta 0:00:01\n",
      "   ---------------------------------------- 76.4/76.4 kB 1.4 MB/s eta 0:00:00\n",
      "Downloading yarl-1.20.0-cp311-cp311-win_amd64.whl (93 kB)\n",
      "   ---------------------------------------- 0.0/93.4 kB ? eta -:--:--\n",
      "   -------------------------- ------------- 61.4/93.4 kB 1.6 MB/s eta 0:00:01\n",
      "   ---------------------------------------- 93.4/93.4 kB 1.8 MB/s eta 0:00:00\n",
      "Downloading hpack-4.1.0-py3-none-any.whl (34 kB)\n",
      "Downloading hyperframe-6.1.0-py3-none-any.whl (13 kB)\n",
      "Downloading mdurl-0.1.2-py3-none-any.whl (10.0 kB)\n",
      "Building wheels for collected packages: grpclib\n",
      "  Building wheel for grpclib (pyproject.toml): started\n",
      "  Building wheel for grpclib (pyproject.toml): finished with status 'done'\n",
      "  Created wheel for grpclib: filename=grpclib-0.4.7-py3-none-any.whl size=76290 sha256=dc53bea7c040d37a9b5e7e87c7779b54ac4332f888a8e0f92a651c250430dcfb\n",
      "  Stored in directory: c:\\users\\msi\\appdata\\local\\pip\\cache\\wheels\\1a\\6e\\f8\\47a179a8cf84417e94206ee7bdee3cc4219a011e6ca1973eb0\n",
      "Successfully built grpclib\n",
      "Installing collected packages: types-certifi, types-toml, toml, sigtools, shellingham, protobuf, propcache, multidict, mdurl, hyperframe, hpack, frozenlist, click, aiohappyeyeballs, yarl, watchfiles, synchronicity, markdown-it-py, h2, aiosignal, rich, grpclib, aiohttp, typer, modAL\n",
      "Successfully installed aiohappyeyeballs-2.6.1 aiohttp-3.12.2 aiosignal-1.3.2 click-8.1.8 frozenlist-1.6.0 grpclib-0.4.7 h2-4.2.0 hpack-4.1.0 hyperframe-6.1.0 markdown-it-py-3.0.0 mdurl-0.1.2 modAL-1.0.2 multidict-6.4.4 propcache-0.3.1 protobuf-6.31.0 rich-14.0.0 shellingham-1.5.4 sigtools-4.0.1 synchronicity-0.9.12 toml-0.10.2 typer-0.16.0 types-certifi-2021.10.8.3 types-toml-0.10.8.20240310 watchfiles-1.0.5 yarl-1.20.0\n"
     ]
    },
    {
     "name": "stderr",
     "output_type": "stream",
     "text": [
      "\n",
      "[notice] A new release of pip is available: 23.2.1 -> 25.1.1\n",
      "[notice] To update, run: python.exe -m pip install --upgrade pip\n"
     ]
    }
   ],
   "execution_count": 24
  },
  {
   "cell_type": "code",
   "id": "initial_id",
   "metadata": {
    "collapsed": true,
    "ExecuteTime": {
     "end_time": "2025-05-28T23:08:48.675744Z",
     "start_time": "2025-05-28T23:08:45.668817Z"
    }
   },
   "source": [
    "from modAL.models import ActiveLearner\n",
    "from modAL.uncertainty import uncertainty_sampling\n",
    "from sklearn.linear_model import LogisticRegression\n",
    "import numpy as np\n",
    "import pandas as pd\n"
   ],
   "outputs": [],
   "execution_count": 31
  },
  {
   "metadata": {
    "ExecuteTime": {
     "end_time": "2025-05-28T23:11:13.115629Z",
     "start_time": "2025-05-28T23:11:13.088722Z"
    }
   },
   "cell_type": "code",
   "source": "df_m = pd.read_csv('../dataset/minority.csv')",
   "id": "39094137c1a30f59",
   "outputs": [],
   "execution_count": 34
  },
  {
   "metadata": {
    "ExecuteTime": {
     "end_time": "2025-05-28T23:11:16.920217Z",
     "start_time": "2025-05-28T23:11:13.130638Z"
    }
   },
   "cell_type": "code",
   "source": "df = pd.read_csv('../dataset/majority.csv')",
   "id": "eeda159a0a259427",
   "outputs": [],
   "execution_count": 35
  },
  {
   "metadata": {
    "ExecuteTime": {
     "end_time": "2025-05-28T23:14:29.107604Z",
     "start_time": "2025-05-28T23:14:27.746732Z"
    }
   },
   "cell_type": "code",
   "source": [
    "# Sample a small number of legit rows to seed the model\n",
    "df_seed = df.sample(n=20, random_state=42)\n",
    "X_seed = df_seed.drop(columns=['isFraud']).values\n",
    "y_seed = df_seed['isFraud'].values\n",
    "\n",
    "# Combine with minority (fraud) set\n",
    "X_initial = np.vstack([X_labeled, X_seed])\n",
    "y_initial = np.concatenate([y_labeled, y_seed])\n",
    "\n",
    "# Remove seed rows from majority df and pool\n",
    "df = df.drop(df_seed.index).reset_index(drop=True)\n",
    "X_pool = df.drop(columns=['isFraud']).values\n",
    "y_pool = df['isFraud'].values\n"
   ],
   "id": "f7f9e18c10c9b044",
   "outputs": [],
   "execution_count": 40
  },
  {
   "metadata": {
    "ExecuteTime": {
     "end_time": "2025-05-28T23:14:37.547086Z",
     "start_time": "2025-05-28T23:14:37.444039Z"
    }
   },
   "cell_type": "code",
   "source": [
    "learner = ActiveLearner(\n",
    "    estimator=LogisticRegression(max_iter=200),\n",
    "    query_strategy=uncertainty_sampling,\n",
    "    X_training=X_initial,\n",
    "    y_training=y_initial\n",
    ")\n"
   ],
   "id": "d540422159e6bd7d",
   "outputs": [],
   "execution_count": 41
  },
  {
   "metadata": {
    "ExecuteTime": {
     "end_time": "2025-05-28T23:15:07.786735Z",
     "start_time": "2025-05-28T23:15:07.782415Z"
    }
   },
   "cell_type": "code",
   "source": [
    "# Step 3: Iteratively query most uncertain majority samples\n",
    "B = int(0.05 * len(df_m))  # 5% of minority size\n",
    "T = 20  # total iterations\n",
    "\n",
    "selected_batches = []\n",
    "selected_indices = []"
   ],
   "id": "c8b5dc8358dd3bd2",
   "outputs": [],
   "execution_count": 43
  },
  {
   "metadata": {
    "ExecuteTime": {
     "end_time": "2025-05-28T23:15:41.898062Z",
     "start_time": "2025-05-28T23:15:16.629902Z"
    }
   },
   "cell_type": "code",
   "source": [
    "\n",
    "for t in range(T):\n",
    "    print(f\"Iteration {t+1}/{T}\")\n",
    "\n",
    "    # Query most uncertain legitimate samples\n",
    "    query_idx, _ = learner.query(X_pool, n_instances=B)\n",
    "\n",
    "    # Save batch\n",
    "    batch = df.iloc[query_idx].copy()\n",
    "    selected_batches.append(batch)\n",
    "\n",
    "    # Teach the model (optional if you want model to evolve)\n",
    "    learner.teach(X_pool[query_idx], y_pool[query_idx])\n",
    "\n",
    "    # Remove queried samples from the pool\n",
    "    X_pool = np.delete(X_pool, query_idx, axis=0)\n",
    "    y_pool = np.delete(y_pool, query_idx, axis=0)\n",
    "    df = df.drop(df.index[query_idx]).reset_index(drop=True)\n"
   ],
   "id": "d11d644a6b923f12",
   "outputs": [
    {
     "name": "stdout",
     "output_type": "stream",
     "text": [
      "Iteration 1/20\n"
     ]
    },
    {
     "name": "stderr",
     "output_type": "stream",
     "text": [
      "I:\\ETVOS\\2nd semester\\DS Lab 1\\DSLAB-Project\\venv1\\Lib\\site-packages\\sklearn\\utils\\deprecation.py:132: FutureWarning: 'force_all_finite' was renamed to 'ensure_all_finite' in 1.6 and will be removed in 1.8.\n",
      "  warnings.warn(\n"
     ]
    },
    {
     "name": "stdout",
     "output_type": "stream",
     "text": [
      "Iteration 2/20\n"
     ]
    },
    {
     "name": "stderr",
     "output_type": "stream",
     "text": [
      "I:\\ETVOS\\2nd semester\\DS Lab 1\\DSLAB-Project\\venv1\\Lib\\site-packages\\sklearn\\utils\\deprecation.py:132: FutureWarning: 'force_all_finite' was renamed to 'ensure_all_finite' in 1.6 and will be removed in 1.8.\n",
      "  warnings.warn(\n"
     ]
    },
    {
     "name": "stdout",
     "output_type": "stream",
     "text": [
      "Iteration 3/20\n"
     ]
    },
    {
     "name": "stderr",
     "output_type": "stream",
     "text": [
      "I:\\ETVOS\\2nd semester\\DS Lab 1\\DSLAB-Project\\venv1\\Lib\\site-packages\\sklearn\\utils\\deprecation.py:132: FutureWarning: 'force_all_finite' was renamed to 'ensure_all_finite' in 1.6 and will be removed in 1.8.\n",
      "  warnings.warn(\n"
     ]
    },
    {
     "name": "stdout",
     "output_type": "stream",
     "text": [
      "Iteration 4/20\n"
     ]
    },
    {
     "name": "stderr",
     "output_type": "stream",
     "text": [
      "I:\\ETVOS\\2nd semester\\DS Lab 1\\DSLAB-Project\\venv1\\Lib\\site-packages\\sklearn\\utils\\deprecation.py:132: FutureWarning: 'force_all_finite' was renamed to 'ensure_all_finite' in 1.6 and will be removed in 1.8.\n",
      "  warnings.warn(\n"
     ]
    },
    {
     "name": "stdout",
     "output_type": "stream",
     "text": [
      "Iteration 5/20\n"
     ]
    },
    {
     "name": "stderr",
     "output_type": "stream",
     "text": [
      "I:\\ETVOS\\2nd semester\\DS Lab 1\\DSLAB-Project\\venv1\\Lib\\site-packages\\sklearn\\utils\\deprecation.py:132: FutureWarning: 'force_all_finite' was renamed to 'ensure_all_finite' in 1.6 and will be removed in 1.8.\n",
      "  warnings.warn(\n"
     ]
    },
    {
     "name": "stdout",
     "output_type": "stream",
     "text": [
      "Iteration 6/20\n"
     ]
    },
    {
     "name": "stderr",
     "output_type": "stream",
     "text": [
      "I:\\ETVOS\\2nd semester\\DS Lab 1\\DSLAB-Project\\venv1\\Lib\\site-packages\\sklearn\\utils\\deprecation.py:132: FutureWarning: 'force_all_finite' was renamed to 'ensure_all_finite' in 1.6 and will be removed in 1.8.\n",
      "  warnings.warn(\n"
     ]
    },
    {
     "name": "stdout",
     "output_type": "stream",
     "text": [
      "Iteration 7/20\n"
     ]
    },
    {
     "name": "stderr",
     "output_type": "stream",
     "text": [
      "I:\\ETVOS\\2nd semester\\DS Lab 1\\DSLAB-Project\\venv1\\Lib\\site-packages\\sklearn\\utils\\deprecation.py:132: FutureWarning: 'force_all_finite' was renamed to 'ensure_all_finite' in 1.6 and will be removed in 1.8.\n",
      "  warnings.warn(\n"
     ]
    },
    {
     "name": "stdout",
     "output_type": "stream",
     "text": [
      "Iteration 8/20\n"
     ]
    },
    {
     "name": "stderr",
     "output_type": "stream",
     "text": [
      "I:\\ETVOS\\2nd semester\\DS Lab 1\\DSLAB-Project\\venv1\\Lib\\site-packages\\sklearn\\utils\\deprecation.py:132: FutureWarning: 'force_all_finite' was renamed to 'ensure_all_finite' in 1.6 and will be removed in 1.8.\n",
      "  warnings.warn(\n"
     ]
    },
    {
     "name": "stdout",
     "output_type": "stream",
     "text": [
      "Iteration 9/20\n"
     ]
    },
    {
     "name": "stderr",
     "output_type": "stream",
     "text": [
      "I:\\ETVOS\\2nd semester\\DS Lab 1\\DSLAB-Project\\venv1\\Lib\\site-packages\\sklearn\\utils\\deprecation.py:132: FutureWarning: 'force_all_finite' was renamed to 'ensure_all_finite' in 1.6 and will be removed in 1.8.\n",
      "  warnings.warn(\n"
     ]
    },
    {
     "name": "stdout",
     "output_type": "stream",
     "text": [
      "Iteration 10/20\n"
     ]
    },
    {
     "name": "stderr",
     "output_type": "stream",
     "text": [
      "I:\\ETVOS\\2nd semester\\DS Lab 1\\DSLAB-Project\\venv1\\Lib\\site-packages\\sklearn\\utils\\deprecation.py:132: FutureWarning: 'force_all_finite' was renamed to 'ensure_all_finite' in 1.6 and will be removed in 1.8.\n",
      "  warnings.warn(\n"
     ]
    },
    {
     "name": "stdout",
     "output_type": "stream",
     "text": [
      "Iteration 11/20\n"
     ]
    },
    {
     "name": "stderr",
     "output_type": "stream",
     "text": [
      "I:\\ETVOS\\2nd semester\\DS Lab 1\\DSLAB-Project\\venv1\\Lib\\site-packages\\sklearn\\utils\\deprecation.py:132: FutureWarning: 'force_all_finite' was renamed to 'ensure_all_finite' in 1.6 and will be removed in 1.8.\n",
      "  warnings.warn(\n"
     ]
    },
    {
     "name": "stdout",
     "output_type": "stream",
     "text": [
      "Iteration 12/20\n"
     ]
    },
    {
     "name": "stderr",
     "output_type": "stream",
     "text": [
      "I:\\ETVOS\\2nd semester\\DS Lab 1\\DSLAB-Project\\venv1\\Lib\\site-packages\\sklearn\\utils\\deprecation.py:132: FutureWarning: 'force_all_finite' was renamed to 'ensure_all_finite' in 1.6 and will be removed in 1.8.\n",
      "  warnings.warn(\n"
     ]
    },
    {
     "name": "stdout",
     "output_type": "stream",
     "text": [
      "Iteration 13/20\n"
     ]
    },
    {
     "name": "stderr",
     "output_type": "stream",
     "text": [
      "I:\\ETVOS\\2nd semester\\DS Lab 1\\DSLAB-Project\\venv1\\Lib\\site-packages\\sklearn\\utils\\deprecation.py:132: FutureWarning: 'force_all_finite' was renamed to 'ensure_all_finite' in 1.6 and will be removed in 1.8.\n",
      "  warnings.warn(\n"
     ]
    },
    {
     "name": "stdout",
     "output_type": "stream",
     "text": [
      "Iteration 14/20\n"
     ]
    },
    {
     "name": "stderr",
     "output_type": "stream",
     "text": [
      "I:\\ETVOS\\2nd semester\\DS Lab 1\\DSLAB-Project\\venv1\\Lib\\site-packages\\sklearn\\utils\\deprecation.py:132: FutureWarning: 'force_all_finite' was renamed to 'ensure_all_finite' in 1.6 and will be removed in 1.8.\n",
      "  warnings.warn(\n"
     ]
    },
    {
     "name": "stdout",
     "output_type": "stream",
     "text": [
      "Iteration 15/20\n"
     ]
    },
    {
     "name": "stderr",
     "output_type": "stream",
     "text": [
      "I:\\ETVOS\\2nd semester\\DS Lab 1\\DSLAB-Project\\venv1\\Lib\\site-packages\\sklearn\\utils\\deprecation.py:132: FutureWarning: 'force_all_finite' was renamed to 'ensure_all_finite' in 1.6 and will be removed in 1.8.\n",
      "  warnings.warn(\n"
     ]
    },
    {
     "name": "stdout",
     "output_type": "stream",
     "text": [
      "Iteration 16/20\n"
     ]
    },
    {
     "name": "stderr",
     "output_type": "stream",
     "text": [
      "I:\\ETVOS\\2nd semester\\DS Lab 1\\DSLAB-Project\\venv1\\Lib\\site-packages\\sklearn\\utils\\deprecation.py:132: FutureWarning: 'force_all_finite' was renamed to 'ensure_all_finite' in 1.6 and will be removed in 1.8.\n",
      "  warnings.warn(\n"
     ]
    },
    {
     "name": "stdout",
     "output_type": "stream",
     "text": [
      "Iteration 17/20\n"
     ]
    },
    {
     "name": "stderr",
     "output_type": "stream",
     "text": [
      "I:\\ETVOS\\2nd semester\\DS Lab 1\\DSLAB-Project\\venv1\\Lib\\site-packages\\sklearn\\utils\\deprecation.py:132: FutureWarning: 'force_all_finite' was renamed to 'ensure_all_finite' in 1.6 and will be removed in 1.8.\n",
      "  warnings.warn(\n"
     ]
    },
    {
     "name": "stdout",
     "output_type": "stream",
     "text": [
      "Iteration 18/20\n"
     ]
    },
    {
     "name": "stderr",
     "output_type": "stream",
     "text": [
      "I:\\ETVOS\\2nd semester\\DS Lab 1\\DSLAB-Project\\venv1\\Lib\\site-packages\\sklearn\\utils\\deprecation.py:132: FutureWarning: 'force_all_finite' was renamed to 'ensure_all_finite' in 1.6 and will be removed in 1.8.\n",
      "  warnings.warn(\n"
     ]
    },
    {
     "name": "stdout",
     "output_type": "stream",
     "text": [
      "Iteration 19/20\n"
     ]
    },
    {
     "name": "stderr",
     "output_type": "stream",
     "text": [
      "I:\\ETVOS\\2nd semester\\DS Lab 1\\DSLAB-Project\\venv1\\Lib\\site-packages\\sklearn\\utils\\deprecation.py:132: FutureWarning: 'force_all_finite' was renamed to 'ensure_all_finite' in 1.6 and will be removed in 1.8.\n",
      "  warnings.warn(\n"
     ]
    },
    {
     "name": "stdout",
     "output_type": "stream",
     "text": [
      "Iteration 20/20\n"
     ]
    },
    {
     "name": "stderr",
     "output_type": "stream",
     "text": [
      "I:\\ETVOS\\2nd semester\\DS Lab 1\\DSLAB-Project\\venv1\\Lib\\site-packages\\sklearn\\utils\\deprecation.py:132: FutureWarning: 'force_all_finite' was renamed to 'ensure_all_finite' in 1.6 and will be removed in 1.8.\n",
      "  warnings.warn(\n",
      "I:\\ETVOS\\2nd semester\\DS Lab 1\\DSLAB-Project\\venv1\\Lib\\site-packages\\sklearn\\linear_model\\_logistic.py:470: ConvergenceWarning: lbfgs failed to converge (status=1):\n",
      "STOP: TOTAL NO. OF ITERATIONS REACHED LIMIT.\n",
      "\n",
      "Increase the number of iterations (max_iter) or scale the data as shown in:\n",
      "    https://scikit-learn.org/stable/modules/preprocessing.html\n",
      "Please also refer to the documentation for alternative solver options:\n",
      "    https://scikit-learn.org/stable/modules/linear_model.html#logistic-regression\n",
      "  n_iter_i = _check_optimize_result(\n"
     ]
    }
   ],
   "execution_count": 44
  },
  {
   "metadata": {
    "ExecuteTime": {
     "end_time": "2025-05-28T23:18:27.944534Z",
     "start_time": "2025-05-28T23:18:27.938132Z"
    }
   },
   "cell_type": "code",
   "source": [
    "final = pd.concat(selected_batches)\n",
    "final.shape"
   ],
   "id": "fa955d0551a97784",
   "outputs": [
    {
     "data": {
      "text/plain": [
       "(8200, 9)"
      ]
     },
     "execution_count": 52,
     "metadata": {},
     "output_type": "execute_result"
    }
   ],
   "execution_count": 52
  },
  {
   "metadata": {
    "ExecuteTime": {
     "end_time": "2025-05-28T23:20:51.114950Z",
     "start_time": "2025-05-28T23:20:51.108976Z"
    }
   },
   "cell_type": "code",
   "source": "df_m.shape",
   "id": "a1dd5f6b461778cc",
   "outputs": [
    {
     "data": {
      "text/plain": [
       "(8213, 9)"
      ]
     },
     "execution_count": 53,
     "metadata": {},
     "output_type": "execute_result"
    }
   ],
   "execution_count": 53
  },
  {
   "metadata": {
    "ExecuteTime": {
     "end_time": "2025-05-28T23:21:30.441301Z",
     "start_time": "2025-05-28T23:21:30.385971Z"
    }
   },
   "cell_type": "code",
   "source": "final.to_csv('../dataset/majority_informative.csv', index=False)",
   "id": "df4c92e12b159c69",
   "outputs": [],
   "execution_count": 54
  },
  {
   "metadata": {},
   "cell_type": "code",
   "outputs": [],
   "execution_count": null,
   "source": "",
   "id": "e2b612a8a7f47eda"
  }
 ],
 "metadata": {
  "kernelspec": {
   "display_name": "Python 3",
   "language": "python",
   "name": "python3"
  },
  "language_info": {
   "codemirror_mode": {
    "name": "ipython",
    "version": 2
   },
   "file_extension": ".py",
   "mimetype": "text/x-python",
   "name": "python",
   "nbconvert_exporter": "python",
   "pygments_lexer": "ipython2",
   "version": "2.7.6"
  }
 },
 "nbformat": 4,
 "nbformat_minor": 5
}
