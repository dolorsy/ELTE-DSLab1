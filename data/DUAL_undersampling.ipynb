{
 "cells": [
  {
   "metadata": {
    "ExecuteTime": {
     "end_time": "2025-05-30T18:12:49.161763Z",
     "start_time": "2025-05-30T18:12:49.158565Z"
    }
   },
   "cell_type": "code",
   "source": "",
   "id": "259019de4c7f0bf9",
   "outputs": [],
   "execution_count": null
  },
  {
   "cell_type": "code",
   "id": "initial_id",
   "metadata": {
    "collapsed": true,
    "ExecuteTime": {
     "end_time": "2025-06-06T13:44:33.592649Z",
     "start_time": "2025-06-06T13:44:30.731384Z"
    }
   },
   "source": [
    "from modAL.models import ActiveLearner\n",
    "from modAL.uncertainty import uncertainty_sampling\n",
    "from sklearn.linear_model import LogisticRegression\n",
    "import numpy as np\n",
    "import pandas as pd\n"
   ],
   "outputs": [],
   "execution_count": 3
  },
  {
   "metadata": {
    "ExecuteTime": {
     "end_time": "2025-06-06T13:44:37.850094Z",
     "start_time": "2025-06-06T13:44:37.834076Z"
    }
   },
   "cell_type": "code",
   "source": "df_m = pd.read_csv('../dataset/minority.csv')",
   "id": "39094137c1a30f59",
   "outputs": [],
   "execution_count": 4
  },
  {
   "metadata": {
    "ExecuteTime": {
     "end_time": "2025-06-06T13:44:42.224471Z",
     "start_time": "2025-06-06T13:44:38.481911Z"
    }
   },
   "cell_type": "code",
   "source": "df = pd.read_csv('../dataset/majority.csv')",
   "id": "eeda159a0a259427",
   "outputs": [],
   "execution_count": 5
  },
  {
   "metadata": {
    "ExecuteTime": {
     "end_time": "2025-06-06T13:44:43.365167Z",
     "start_time": "2025-06-06T13:44:42.229003Z"
    }
   },
   "cell_type": "code",
   "source": [
    "# Step 1: Prepare X and y\n",
    "X_labeled = df_m.drop(columns=['isFraud']).values  # frauds\n",
    "y_labeled = df_m['isFraud'].values\n",
    "\n",
    "# Sample a small number of legit rows to seed the model\n",
    "df_seed = df.sample(n=20, random_state=42)\n",
    "X_seed = df_seed.drop(columns=['isFraud']).values\n",
    "y_seed = df_seed['isFraud'].values\n",
    "\n",
    "# Combine with minority (fraud) set\n",
    "X_initial = np.vstack([X_labeled, X_seed])\n",
    "y_initial = np.concatenate([y_labeled, y_seed])\n",
    "\n",
    "# Remove seed rows from majority df and pool\n",
    "df = df.drop(df_seed.index).reset_index(drop=True)\n",
    "X_pool = df.drop(columns=['isFraud']).values\n",
    "y_pool = df['isFraud'].values\n"
   ],
   "id": "f7f9e18c10c9b044",
   "outputs": [],
   "execution_count": 6
  },
  {
   "metadata": {
    "ExecuteTime": {
     "end_time": "2025-06-06T13:44:43.922325Z",
     "start_time": "2025-06-06T13:44:43.798282Z"
    }
   },
   "cell_type": "code",
   "source": [
    "learner = ActiveLearner(\n",
    "    estimator=LogisticRegression(max_iter=200),\n",
    "    query_strategy=uncertainty_sampling,\n",
    "    X_training=X_initial,\n",
    "    y_training=y_initial\n",
    ")\n"
   ],
   "id": "d540422159e6bd7d",
   "outputs": [],
   "execution_count": 7
  },
  {
   "metadata": {
    "ExecuteTime": {
     "end_time": "2025-06-06T13:44:46.348588Z",
     "start_time": "2025-06-06T13:44:46.344151Z"
    }
   },
   "cell_type": "code",
   "source": [
    "# Step 3: Iteratively query most uncertain majority samples\n",
    "B = int(0.05 * len(df_m))  # 5% of minority size\n",
    "T = 20  # total iterations\n",
    "\n",
    "selected_batches = []\n",
    "selected_indices = []"
   ],
   "id": "c8b5dc8358dd3bd2",
   "outputs": [],
   "execution_count": 8
  },
  {
   "metadata": {
    "ExecuteTime": {
     "end_time": "2025-06-06T13:44:49.500131Z",
     "start_time": "2025-06-06T13:44:49.497097Z"
    }
   },
   "cell_type": "code",
   "source": "",
   "id": "569d656bc98415fb",
   "outputs": [],
   "execution_count": null
  },
  {
   "metadata": {
    "ExecuteTime": {
     "end_time": "2025-06-06T13:45:16.063476Z",
     "start_time": "2025-06-06T13:44:50.178873Z"
    }
   },
   "cell_type": "code",
   "source": [
    "\n",
    "for t in range(T):\n",
    "    print(f\"Iteration {t+1}/{T}\")\n",
    "\n",
    "    # Query most uncertain legitimate samples\n",
    "    query_idx, _ = learner.query(X_pool, n_instances=B)\n",
    "\n",
    "    # Save batch\n",
    "    batch = df.iloc[query_idx].copy()\n",
    "    selected_batches.append(batch)\n",
    "\n",
    "    # Teach the model (optional if you want model to evolve)\n",
    "    learner.teach(X_pool[query_idx], y_pool[query_idx])\n",
    "\n",
    "    # Remove queried samples from the pool\n",
    "    X_pool = np.delete(X_pool, query_idx, axis=0)\n",
    "    y_pool = np.delete(y_pool, query_idx, axis=0)\n",
    "    df = df.drop(df.index[query_idx]).reset_index(drop=True)\n"
   ],
   "id": "d11d644a6b923f12",
   "outputs": [
    {
     "name": "stdout",
     "output_type": "stream",
     "text": [
      "Iteration 1/20\n"
     ]
    },
    {
     "name": "stderr",
     "output_type": "stream",
     "text": [
      "I:\\ETVOS\\2nd semester\\DS Lab 1\\DSLAB-Project\\venv1\\Lib\\site-packages\\sklearn\\utils\\deprecation.py:132: FutureWarning: 'force_all_finite' was renamed to 'ensure_all_finite' in 1.6 and will be removed in 1.8.\n",
      "  warnings.warn(\n"
     ]
    },
    {
     "name": "stdout",
     "output_type": "stream",
     "text": [
      "Iteration 2/20\n"
     ]
    },
    {
     "name": "stderr",
     "output_type": "stream",
     "text": [
      "I:\\ETVOS\\2nd semester\\DS Lab 1\\DSLAB-Project\\venv1\\Lib\\site-packages\\sklearn\\utils\\deprecation.py:132: FutureWarning: 'force_all_finite' was renamed to 'ensure_all_finite' in 1.6 and will be removed in 1.8.\n",
      "  warnings.warn(\n"
     ]
    },
    {
     "name": "stdout",
     "output_type": "stream",
     "text": [
      "Iteration 3/20\n"
     ]
    },
    {
     "name": "stderr",
     "output_type": "stream",
     "text": [
      "I:\\ETVOS\\2nd semester\\DS Lab 1\\DSLAB-Project\\venv1\\Lib\\site-packages\\sklearn\\utils\\deprecation.py:132: FutureWarning: 'force_all_finite' was renamed to 'ensure_all_finite' in 1.6 and will be removed in 1.8.\n",
      "  warnings.warn(\n"
     ]
    },
    {
     "name": "stdout",
     "output_type": "stream",
     "text": [
      "Iteration 4/20\n"
     ]
    },
    {
     "name": "stderr",
     "output_type": "stream",
     "text": [
      "I:\\ETVOS\\2nd semester\\DS Lab 1\\DSLAB-Project\\venv1\\Lib\\site-packages\\sklearn\\utils\\deprecation.py:132: FutureWarning: 'force_all_finite' was renamed to 'ensure_all_finite' in 1.6 and will be removed in 1.8.\n",
      "  warnings.warn(\n"
     ]
    },
    {
     "name": "stdout",
     "output_type": "stream",
     "text": [
      "Iteration 5/20\n"
     ]
    },
    {
     "name": "stderr",
     "output_type": "stream",
     "text": [
      "I:\\ETVOS\\2nd semester\\DS Lab 1\\DSLAB-Project\\venv1\\Lib\\site-packages\\sklearn\\utils\\deprecation.py:132: FutureWarning: 'force_all_finite' was renamed to 'ensure_all_finite' in 1.6 and will be removed in 1.8.\n",
      "  warnings.warn(\n"
     ]
    },
    {
     "name": "stdout",
     "output_type": "stream",
     "text": [
      "Iteration 6/20\n"
     ]
    },
    {
     "name": "stderr",
     "output_type": "stream",
     "text": [
      "I:\\ETVOS\\2nd semester\\DS Lab 1\\DSLAB-Project\\venv1\\Lib\\site-packages\\sklearn\\utils\\deprecation.py:132: FutureWarning: 'force_all_finite' was renamed to 'ensure_all_finite' in 1.6 and will be removed in 1.8.\n",
      "  warnings.warn(\n"
     ]
    },
    {
     "name": "stdout",
     "output_type": "stream",
     "text": [
      "Iteration 7/20\n"
     ]
    },
    {
     "name": "stderr",
     "output_type": "stream",
     "text": [
      "I:\\ETVOS\\2nd semester\\DS Lab 1\\DSLAB-Project\\venv1\\Lib\\site-packages\\sklearn\\utils\\deprecation.py:132: FutureWarning: 'force_all_finite' was renamed to 'ensure_all_finite' in 1.6 and will be removed in 1.8.\n",
      "  warnings.warn(\n"
     ]
    },
    {
     "name": "stdout",
     "output_type": "stream",
     "text": [
      "Iteration 8/20\n"
     ]
    },
    {
     "name": "stderr",
     "output_type": "stream",
     "text": [
      "I:\\ETVOS\\2nd semester\\DS Lab 1\\DSLAB-Project\\venv1\\Lib\\site-packages\\sklearn\\utils\\deprecation.py:132: FutureWarning: 'force_all_finite' was renamed to 'ensure_all_finite' in 1.6 and will be removed in 1.8.\n",
      "  warnings.warn(\n"
     ]
    },
    {
     "name": "stdout",
     "output_type": "stream",
     "text": [
      "Iteration 9/20\n"
     ]
    },
    {
     "name": "stderr",
     "output_type": "stream",
     "text": [
      "I:\\ETVOS\\2nd semester\\DS Lab 1\\DSLAB-Project\\venv1\\Lib\\site-packages\\sklearn\\utils\\deprecation.py:132: FutureWarning: 'force_all_finite' was renamed to 'ensure_all_finite' in 1.6 and will be removed in 1.8.\n",
      "  warnings.warn(\n"
     ]
    },
    {
     "name": "stdout",
     "output_type": "stream",
     "text": [
      "Iteration 10/20\n"
     ]
    },
    {
     "name": "stderr",
     "output_type": "stream",
     "text": [
      "I:\\ETVOS\\2nd semester\\DS Lab 1\\DSLAB-Project\\venv1\\Lib\\site-packages\\sklearn\\utils\\deprecation.py:132: FutureWarning: 'force_all_finite' was renamed to 'ensure_all_finite' in 1.6 and will be removed in 1.8.\n",
      "  warnings.warn(\n"
     ]
    },
    {
     "name": "stdout",
     "output_type": "stream",
     "text": [
      "Iteration 11/20\n"
     ]
    },
    {
     "name": "stderr",
     "output_type": "stream",
     "text": [
      "I:\\ETVOS\\2nd semester\\DS Lab 1\\DSLAB-Project\\venv1\\Lib\\site-packages\\sklearn\\utils\\deprecation.py:132: FutureWarning: 'force_all_finite' was renamed to 'ensure_all_finite' in 1.6 and will be removed in 1.8.\n",
      "  warnings.warn(\n"
     ]
    },
    {
     "name": "stdout",
     "output_type": "stream",
     "text": [
      "Iteration 12/20\n"
     ]
    },
    {
     "name": "stderr",
     "output_type": "stream",
     "text": [
      "I:\\ETVOS\\2nd semester\\DS Lab 1\\DSLAB-Project\\venv1\\Lib\\site-packages\\sklearn\\utils\\deprecation.py:132: FutureWarning: 'force_all_finite' was renamed to 'ensure_all_finite' in 1.6 and will be removed in 1.8.\n",
      "  warnings.warn(\n"
     ]
    },
    {
     "name": "stdout",
     "output_type": "stream",
     "text": [
      "Iteration 13/20\n"
     ]
    },
    {
     "name": "stderr",
     "output_type": "stream",
     "text": [
      "I:\\ETVOS\\2nd semester\\DS Lab 1\\DSLAB-Project\\venv1\\Lib\\site-packages\\sklearn\\utils\\deprecation.py:132: FutureWarning: 'force_all_finite' was renamed to 'ensure_all_finite' in 1.6 and will be removed in 1.8.\n",
      "  warnings.warn(\n"
     ]
    },
    {
     "name": "stdout",
     "output_type": "stream",
     "text": [
      "Iteration 14/20\n"
     ]
    },
    {
     "name": "stderr",
     "output_type": "stream",
     "text": [
      "I:\\ETVOS\\2nd semester\\DS Lab 1\\DSLAB-Project\\venv1\\Lib\\site-packages\\sklearn\\utils\\deprecation.py:132: FutureWarning: 'force_all_finite' was renamed to 'ensure_all_finite' in 1.6 and will be removed in 1.8.\n",
      "  warnings.warn(\n"
     ]
    },
    {
     "name": "stdout",
     "output_type": "stream",
     "text": [
      "Iteration 15/20\n"
     ]
    },
    {
     "name": "stderr",
     "output_type": "stream",
     "text": [
      "I:\\ETVOS\\2nd semester\\DS Lab 1\\DSLAB-Project\\venv1\\Lib\\site-packages\\sklearn\\utils\\deprecation.py:132: FutureWarning: 'force_all_finite' was renamed to 'ensure_all_finite' in 1.6 and will be removed in 1.8.\n",
      "  warnings.warn(\n"
     ]
    },
    {
     "name": "stdout",
     "output_type": "stream",
     "text": [
      "Iteration 16/20\n"
     ]
    },
    {
     "name": "stderr",
     "output_type": "stream",
     "text": [
      "I:\\ETVOS\\2nd semester\\DS Lab 1\\DSLAB-Project\\venv1\\Lib\\site-packages\\sklearn\\utils\\deprecation.py:132: FutureWarning: 'force_all_finite' was renamed to 'ensure_all_finite' in 1.6 and will be removed in 1.8.\n",
      "  warnings.warn(\n"
     ]
    },
    {
     "name": "stdout",
     "output_type": "stream",
     "text": [
      "Iteration 17/20\n"
     ]
    },
    {
     "name": "stderr",
     "output_type": "stream",
     "text": [
      "I:\\ETVOS\\2nd semester\\DS Lab 1\\DSLAB-Project\\venv1\\Lib\\site-packages\\sklearn\\utils\\deprecation.py:132: FutureWarning: 'force_all_finite' was renamed to 'ensure_all_finite' in 1.6 and will be removed in 1.8.\n",
      "  warnings.warn(\n"
     ]
    },
    {
     "name": "stdout",
     "output_type": "stream",
     "text": [
      "Iteration 18/20\n"
     ]
    },
    {
     "name": "stderr",
     "output_type": "stream",
     "text": [
      "I:\\ETVOS\\2nd semester\\DS Lab 1\\DSLAB-Project\\venv1\\Lib\\site-packages\\sklearn\\utils\\deprecation.py:132: FutureWarning: 'force_all_finite' was renamed to 'ensure_all_finite' in 1.6 and will be removed in 1.8.\n",
      "  warnings.warn(\n",
      "I:\\ETVOS\\2nd semester\\DS Lab 1\\DSLAB-Project\\venv1\\Lib\\site-packages\\sklearn\\linear_model\\_logistic.py:470: ConvergenceWarning: lbfgs failed to converge (status=1):\n",
      "STOP: TOTAL NO. OF ITERATIONS REACHED LIMIT.\n",
      "\n",
      "Increase the number of iterations (max_iter) or scale the data as shown in:\n",
      "    https://scikit-learn.org/stable/modules/preprocessing.html\n",
      "Please also refer to the documentation for alternative solver options:\n",
      "    https://scikit-learn.org/stable/modules/linear_model.html#logistic-regression\n",
      "  n_iter_i = _check_optimize_result(\n"
     ]
    },
    {
     "name": "stdout",
     "output_type": "stream",
     "text": [
      "Iteration 19/20\n"
     ]
    },
    {
     "name": "stderr",
     "output_type": "stream",
     "text": [
      "I:\\ETVOS\\2nd semester\\DS Lab 1\\DSLAB-Project\\venv1\\Lib\\site-packages\\sklearn\\utils\\deprecation.py:132: FutureWarning: 'force_all_finite' was renamed to 'ensure_all_finite' in 1.6 and will be removed in 1.8.\n",
      "  warnings.warn(\n"
     ]
    },
    {
     "name": "stdout",
     "output_type": "stream",
     "text": [
      "Iteration 20/20\n"
     ]
    },
    {
     "name": "stderr",
     "output_type": "stream",
     "text": [
      "I:\\ETVOS\\2nd semester\\DS Lab 1\\DSLAB-Project\\venv1\\Lib\\site-packages\\sklearn\\utils\\deprecation.py:132: FutureWarning: 'force_all_finite' was renamed to 'ensure_all_finite' in 1.6 and will be removed in 1.8.\n",
      "  warnings.warn(\n",
      "I:\\ETVOS\\2nd semester\\DS Lab 1\\DSLAB-Project\\venv1\\Lib\\site-packages\\sklearn\\linear_model\\_logistic.py:470: ConvergenceWarning: lbfgs failed to converge (status=1):\n",
      "STOP: TOTAL NO. OF ITERATIONS REACHED LIMIT.\n",
      "\n",
      "Increase the number of iterations (max_iter) or scale the data as shown in:\n",
      "    https://scikit-learn.org/stable/modules/preprocessing.html\n",
      "Please also refer to the documentation for alternative solver options:\n",
      "    https://scikit-learn.org/stable/modules/linear_model.html#logistic-regression\n",
      "  n_iter_i = _check_optimize_result(\n"
     ]
    }
   ],
   "execution_count": 9
  },
  {
   "metadata": {
    "ExecuteTime": {
     "end_time": "2025-06-06T13:45:16.087890Z",
     "start_time": "2025-06-06T13:45:16.072485Z"
    }
   },
   "cell_type": "code",
   "source": [
    "final = pd.concat(selected_batches)\n",
    "final.shape"
   ],
   "id": "fa955d0551a97784",
   "outputs": [
    {
     "data": {
      "text/plain": [
       "(8200, 8)"
      ]
     },
     "execution_count": 10,
     "metadata": {},
     "output_type": "execute_result"
    }
   ],
   "execution_count": 10
  },
  {
   "metadata": {
    "ExecuteTime": {
     "end_time": "2025-06-06T13:45:16.129507Z",
     "start_time": "2025-06-06T13:45:16.122869Z"
    }
   },
   "cell_type": "code",
   "source": "df_m.shape",
   "id": "a1dd5f6b461778cc",
   "outputs": [
    {
     "data": {
      "text/plain": [
       "(8213, 8)"
      ]
     },
     "execution_count": 11,
     "metadata": {},
     "output_type": "execute_result"
    }
   ],
   "execution_count": 11
  },
  {
   "metadata": {
    "ExecuteTime": {
     "end_time": "2025-06-06T13:45:16.253066Z",
     "start_time": "2025-06-06T13:45:16.160436Z"
    }
   },
   "cell_type": "code",
   "source": "final.to_csv('../dataset/majority_informative.csv', index=False)",
   "id": "df4c92e12b159c69",
   "outputs": [],
   "execution_count": 12
  },
  {
   "metadata": {
    "ExecuteTime": {
     "end_time": "2025-06-06T13:45:16.297593Z",
     "start_time": "2025-06-06T13:45:16.281596Z"
    }
   },
   "cell_type": "code",
   "source": "final.head()",
   "id": "e2b612a8a7f47eda",
   "outputs": [
    {
     "data": {
      "text/plain": [
       "         Unnamed: 0  type    amount  oldbalanceOrg  newbalanceOrig  \\\n",
       "2431590     2433864     0   8311.80      871553.85       879865.65   \n",
       "6062716     6068447     0  31931.85    10320041.27     10351973.12   \n",
       "5987285     5992034     0  17255.72       10946.00        28201.72   \n",
       "3579880     3582834     0  15558.61     3658693.32      3674251.93   \n",
       "3636412     3639537     0   9442.86           0.00         9442.86   \n",
       "\n",
       "         oldbalanceDest  newbalanceDest  isFraud  \n",
       "2431590        14865.15         6553.34        0  \n",
       "6062716        70876.85        38944.99        0  \n",
       "5987285      3665216.93      3647961.21        0  \n",
       "3579880       173519.39       157960.78        0  \n",
       "3636412        89555.86        80113.01        0  "
      ],
      "text/html": [
       "<div>\n",
       "<style scoped>\n",
       "    .dataframe tbody tr th:only-of-type {\n",
       "        vertical-align: middle;\n",
       "    }\n",
       "\n",
       "    .dataframe tbody tr th {\n",
       "        vertical-align: top;\n",
       "    }\n",
       "\n",
       "    .dataframe thead th {\n",
       "        text-align: right;\n",
       "    }\n",
       "</style>\n",
       "<table border=\"1\" class=\"dataframe\">\n",
       "  <thead>\n",
       "    <tr style=\"text-align: right;\">\n",
       "      <th></th>\n",
       "      <th>Unnamed: 0</th>\n",
       "      <th>type</th>\n",
       "      <th>amount</th>\n",
       "      <th>oldbalanceOrg</th>\n",
       "      <th>newbalanceOrig</th>\n",
       "      <th>oldbalanceDest</th>\n",
       "      <th>newbalanceDest</th>\n",
       "      <th>isFraud</th>\n",
       "    </tr>\n",
       "  </thead>\n",
       "  <tbody>\n",
       "    <tr>\n",
       "      <th>2431590</th>\n",
       "      <td>2433864</td>\n",
       "      <td>0</td>\n",
       "      <td>8311.80</td>\n",
       "      <td>871553.85</td>\n",
       "      <td>879865.65</td>\n",
       "      <td>14865.15</td>\n",
       "      <td>6553.34</td>\n",
       "      <td>0</td>\n",
       "    </tr>\n",
       "    <tr>\n",
       "      <th>6062716</th>\n",
       "      <td>6068447</td>\n",
       "      <td>0</td>\n",
       "      <td>31931.85</td>\n",
       "      <td>10320041.27</td>\n",
       "      <td>10351973.12</td>\n",
       "      <td>70876.85</td>\n",
       "      <td>38944.99</td>\n",
       "      <td>0</td>\n",
       "    </tr>\n",
       "    <tr>\n",
       "      <th>5987285</th>\n",
       "      <td>5992034</td>\n",
       "      <td>0</td>\n",
       "      <td>17255.72</td>\n",
       "      <td>10946.00</td>\n",
       "      <td>28201.72</td>\n",
       "      <td>3665216.93</td>\n",
       "      <td>3647961.21</td>\n",
       "      <td>0</td>\n",
       "    </tr>\n",
       "    <tr>\n",
       "      <th>3579880</th>\n",
       "      <td>3582834</td>\n",
       "      <td>0</td>\n",
       "      <td>15558.61</td>\n",
       "      <td>3658693.32</td>\n",
       "      <td>3674251.93</td>\n",
       "      <td>173519.39</td>\n",
       "      <td>157960.78</td>\n",
       "      <td>0</td>\n",
       "    </tr>\n",
       "    <tr>\n",
       "      <th>3636412</th>\n",
       "      <td>3639537</td>\n",
       "      <td>0</td>\n",
       "      <td>9442.86</td>\n",
       "      <td>0.00</td>\n",
       "      <td>9442.86</td>\n",
       "      <td>89555.86</td>\n",
       "      <td>80113.01</td>\n",
       "      <td>0</td>\n",
       "    </tr>\n",
       "  </tbody>\n",
       "</table>\n",
       "</div>"
      ]
     },
     "execution_count": 13,
     "metadata": {},
     "output_type": "execute_result"
    }
   ],
   "execution_count": 13
  },
  {
   "metadata": {},
   "cell_type": "code",
   "outputs": [],
   "execution_count": null,
   "source": "",
   "id": "bfe5baa8b95c85de"
  }
 ],
 "metadata": {
  "kernelspec": {
   "display_name": "Python 3",
   "language": "python",
   "name": "python3"
  },
  "language_info": {
   "codemirror_mode": {
    "name": "ipython",
    "version": 2
   },
   "file_extension": ".py",
   "mimetype": "text/x-python",
   "name": "python",
   "nbconvert_exporter": "python",
   "pygments_lexer": "ipython2",
   "version": "2.7.6"
  }
 },
 "nbformat": 4,
 "nbformat_minor": 5
}
